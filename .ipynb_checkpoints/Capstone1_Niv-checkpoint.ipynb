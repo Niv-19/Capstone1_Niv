{
 "cells": [
  {
   "cell_type": "code",
   "execution_count": 2,
   "metadata": {},
   "outputs": [],
   "source": [
    "import pandas as pd\n",
    "import matplotlib.pyplot as plt\n",
    "import numpy as np"
   ]
  },
  {
   "cell_type": "code",
   "execution_count": 3,
   "metadata": {},
   "outputs": [],
   "source": [
    "walmart_data_actual= pd.read_csv(\"/Users/nivzz/Downloads/Walmart_Store_sales.csv\")"
   ]
  },
  {
   "cell_type": "code",
   "execution_count": 4,
   "metadata": {},
   "outputs": [],
   "source": [
    "walmart_data=walmart_data_actual.copy()"
   ]
  },
  {
   "cell_type": "code",
   "execution_count": 5,
   "metadata": {},
   "outputs": [
    {
     "data": {
      "text/html": [
       "<div>\n",
       "<style scoped>\n",
       "    .dataframe tbody tr th:only-of-type {\n",
       "        vertical-align: middle;\n",
       "    }\n",
       "\n",
       "    .dataframe tbody tr th {\n",
       "        vertical-align: top;\n",
       "    }\n",
       "\n",
       "    .dataframe thead th {\n",
       "        text-align: right;\n",
       "    }\n",
       "</style>\n",
       "<table border=\"1\" class=\"dataframe\">\n",
       "  <thead>\n",
       "    <tr style=\"text-align: right;\">\n",
       "      <th></th>\n",
       "      <th>Store</th>\n",
       "      <th>Date</th>\n",
       "      <th>Weekly_Sales</th>\n",
       "      <th>Holiday_Flag</th>\n",
       "      <th>Temperature</th>\n",
       "      <th>Fuel_Price</th>\n",
       "      <th>CPI</th>\n",
       "      <th>Unemployment</th>\n",
       "    </tr>\n",
       "  </thead>\n",
       "  <tbody>\n",
       "    <tr>\n",
       "      <th>0</th>\n",
       "      <td>1</td>\n",
       "      <td>5/2/10</td>\n",
       "      <td>1643690.90</td>\n",
       "      <td>0</td>\n",
       "      <td>42.31</td>\n",
       "      <td>2.572</td>\n",
       "      <td>211.096358</td>\n",
       "      <td>8.106</td>\n",
       "    </tr>\n",
       "    <tr>\n",
       "      <th>1</th>\n",
       "      <td>1</td>\n",
       "      <td>12/2/10</td>\n",
       "      <td>1641957.44</td>\n",
       "      <td>1</td>\n",
       "      <td>38.51</td>\n",
       "      <td>2.548</td>\n",
       "      <td>211.242170</td>\n",
       "      <td>8.106</td>\n",
       "    </tr>\n",
       "    <tr>\n",
       "      <th>2</th>\n",
       "      <td>1</td>\n",
       "      <td>19-02-2010</td>\n",
       "      <td>1611968.17</td>\n",
       "      <td>0</td>\n",
       "      <td>39.93</td>\n",
       "      <td>2.514</td>\n",
       "      <td>211.289143</td>\n",
       "      <td>8.106</td>\n",
       "    </tr>\n",
       "    <tr>\n",
       "      <th>3</th>\n",
       "      <td>1</td>\n",
       "      <td>26-02-2010</td>\n",
       "      <td>1409727.59</td>\n",
       "      <td>0</td>\n",
       "      <td>46.63</td>\n",
       "      <td>2.561</td>\n",
       "      <td>211.319643</td>\n",
       "      <td>8.106</td>\n",
       "    </tr>\n",
       "    <tr>\n",
       "      <th>4</th>\n",
       "      <td>1</td>\n",
       "      <td>5/3/10</td>\n",
       "      <td>1554806.68</td>\n",
       "      <td>0</td>\n",
       "      <td>46.50</td>\n",
       "      <td>2.625</td>\n",
       "      <td>211.350143</td>\n",
       "      <td>8.106</td>\n",
       "    </tr>\n",
       "  </tbody>\n",
       "</table>\n",
       "</div>"
      ],
      "text/plain": [
       "   Store        Date  Weekly_Sales  Holiday_Flag  Temperature  Fuel_Price  \\\n",
       "0      1      5/2/10    1643690.90             0        42.31       2.572   \n",
       "1      1     12/2/10    1641957.44             1        38.51       2.548   \n",
       "2      1  19-02-2010    1611968.17             0        39.93       2.514   \n",
       "3      1  26-02-2010    1409727.59             0        46.63       2.561   \n",
       "4      1      5/3/10    1554806.68             0        46.50       2.625   \n",
       "\n",
       "          CPI  Unemployment  \n",
       "0  211.096358         8.106  \n",
       "1  211.242170         8.106  \n",
       "2  211.289143         8.106  \n",
       "3  211.319643         8.106  \n",
       "4  211.350143         8.106  "
      ]
     },
     "execution_count": 5,
     "metadata": {},
     "output_type": "execute_result"
    }
   ],
   "source": [
    "walmart_data.head()"
   ]
  },
  {
   "cell_type": "code",
   "execution_count": 8,
   "metadata": {},
   "outputs": [
    {
     "data": {
      "text/html": [
       "<div>\n",
       "<style scoped>\n",
       "    .dataframe tbody tr th:only-of-type {\n",
       "        vertical-align: middle;\n",
       "    }\n",
       "\n",
       "    .dataframe tbody tr th {\n",
       "        vertical-align: top;\n",
       "    }\n",
       "\n",
       "    .dataframe thead th {\n",
       "        text-align: right;\n",
       "    }\n",
       "</style>\n",
       "<table border=\"1\" class=\"dataframe\">\n",
       "  <thead>\n",
       "    <tr style=\"text-align: right;\">\n",
       "      <th></th>\n",
       "      <th>Store</th>\n",
       "      <th>Date</th>\n",
       "      <th>Weekly_Sales</th>\n",
       "      <th>Holiday_Flag</th>\n",
       "      <th>Temperature</th>\n",
       "      <th>Fuel_Price</th>\n",
       "      <th>CPI</th>\n",
       "      <th>Unemployment</th>\n",
       "    </tr>\n",
       "  </thead>\n",
       "  <tbody>\n",
       "    <tr>\n",
       "      <th>0</th>\n",
       "      <td>1</td>\n",
       "      <td>2010-05-02</td>\n",
       "      <td>1643690.90</td>\n",
       "      <td>0</td>\n",
       "      <td>42.31</td>\n",
       "      <td>2.572</td>\n",
       "      <td>211.096358</td>\n",
       "      <td>8.106</td>\n",
       "    </tr>\n",
       "    <tr>\n",
       "      <th>1</th>\n",
       "      <td>1</td>\n",
       "      <td>2010-12-02</td>\n",
       "      <td>1641957.44</td>\n",
       "      <td>1</td>\n",
       "      <td>38.51</td>\n",
       "      <td>2.548</td>\n",
       "      <td>211.242170</td>\n",
       "      <td>8.106</td>\n",
       "    </tr>\n",
       "    <tr>\n",
       "      <th>2</th>\n",
       "      <td>1</td>\n",
       "      <td>2010-02-19</td>\n",
       "      <td>1611968.17</td>\n",
       "      <td>0</td>\n",
       "      <td>39.93</td>\n",
       "      <td>2.514</td>\n",
       "      <td>211.289143</td>\n",
       "      <td>8.106</td>\n",
       "    </tr>\n",
       "    <tr>\n",
       "      <th>3</th>\n",
       "      <td>1</td>\n",
       "      <td>2010-02-26</td>\n",
       "      <td>1409727.59</td>\n",
       "      <td>0</td>\n",
       "      <td>46.63</td>\n",
       "      <td>2.561</td>\n",
       "      <td>211.319643</td>\n",
       "      <td>8.106</td>\n",
       "    </tr>\n",
       "    <tr>\n",
       "      <th>4</th>\n",
       "      <td>1</td>\n",
       "      <td>2010-05-03</td>\n",
       "      <td>1554806.68</td>\n",
       "      <td>0</td>\n",
       "      <td>46.50</td>\n",
       "      <td>2.625</td>\n",
       "      <td>211.350143</td>\n",
       "      <td>8.106</td>\n",
       "    </tr>\n",
       "  </tbody>\n",
       "</table>\n",
       "</div>"
      ],
      "text/plain": [
       "   Store       Date  Weekly_Sales  Holiday_Flag  Temperature  Fuel_Price  \\\n",
       "0      1 2010-05-02    1643690.90             0        42.31       2.572   \n",
       "1      1 2010-12-02    1641957.44             1        38.51       2.548   \n",
       "2      1 2010-02-19    1611968.17             0        39.93       2.514   \n",
       "3      1 2010-02-26    1409727.59             0        46.63       2.561   \n",
       "4      1 2010-05-03    1554806.68             0        46.50       2.625   \n",
       "\n",
       "          CPI  Unemployment  \n",
       "0  211.096358         8.106  \n",
       "1  211.242170         8.106  \n",
       "2  211.289143         8.106  \n",
       "3  211.319643         8.106  \n",
       "4  211.350143         8.106  "
      ]
     },
     "execution_count": 8,
     "metadata": {},
     "output_type": "execute_result"
    }
   ],
   "source": [
    "#changing Date to one format\n",
    "walmart_data['Date']=pd.to_datetime(walmart_data['Date'], utc=False)\n",
    "#walmart_data['Date'] = pd.to_datetime(walmart_data.Date)\n",
    "walmart_data.head()"
   ]
  },
  {
   "cell_type": "code",
   "execution_count": 9,
   "metadata": {},
   "outputs": [
    {
     "name": "stdout",
     "output_type": "stream",
     "text": [
      "<class 'pandas.core.frame.DataFrame'>\n",
      "RangeIndex: 6435 entries, 0 to 6434\n",
      "Data columns (total 8 columns):\n",
      "Store           6435 non-null int64\n",
      "Date            6435 non-null datetime64[ns]\n",
      "Weekly_Sales    6435 non-null float64\n",
      "Holiday_Flag    6435 non-null int64\n",
      "Temperature     6435 non-null float64\n",
      "Fuel_Price      6435 non-null float64\n",
      "CPI             6435 non-null float64\n",
      "Unemployment    6435 non-null float64\n",
      "dtypes: datetime64[ns](1), float64(5), int64(2)\n",
      "memory usage: 402.3 KB\n"
     ]
    }
   ],
   "source": [
    "walmart_data.info()"
   ]
  },
  {
   "cell_type": "code",
   "execution_count": 10,
   "metadata": {},
   "outputs": [
    {
     "data": {
      "text/html": [
       "<div>\n",
       "<style scoped>\n",
       "    .dataframe tbody tr th:only-of-type {\n",
       "        vertical-align: middle;\n",
       "    }\n",
       "\n",
       "    .dataframe tbody tr th {\n",
       "        vertical-align: top;\n",
       "    }\n",
       "\n",
       "    .dataframe thead th {\n",
       "        text-align: right;\n",
       "    }\n",
       "</style>\n",
       "<table border=\"1\" class=\"dataframe\">\n",
       "  <thead>\n",
       "    <tr style=\"text-align: right;\">\n",
       "      <th></th>\n",
       "      <th>Store</th>\n",
       "      <th>Weekly_Sales</th>\n",
       "      <th>Holiday_Flag</th>\n",
       "      <th>Temperature</th>\n",
       "      <th>Fuel_Price</th>\n",
       "      <th>CPI</th>\n",
       "      <th>Unemployment</th>\n",
       "    </tr>\n",
       "  </thead>\n",
       "  <tbody>\n",
       "    <tr>\n",
       "      <th>count</th>\n",
       "      <td>6435.000000</td>\n",
       "      <td>6.435000e+03</td>\n",
       "      <td>6435.000000</td>\n",
       "      <td>6435.000000</td>\n",
       "      <td>6435.000000</td>\n",
       "      <td>6435.000000</td>\n",
       "      <td>6435.000000</td>\n",
       "    </tr>\n",
       "    <tr>\n",
       "      <th>mean</th>\n",
       "      <td>23.000000</td>\n",
       "      <td>1.046965e+06</td>\n",
       "      <td>0.069930</td>\n",
       "      <td>60.663782</td>\n",
       "      <td>3.358607</td>\n",
       "      <td>171.578394</td>\n",
       "      <td>7.999151</td>\n",
       "    </tr>\n",
       "    <tr>\n",
       "      <th>std</th>\n",
       "      <td>12.988182</td>\n",
       "      <td>5.643666e+05</td>\n",
       "      <td>0.255049</td>\n",
       "      <td>18.444933</td>\n",
       "      <td>0.459020</td>\n",
       "      <td>39.356712</td>\n",
       "      <td>1.875885</td>\n",
       "    </tr>\n",
       "    <tr>\n",
       "      <th>min</th>\n",
       "      <td>1.000000</td>\n",
       "      <td>2.099862e+05</td>\n",
       "      <td>0.000000</td>\n",
       "      <td>-2.060000</td>\n",
       "      <td>2.472000</td>\n",
       "      <td>126.064000</td>\n",
       "      <td>3.879000</td>\n",
       "    </tr>\n",
       "    <tr>\n",
       "      <th>25%</th>\n",
       "      <td>12.000000</td>\n",
       "      <td>5.533501e+05</td>\n",
       "      <td>0.000000</td>\n",
       "      <td>47.460000</td>\n",
       "      <td>2.933000</td>\n",
       "      <td>131.735000</td>\n",
       "      <td>6.891000</td>\n",
       "    </tr>\n",
       "    <tr>\n",
       "      <th>50%</th>\n",
       "      <td>23.000000</td>\n",
       "      <td>9.607460e+05</td>\n",
       "      <td>0.000000</td>\n",
       "      <td>62.670000</td>\n",
       "      <td>3.445000</td>\n",
       "      <td>182.616521</td>\n",
       "      <td>7.874000</td>\n",
       "    </tr>\n",
       "    <tr>\n",
       "      <th>75%</th>\n",
       "      <td>34.000000</td>\n",
       "      <td>1.420159e+06</td>\n",
       "      <td>0.000000</td>\n",
       "      <td>74.940000</td>\n",
       "      <td>3.735000</td>\n",
       "      <td>212.743293</td>\n",
       "      <td>8.622000</td>\n",
       "    </tr>\n",
       "    <tr>\n",
       "      <th>max</th>\n",
       "      <td>45.000000</td>\n",
       "      <td>3.818686e+06</td>\n",
       "      <td>1.000000</td>\n",
       "      <td>100.140000</td>\n",
       "      <td>4.468000</td>\n",
       "      <td>227.232807</td>\n",
       "      <td>14.313000</td>\n",
       "    </tr>\n",
       "  </tbody>\n",
       "</table>\n",
       "</div>"
      ],
      "text/plain": [
       "             Store  Weekly_Sales  Holiday_Flag  Temperature   Fuel_Price  \\\n",
       "count  6435.000000  6.435000e+03   6435.000000  6435.000000  6435.000000   \n",
       "mean     23.000000  1.046965e+06      0.069930    60.663782     3.358607   \n",
       "std      12.988182  5.643666e+05      0.255049    18.444933     0.459020   \n",
       "min       1.000000  2.099862e+05      0.000000    -2.060000     2.472000   \n",
       "25%      12.000000  5.533501e+05      0.000000    47.460000     2.933000   \n",
       "50%      23.000000  9.607460e+05      0.000000    62.670000     3.445000   \n",
       "75%      34.000000  1.420159e+06      0.000000    74.940000     3.735000   \n",
       "max      45.000000  3.818686e+06      1.000000   100.140000     4.468000   \n",
       "\n",
       "               CPI  Unemployment  \n",
       "count  6435.000000   6435.000000  \n",
       "mean    171.578394      7.999151  \n",
       "std      39.356712      1.875885  \n",
       "min     126.064000      3.879000  \n",
       "25%     131.735000      6.891000  \n",
       "50%     182.616521      7.874000  \n",
       "75%     212.743293      8.622000  \n",
       "max     227.232807     14.313000  "
      ]
     },
     "execution_count": 10,
     "metadata": {},
     "output_type": "execute_result"
    }
   ],
   "source": [
    "walmart_data.describe()"
   ]
  },
  {
   "cell_type": "code",
   "execution_count": 8,
   "metadata": {},
   "outputs": [
    {
     "data": {
      "text/html": [
       "<div>\n",
       "<style scoped>\n",
       "    .dataframe tbody tr th:only-of-type {\n",
       "        vertical-align: middle;\n",
       "    }\n",
       "\n",
       "    .dataframe tbody tr th {\n",
       "        vertical-align: top;\n",
       "    }\n",
       "\n",
       "    .dataframe thead th {\n",
       "        text-align: right;\n",
       "    }\n",
       "</style>\n",
       "<table border=\"1\" class=\"dataframe\">\n",
       "  <thead>\n",
       "    <tr style=\"text-align: right;\">\n",
       "      <th></th>\n",
       "      <th>Store</th>\n",
       "      <th>Weekly_Sales</th>\n",
       "      <th>Holiday_Flag</th>\n",
       "      <th>Temperature</th>\n",
       "      <th>Fuel_Price</th>\n",
       "      <th>CPI</th>\n",
       "      <th>Unemployment</th>\n",
       "    </tr>\n",
       "  </thead>\n",
       "  <tbody>\n",
       "    <tr>\n",
       "      <th>Store</th>\n",
       "      <td>1.000000e+00</td>\n",
       "      <td>-0.335332</td>\n",
       "      <td>6.250842e-20</td>\n",
       "      <td>-0.022659</td>\n",
       "      <td>0.060023</td>\n",
       "      <td>-0.209492</td>\n",
       "      <td>0.223531</td>\n",
       "    </tr>\n",
       "    <tr>\n",
       "      <th>Weekly_Sales</th>\n",
       "      <td>-3.353320e-01</td>\n",
       "      <td>1.000000</td>\n",
       "      <td>3.689097e-02</td>\n",
       "      <td>-0.063810</td>\n",
       "      <td>0.009464</td>\n",
       "      <td>-0.072634</td>\n",
       "      <td>-0.106176</td>\n",
       "    </tr>\n",
       "    <tr>\n",
       "      <th>Holiday_Flag</th>\n",
       "      <td>6.250842e-20</td>\n",
       "      <td>0.036891</td>\n",
       "      <td>1.000000e+00</td>\n",
       "      <td>-0.155091</td>\n",
       "      <td>-0.078347</td>\n",
       "      <td>-0.002162</td>\n",
       "      <td>0.010960</td>\n",
       "    </tr>\n",
       "    <tr>\n",
       "      <th>Temperature</th>\n",
       "      <td>-2.265908e-02</td>\n",
       "      <td>-0.063810</td>\n",
       "      <td>-1.550913e-01</td>\n",
       "      <td>1.000000</td>\n",
       "      <td>0.144982</td>\n",
       "      <td>0.176888</td>\n",
       "      <td>0.101158</td>\n",
       "    </tr>\n",
       "    <tr>\n",
       "      <th>Fuel_Price</th>\n",
       "      <td>6.002295e-02</td>\n",
       "      <td>0.009464</td>\n",
       "      <td>-7.834652e-02</td>\n",
       "      <td>0.144982</td>\n",
       "      <td>1.000000</td>\n",
       "      <td>-0.170642</td>\n",
       "      <td>-0.034684</td>\n",
       "    </tr>\n",
       "    <tr>\n",
       "      <th>CPI</th>\n",
       "      <td>-2.094919e-01</td>\n",
       "      <td>-0.072634</td>\n",
       "      <td>-2.162091e-03</td>\n",
       "      <td>0.176888</td>\n",
       "      <td>-0.170642</td>\n",
       "      <td>1.000000</td>\n",
       "      <td>-0.302020</td>\n",
       "    </tr>\n",
       "    <tr>\n",
       "      <th>Unemployment</th>\n",
       "      <td>2.235313e-01</td>\n",
       "      <td>-0.106176</td>\n",
       "      <td>1.096028e-02</td>\n",
       "      <td>0.101158</td>\n",
       "      <td>-0.034684</td>\n",
       "      <td>-0.302020</td>\n",
       "      <td>1.000000</td>\n",
       "    </tr>\n",
       "  </tbody>\n",
       "</table>\n",
       "</div>"
      ],
      "text/plain": [
       "                     Store  Weekly_Sales  Holiday_Flag  Temperature  \\\n",
       "Store         1.000000e+00     -0.335332  6.250842e-20    -0.022659   \n",
       "Weekly_Sales -3.353320e-01      1.000000  3.689097e-02    -0.063810   \n",
       "Holiday_Flag  6.250842e-20      0.036891  1.000000e+00    -0.155091   \n",
       "Temperature  -2.265908e-02     -0.063810 -1.550913e-01     1.000000   \n",
       "Fuel_Price    6.002295e-02      0.009464 -7.834652e-02     0.144982   \n",
       "CPI          -2.094919e-01     -0.072634 -2.162091e-03     0.176888   \n",
       "Unemployment  2.235313e-01     -0.106176  1.096028e-02     0.101158   \n",
       "\n",
       "              Fuel_Price       CPI  Unemployment  \n",
       "Store           0.060023 -0.209492      0.223531  \n",
       "Weekly_Sales    0.009464 -0.072634     -0.106176  \n",
       "Holiday_Flag   -0.078347 -0.002162      0.010960  \n",
       "Temperature     0.144982  0.176888      0.101158  \n",
       "Fuel_Price      1.000000 -0.170642     -0.034684  \n",
       "CPI            -0.170642  1.000000     -0.302020  \n",
       "Unemployment   -0.034684 -0.302020      1.000000  "
      ]
     },
     "execution_count": 8,
     "metadata": {},
     "output_type": "execute_result"
    }
   ],
   "source": [
    "walmart_data.corr() #Holiday_flag & store | Fuel_price & Holiday_flag (-)|"
   ]
  },
  {
   "cell_type": "code",
   "execution_count": 9,
   "metadata": {},
   "outputs": [
    {
     "data": {
      "image/png": "[encoded data removed]",
      "text/plain": [
       "<Figure size 432x288 with 9 Axes>"
      ]
     },
     "metadata": {
      "needs_background": "light"
     },
     "output_type": "display_data"
    }
   ],
   "source": [
    "walmart_data.hist()\n",
    "plt.tight_layout()"
   ]
  },
  {
   "cell_type": "code",
   "execution_count": 10,
   "metadata": {},
   "outputs": [],
   "source": [
    "#checking all unique unemployment rate\n",
    "unique_employment_index=walmart_data['Unemployment'].unique()"
   ]
  },
  {
   "cell_type": "code",
   "execution_count": 11,
   "metadata": {},
   "outputs": [
    {
     "data": {
      "image/png": "[encoded data removed]",
      "text/plain": [
       "<Figure size 432x288 with 1 Axes>"
      ]
     },
     "metadata": {
      "needs_background": "light"
     },
     "output_type": "display_data"
    }
   ],
   "source": [
    "#Scatter plot between Unemployment vs Weekly Sales per store\n",
    "y=walmart_data[['Unemployment']].groupby(walmart_data['Store'])['Unemployment'].median()\n",
    "z=walmart_data.groupby(walmart_data['Store'])['Weekly_Sales'].mean()\n",
    "x=range(1,46)\n",
    "plt.scatter(x,y,c='r')\n",
    "plt.scatter(x,z,c='b')\n",
    "\n",
    "plt.show()"
   ]
  },
  {
   "cell_type": "code",
   "execution_count": 12,
   "metadata": {},
   "outputs": [
    {
     "data": {
      "text/html": [
       "<div>\n",
       "<style scoped>\n",
       "    .dataframe tbody tr th:only-of-type {\n",
       "        vertical-align: middle;\n",
       "    }\n",
       "\n",
       "    .dataframe tbody tr th {\n",
       "        vertical-align: top;\n",
       "    }\n",
       "\n",
       "    .dataframe thead th {\n",
       "        text-align: right;\n",
       "    }\n",
       "</style>\n",
       "<table border=\"1\" class=\"dataframe\">\n",
       "  <thead>\n",
       "    <tr style=\"text-align: right;\">\n",
       "      <th></th>\n",
       "      <th>Store</th>\n",
       "      <th>Date</th>\n",
       "      <th>Weekly_Sales</th>\n",
       "      <th>Holiday_Flag</th>\n",
       "      <th>Temperature</th>\n",
       "      <th>Fuel_Price</th>\n",
       "      <th>CPI</th>\n",
       "      <th>Unemployment</th>\n",
       "    </tr>\n",
       "  </thead>\n",
       "  <tbody>\n",
       "    <tr>\n",
       "      <th>1905</th>\n",
       "      <td>14</td>\n",
       "      <td>2010-12-24</td>\n",
       "      <td>3818686.45</td>\n",
       "      <td>0</td>\n",
       "      <td>30.59</td>\n",
       "      <td>3.141</td>\n",
       "      <td>182.54459</td>\n",
       "      <td>8.724</td>\n",
       "    </tr>\n",
       "  </tbody>\n",
       "</table>\n",
       "</div>"
      ],
      "text/plain": [
       "      Store       Date  Weekly_Sales  Holiday_Flag  Temperature  Fuel_Price  \\\n",
       "1905     14 2010-12-24    3818686.45             0        30.59       3.141   \n",
       "\n",
       "            CPI  Unemployment  \n",
       "1905  182.54459         8.724  "
      ]
     },
     "execution_count": 12,
     "metadata": {},
     "output_type": "execute_result"
    }
   ],
   "source": [
    "#Store that has maximum sale\n",
    "Max_sale=walmart_data.loc[[walmart_data['Weekly_Sales'].idxmax()]]\n",
    "Max_sale"
   ]
  },
  {
   "cell_type": "code",
   "execution_count": 13,
   "metadata": {},
   "outputs": [
    {
     "data": {
      "text/html": [
       "<div>\n",
       "<style scoped>\n",
       "    .dataframe tbody tr th:only-of-type {\n",
       "        vertical-align: middle;\n",
       "    }\n",
       "\n",
       "    .dataframe tbody tr th {\n",
       "        vertical-align: top;\n",
       "    }\n",
       "\n",
       "    .dataframe thead th {\n",
       "        text-align: right;\n",
       "    }\n",
       "</style>\n",
       "<table border=\"1\" class=\"dataframe\">\n",
       "  <thead>\n",
       "    <tr style=\"text-align: right;\">\n",
       "      <th></th>\n",
       "      <th>Store</th>\n",
       "      <th>Date</th>\n",
       "      <th>Weekly_Sales</th>\n",
       "      <th>Holiday_Flag</th>\n",
       "      <th>Temperature</th>\n",
       "      <th>Fuel_Price</th>\n",
       "      <th>CPI</th>\n",
       "      <th>Unemployment</th>\n",
       "    </tr>\n",
       "  </thead>\n",
       "  <tbody>\n",
       "    <tr>\n",
       "      <th>1905</th>\n",
       "      <td>14</td>\n",
       "      <td>2010-12-24</td>\n",
       "      <td>3818686.45</td>\n",
       "      <td>0</td>\n",
       "      <td>30.59</td>\n",
       "      <td>3.141</td>\n",
       "      <td>182.544590</td>\n",
       "      <td>8.724</td>\n",
       "    </tr>\n",
       "    <tr>\n",
       "      <th>2763</th>\n",
       "      <td>20</td>\n",
       "      <td>2010-12-24</td>\n",
       "      <td>3766687.43</td>\n",
       "      <td>0</td>\n",
       "      <td>25.17</td>\n",
       "      <td>3.141</td>\n",
       "      <td>204.637673</td>\n",
       "      <td>7.484</td>\n",
       "    </tr>\n",
       "    <tr>\n",
       "      <th>1333</th>\n",
       "      <td>10</td>\n",
       "      <td>2010-12-24</td>\n",
       "      <td>3749057.69</td>\n",
       "      <td>0</td>\n",
       "      <td>57.06</td>\n",
       "      <td>3.236</td>\n",
       "      <td>126.983581</td>\n",
       "      <td>9.003</td>\n",
       "    </tr>\n",
       "    <tr>\n",
       "      <th>527</th>\n",
       "      <td>4</td>\n",
       "      <td>2011-12-23</td>\n",
       "      <td>3676388.98</td>\n",
       "      <td>0</td>\n",
       "      <td>35.92</td>\n",
       "      <td>3.103</td>\n",
       "      <td>129.984548</td>\n",
       "      <td>5.143</td>\n",
       "    </tr>\n",
       "    <tr>\n",
       "      <th>1762</th>\n",
       "      <td>13</td>\n",
       "      <td>2010-12-24</td>\n",
       "      <td>3595903.20</td>\n",
       "      <td>0</td>\n",
       "      <td>34.90</td>\n",
       "      <td>2.846</td>\n",
       "      <td>126.983581</td>\n",
       "      <td>7.795</td>\n",
       "    </tr>\n",
       "    <tr>\n",
       "      <th>1814</th>\n",
       "      <td>13</td>\n",
       "      <td>2011-12-23</td>\n",
       "      <td>3556766.03</td>\n",
       "      <td>0</td>\n",
       "      <td>24.76</td>\n",
       "      <td>3.186</td>\n",
       "      <td>129.984548</td>\n",
       "      <td>6.392</td>\n",
       "    </tr>\n",
       "    <tr>\n",
       "      <th>2815</th>\n",
       "      <td>20</td>\n",
       "      <td>2011-12-23</td>\n",
       "      <td>3555371.03</td>\n",
       "      <td>0</td>\n",
       "      <td>40.19</td>\n",
       "      <td>3.389</td>\n",
       "      <td>212.236040</td>\n",
       "      <td>7.082</td>\n",
       "    </tr>\n",
       "    <tr>\n",
       "      <th>475</th>\n",
       "      <td>4</td>\n",
       "      <td>2010-12-24</td>\n",
       "      <td>3526713.39</td>\n",
       "      <td>0</td>\n",
       "      <td>43.21</td>\n",
       "      <td>2.887</td>\n",
       "      <td>126.983581</td>\n",
       "      <td>7.127</td>\n",
       "    </tr>\n",
       "    <tr>\n",
       "      <th>1385</th>\n",
       "      <td>10</td>\n",
       "      <td>2011-12-23</td>\n",
       "      <td>3487986.89</td>\n",
       "      <td>0</td>\n",
       "      <td>48.36</td>\n",
       "      <td>3.541</td>\n",
       "      <td>129.984548</td>\n",
       "      <td>7.874</td>\n",
       "    </tr>\n",
       "    <tr>\n",
       "      <th>189</th>\n",
       "      <td>2</td>\n",
       "      <td>2010-12-24</td>\n",
       "      <td>3436007.68</td>\n",
       "      <td>0</td>\n",
       "      <td>49.97</td>\n",
       "      <td>2.886</td>\n",
       "      <td>211.064660</td>\n",
       "      <td>8.163</td>\n",
       "    </tr>\n",
       "  </tbody>\n",
       "</table>\n",
       "</div>"
      ],
      "text/plain": [
       "      Store       Date  Weekly_Sales  Holiday_Flag  Temperature  Fuel_Price  \\\n",
       "1905     14 2010-12-24    3818686.45             0        30.59       3.141   \n",
       "2763     20 2010-12-24    3766687.43             0        25.17       3.141   \n",
       "1333     10 2010-12-24    3749057.69             0        57.06       3.236   \n",
       "527       4 2011-12-23    3676388.98             0        35.92       3.103   \n",
       "1762     13 2010-12-24    3595903.20             0        34.90       2.846   \n",
       "1814     13 2011-12-23    3556766.03             0        24.76       3.186   \n",
       "2815     20 2011-12-23    3555371.03             0        40.19       3.389   \n",
       "475       4 2010-12-24    3526713.39             0        43.21       2.887   \n",
       "1385     10 2011-12-23    3487986.89             0        48.36       3.541   \n",
       "189       2 2010-12-24    3436007.68             0        49.97       2.886   \n",
       "\n",
       "             CPI  Unemployment  \n",
       "1905  182.544590         8.724  \n",
       "2763  204.637673         7.484  \n",
       "1333  126.983581         9.003  \n",
       "527   129.984548         5.143  \n",
       "1762  126.983581         7.795  \n",
       "1814  129.984548         6.392  \n",
       "2815  212.236040         7.082  \n",
       "475   126.983581         7.127  \n",
       "1385  129.984548         7.874  \n",
       "189   211.064660         8.163  "
      ]
     },
     "execution_count": 13,
     "metadata": {},
     "output_type": "execute_result"
    }
   ],
   "source": [
    "#Top 10 Weekly_sales\n",
    "val=walmart_data.sort_values(by='Weekly_Sales', ascending=False)\n",
    "val.head(10)"
   ]
  },
  {
   "cell_type": "code",
   "execution_count": 14,
   "metadata": {},
   "outputs": [
    {
     "data": {
      "text/html": [
       "<div>\n",
       "<style scoped>\n",
       "    .dataframe tbody tr th:only-of-type {\n",
       "        vertical-align: middle;\n",
       "    }\n",
       "\n",
       "    .dataframe tbody tr th {\n",
       "        vertical-align: top;\n",
       "    }\n",
       "\n",
       "    .dataframe thead th {\n",
       "        text-align: right;\n",
       "    }\n",
       "</style>\n",
       "<table border=\"1\" class=\"dataframe\">\n",
       "  <thead>\n",
       "    <tr style=\"text-align: right;\">\n",
       "      <th></th>\n",
       "      <th>Store</th>\n",
       "      <th>Date</th>\n",
       "      <th>Weekly_Sales</th>\n",
       "      <th>Holiday_Flag</th>\n",
       "      <th>Temperature</th>\n",
       "      <th>Fuel_Price</th>\n",
       "      <th>CPI</th>\n",
       "      <th>Unemployment</th>\n",
       "    </tr>\n",
       "  </thead>\n",
       "  <tbody>\n",
       "    <tr>\n",
       "      <th>0</th>\n",
       "      <td>1</td>\n",
       "      <td>2010-05-02</td>\n",
       "      <td>1643690.90</td>\n",
       "      <td>0</td>\n",
       "      <td>42.31</td>\n",
       "      <td>2.572</td>\n",
       "      <td>211.096358</td>\n",
       "      <td>8.106</td>\n",
       "    </tr>\n",
       "    <tr>\n",
       "      <th>1</th>\n",
       "      <td>1</td>\n",
       "      <td>2010-12-02</td>\n",
       "      <td>1641957.44</td>\n",
       "      <td>1</td>\n",
       "      <td>38.51</td>\n",
       "      <td>2.548</td>\n",
       "      <td>211.242170</td>\n",
       "      <td>8.106</td>\n",
       "    </tr>\n",
       "    <tr>\n",
       "      <th>2</th>\n",
       "      <td>1</td>\n",
       "      <td>2010-02-19</td>\n",
       "      <td>1611968.17</td>\n",
       "      <td>0</td>\n",
       "      <td>39.93</td>\n",
       "      <td>2.514</td>\n",
       "      <td>211.289143</td>\n",
       "      <td>8.106</td>\n",
       "    </tr>\n",
       "    <tr>\n",
       "      <th>3</th>\n",
       "      <td>1</td>\n",
       "      <td>2010-02-26</td>\n",
       "      <td>1409727.59</td>\n",
       "      <td>0</td>\n",
       "      <td>46.63</td>\n",
       "      <td>2.561</td>\n",
       "      <td>211.319643</td>\n",
       "      <td>8.106</td>\n",
       "    </tr>\n",
       "    <tr>\n",
       "      <th>4</th>\n",
       "      <td>1</td>\n",
       "      <td>2010-05-03</td>\n",
       "      <td>1554806.68</td>\n",
       "      <td>0</td>\n",
       "      <td>46.50</td>\n",
       "      <td>2.625</td>\n",
       "      <td>211.350143</td>\n",
       "      <td>8.106</td>\n",
       "    </tr>\n",
       "  </tbody>\n",
       "</table>\n",
       "</div>"
      ],
      "text/plain": [
       "   Store       Date  Weekly_Sales  Holiday_Flag  Temperature  Fuel_Price  \\\n",
       "0      1 2010-05-02    1643690.90             0        42.31       2.572   \n",
       "1      1 2010-12-02    1641957.44             1        38.51       2.548   \n",
       "2      1 2010-02-19    1611968.17             0        39.93       2.514   \n",
       "3      1 2010-02-26    1409727.59             0        46.63       2.561   \n",
       "4      1 2010-05-03    1554806.68             0        46.50       2.625   \n",
       "\n",
       "          CPI  Unemployment  \n",
       "0  211.096358         8.106  \n",
       "1  211.242170         8.106  \n",
       "2  211.289143         8.106  \n",
       "3  211.319643         8.106  \n",
       "4  211.350143         8.106  "
      ]
     },
     "execution_count": 14,
     "metadata": {},
     "output_type": "execute_result"
    }
   ],
   "source": [
    "#Updating the Date column to year-month-date format\n",
    "walmart_data['Date'] = pd.to_datetime(walmart_data.Date)\n",
    "walmart_data.head()\n"
   ]
  },
  {
   "cell_type": "code",
   "execution_count": 141,
   "metadata": {},
   "outputs": [
    {
     "data": {
      "text/plain": [
       "<matplotlib.collections.PathCollection at 0x11db1f9e8>"
      ]
     },
     "execution_count": 141,
     "metadata": {},
     "output_type": "execute_result"
    },
    {
     "data": {
      "image/png": "[encoded data removed]",
      "text/plain": [
       "<Figure size 432x288 with 1 Axes>"
      ]
     },
     "metadata": {
      "needs_background": "light"
     },
     "output_type": "display_data"
    }
   ],
   "source": [
    "x=walmart_data.Weekly_Sales\n",
    "y=walmart_data.Unemployment\n",
    "plt.scatter(x,y)\n"
   ]
  },
  {
   "cell_type": "code",
   "execution_count": 22,
   "metadata": {},
   "outputs": [
    {
     "data": {
      "image/png": "[encoded data removed]",
      "text/plain": [
       "<Figure size 432x288 with 1 Axes>"
      ]
     },
     "metadata": {
      "needs_background": "light"
     },
     "output_type": "display_data"
    }
   ],
   "source": [
    "y=walmart_data.Weekly_Sales\n",
    "x=walmart_data.CPI\n",
    "plt.scatter(x,y,c='r')\n",
    "plt.tight_layout()"
   ]
  },
  {
   "cell_type": "code",
   "execution_count": 23,
   "metadata": {},
   "outputs": [
    {
     "data": {
      "image/png": "[encoded data removed]",
      "text/plain": [
       "<Figure size 432x288 with 1 Axes>"
      ]
     },
     "metadata": {
      "needs_background": "light"
     },
     "output_type": "display_data"
    }
   ],
   "source": [
    "x=walmart_data.Fuel_Price\n",
    "y=walmart_data.Weekly_Sales\n",
    "plt.scatter(x,y,c='g')\n",
    "plt.tight_layout()"
   ]
  },
  {
   "cell_type": "code",
   "execution_count": 24,
   "metadata": {},
   "outputs": [
    {
     "data": {
      "image/png": "[encoded data removed]",
      "text/plain": [
       "<Figure size 432x288 with 1 Axes>"
      ]
     },
     "metadata": {
      "needs_background": "light"
     },
     "output_type": "display_data"
    }
   ],
   "source": [
    "x=walmart_data.Temperature\n",
    "y=walmart_data.Weekly_Sales\n",
    "plt.scatter(x,y,c='y')\n",
    "plt.tight_layout()"
   ]
  },
  {
   "cell_type": "code",
   "execution_count": 73,
   "metadata": {},
   "outputs": [
    {
     "data": {
      "image/png": "[encoded data removed]",
      "text/plain": [
       "<Figure size 432x288 with 1 Axes>"
      ]
     },
     "metadata": {
      "needs_background": "light"
     },
     "output_type": "display_data"
    }
   ],
   "source": [
    "#holiday shopping mainly before the holiday week.\n",
    "x=walmart_data.Holiday_Flag\n",
    "y=walmart_data.Weekly_Sales\n",
    "plt.bar(x,y)\n",
    "plt.tight_layout()"
   ]
  },
  {
   "cell_type": "code",
   "execution_count": 74,
   "metadata": {},
   "outputs": [
    {
     "data": {
      "image/png": "[encoded data removed]",
      "text/plain": [
       "<Figure size 432x288 with 1 Axes>"
      ]
     },
     "metadata": {
      "needs_background": "light"
     },
     "output_type": "display_data"
    }
   ],
   "source": [
    "#location is important for high weekly sales\n",
    "x=walmart_data.Store\n",
    "y=walmart_data.Weekly_Sales\n",
    "plt.bar(x,y)\n",
    "plt.tight_layout()"
   ]
  },
  {
   "cell_type": "code",
   "execution_count": 15,
   "metadata": {},
   "outputs": [
    {
     "data": {
      "text/html": [
       "<div>\n",
       "<style scoped>\n",
       "    .dataframe tbody tr th:only-of-type {\n",
       "        vertical-align: middle;\n",
       "    }\n",
       "\n",
       "    .dataframe tbody tr th {\n",
       "        vertical-align: top;\n",
       "    }\n",
       "\n",
       "    .dataframe thead th {\n",
       "        text-align: right;\n",
       "    }\n",
       "</style>\n",
       "<table border=\"1\" class=\"dataframe\">\n",
       "  <thead>\n",
       "    <tr style=\"text-align: right;\">\n",
       "      <th></th>\n",
       "      <th>Weekly_Sales</th>\n",
       "      <th>Store</th>\n",
       "      <th>Date</th>\n",
       "      <th>CPI</th>\n",
       "      <th>Fuel_Price</th>\n",
       "      <th>Unemployment</th>\n",
       "    </tr>\n",
       "  </thead>\n",
       "  <tbody>\n",
       "    <tr>\n",
       "      <th>1905</th>\n",
       "      <td>3818686.45</td>\n",
       "      <td>14</td>\n",
       "      <td>2010-12-24</td>\n",
       "      <td>182.544590</td>\n",
       "      <td>3.141</td>\n",
       "      <td>8.724</td>\n",
       "    </tr>\n",
       "    <tr>\n",
       "      <th>2763</th>\n",
       "      <td>3766687.43</td>\n",
       "      <td>20</td>\n",
       "      <td>2010-12-24</td>\n",
       "      <td>204.637673</td>\n",
       "      <td>3.141</td>\n",
       "      <td>7.484</td>\n",
       "    </tr>\n",
       "    <tr>\n",
       "      <th>1333</th>\n",
       "      <td>3749057.69</td>\n",
       "      <td>10</td>\n",
       "      <td>2010-12-24</td>\n",
       "      <td>126.983581</td>\n",
       "      <td>3.236</td>\n",
       "      <td>9.003</td>\n",
       "    </tr>\n",
       "    <tr>\n",
       "      <th>527</th>\n",
       "      <td>3676388.98</td>\n",
       "      <td>4</td>\n",
       "      <td>2011-12-23</td>\n",
       "      <td>129.984548</td>\n",
       "      <td>3.103</td>\n",
       "      <td>5.143</td>\n",
       "    </tr>\n",
       "    <tr>\n",
       "      <th>1762</th>\n",
       "      <td>3595903.20</td>\n",
       "      <td>13</td>\n",
       "      <td>2010-12-24</td>\n",
       "      <td>126.983581</td>\n",
       "      <td>2.846</td>\n",
       "      <td>7.795</td>\n",
       "    </tr>\n",
       "    <tr>\n",
       "      <th>1814</th>\n",
       "      <td>3556766.03</td>\n",
       "      <td>13</td>\n",
       "      <td>2011-12-23</td>\n",
       "      <td>129.984548</td>\n",
       "      <td>3.186</td>\n",
       "      <td>6.392</td>\n",
       "    </tr>\n",
       "    <tr>\n",
       "      <th>2815</th>\n",
       "      <td>3555371.03</td>\n",
       "      <td>20</td>\n",
       "      <td>2011-12-23</td>\n",
       "      <td>212.236040</td>\n",
       "      <td>3.389</td>\n",
       "      <td>7.082</td>\n",
       "    </tr>\n",
       "    <tr>\n",
       "      <th>475</th>\n",
       "      <td>3526713.39</td>\n",
       "      <td>4</td>\n",
       "      <td>2010-12-24</td>\n",
       "      <td>126.983581</td>\n",
       "      <td>2.887</td>\n",
       "      <td>7.127</td>\n",
       "    </tr>\n",
       "    <tr>\n",
       "      <th>1385</th>\n",
       "      <td>3487986.89</td>\n",
       "      <td>10</td>\n",
       "      <td>2011-12-23</td>\n",
       "      <td>129.984548</td>\n",
       "      <td>3.541</td>\n",
       "      <td>7.874</td>\n",
       "    </tr>\n",
       "    <tr>\n",
       "      <th>189</th>\n",
       "      <td>3436007.68</td>\n",
       "      <td>2</td>\n",
       "      <td>2010-12-24</td>\n",
       "      <td>211.064660</td>\n",
       "      <td>2.886</td>\n",
       "      <td>8.163</td>\n",
       "    </tr>\n",
       "    <tr>\n",
       "      <th>1957</th>\n",
       "      <td>3369068.99</td>\n",
       "      <td>14</td>\n",
       "      <td>2011-12-23</td>\n",
       "      <td>188.929975</td>\n",
       "      <td>3.389</td>\n",
       "      <td>8.523</td>\n",
       "    </tr>\n",
       "    <tr>\n",
       "      <th>241</th>\n",
       "      <td>3224369.80</td>\n",
       "      <td>2</td>\n",
       "      <td>2011-12-23</td>\n",
       "      <td>218.999550</td>\n",
       "      <td>3.112</td>\n",
       "      <td>7.441</td>\n",
       "    </tr>\n",
       "    <tr>\n",
       "      <th>3764</th>\n",
       "      <td>3078162.08</td>\n",
       "      <td>27</td>\n",
       "      <td>2010-12-24</td>\n",
       "      <td>136.597273</td>\n",
       "      <td>3.309</td>\n",
       "      <td>8.021</td>\n",
       "    </tr>\n",
       "    <tr>\n",
       "      <th>523</th>\n",
       "      <td>3004702.33</td>\n",
       "      <td>4</td>\n",
       "      <td>2011-11-25</td>\n",
       "      <td>129.836400</td>\n",
       "      <td>3.225</td>\n",
       "      <td>5.143</td>\n",
       "    </tr>\n",
       "    <tr>\n",
       "      <th>1381</th>\n",
       "      <td>2950198.64</td>\n",
       "      <td>10</td>\n",
       "      <td>2011-11-25</td>\n",
       "      <td>129.836400</td>\n",
       "      <td>3.760</td>\n",
       "      <td>7.874</td>\n",
       "    </tr>\n",
       "    <tr>\n",
       "      <th>1329</th>\n",
       "      <td>2939946.38</td>\n",
       "      <td>10</td>\n",
       "      <td>2010-11-26</td>\n",
       "      <td>126.669267</td>\n",
       "      <td>3.162</td>\n",
       "      <td>9.003</td>\n",
       "    </tr>\n",
       "    <tr>\n",
       "      <th>1901</th>\n",
       "      <td>2921709.71</td>\n",
       "      <td>14</td>\n",
       "      <td>2010-11-26</td>\n",
       "      <td>182.783277</td>\n",
       "      <td>3.039</td>\n",
       "      <td>8.724</td>\n",
       "    </tr>\n",
       "    <tr>\n",
       "      <th>2811</th>\n",
       "      <td>2906233.25</td>\n",
       "      <td>20</td>\n",
       "      <td>2011-11-25</td>\n",
       "      <td>211.412076</td>\n",
       "      <td>3.492</td>\n",
       "      <td>7.082</td>\n",
       "    </tr>\n",
       "    <tr>\n",
       "      <th>1810</th>\n",
       "      <td>2864170.61</td>\n",
       "      <td>13</td>\n",
       "      <td>2011-11-25</td>\n",
       "      <td>129.836400</td>\n",
       "      <td>3.445</td>\n",
       "      <td>6.392</td>\n",
       "    </tr>\n",
       "    <tr>\n",
       "      <th>2762</th>\n",
       "      <td>2819193.17</td>\n",
       "      <td>20</td>\n",
       "      <td>2010-12-17</td>\n",
       "      <td>204.632119</td>\n",
       "      <td>3.140</td>\n",
       "      <td>7.484</td>\n",
       "    </tr>\n",
       "  </tbody>\n",
       "</table>\n",
       "</div>"
      ],
      "text/plain": [
       "      Weekly_Sales  Store       Date         CPI  Fuel_Price  Unemployment\n",
       "1905    3818686.45     14 2010-12-24  182.544590       3.141         8.724\n",
       "2763    3766687.43     20 2010-12-24  204.637673       3.141         7.484\n",
       "1333    3749057.69     10 2010-12-24  126.983581       3.236         9.003\n",
       "527     3676388.98      4 2011-12-23  129.984548       3.103         5.143\n",
       "1762    3595903.20     13 2010-12-24  126.983581       2.846         7.795\n",
       "1814    3556766.03     13 2011-12-23  129.984548       3.186         6.392\n",
       "2815    3555371.03     20 2011-12-23  212.236040       3.389         7.082\n",
       "475     3526713.39      4 2010-12-24  126.983581       2.887         7.127\n",
       "1385    3487986.89     10 2011-12-23  129.984548       3.541         7.874\n",
       "189     3436007.68      2 2010-12-24  211.064660       2.886         8.163\n",
       "1957    3369068.99     14 2011-12-23  188.929975       3.389         8.523\n",
       "241     3224369.80      2 2011-12-23  218.999550       3.112         7.441\n",
       "3764    3078162.08     27 2010-12-24  136.597273       3.309         8.021\n",
       "523     3004702.33      4 2011-11-25  129.836400       3.225         5.143\n",
       "1381    2950198.64     10 2011-11-25  129.836400       3.760         7.874\n",
       "1329    2939946.38     10 2010-11-26  126.669267       3.162         9.003\n",
       "1901    2921709.71     14 2010-11-26  182.783277       3.039         8.724\n",
       "2811    2906233.25     20 2011-11-25  211.412076       3.492         7.082\n",
       "1810    2864170.61     13 2011-11-25  129.836400       3.445         6.392\n",
       "2762    2819193.17     20 2010-12-17  204.632119       3.140         7.484"
      ]
     },
     "execution_count": 15,
     "metadata": {},
     "output_type": "execute_result"
    }
   ],
   "source": [
    "#Top 20 sales\n",
    "df_top_20_sales=walmart_data[['Weekly_Sales','Store','Date','CPI','Fuel_Price','Unemployment']].sort_values(by='Weekly_Sales',ascending=False).head(20)\n",
    "df_top_20_sales"
   ]
  },
  {
   "cell_type": "code",
   "execution_count": 16,
   "metadata": {},
   "outputs": [
    {
     "data": {
      "text/html": [
       "<div>\n",
       "<style scoped>\n",
       "    .dataframe tbody tr th:only-of-type {\n",
       "        vertical-align: middle;\n",
       "    }\n",
       "\n",
       "    .dataframe tbody tr th {\n",
       "        vertical-align: top;\n",
       "    }\n",
       "\n",
       "    .dataframe thead th {\n",
       "        text-align: right;\n",
       "    }\n",
       "</style>\n",
       "<table border=\"1\" class=\"dataframe\">\n",
       "  <thead>\n",
       "    <tr style=\"text-align: right;\">\n",
       "      <th></th>\n",
       "      <th>Weekly_Sales</th>\n",
       "    </tr>\n",
       "    <tr>\n",
       "      <th>Store</th>\n",
       "      <th></th>\n",
       "    </tr>\n",
       "  </thead>\n",
       "  <tbody>\n",
       "    <tr>\n",
       "      <th>14</th>\n",
       "      <td>317569.949476</td>\n",
       "    </tr>\n",
       "  </tbody>\n",
       "</table>\n",
       "</div>"
      ],
      "text/plain": [
       "        Weekly_Sales\n",
       "Store               \n",
       "14     317569.949476"
      ]
     },
     "execution_count": 16,
     "metadata": {},
     "output_type": "execute_result"
    }
   ],
   "source": [
    "std_max_sale=walmart_data.groupby('Store').std()[['Weekly_Sales']].sort_values(by='Weekly_Sales',ascending=False).head(1)\n",
    "std_max_sale"
   ]
  },
  {
   "cell_type": "code",
   "execution_count": 17,
   "metadata": {},
   "outputs": [
    {
     "data": {
      "text/html": [
       "<div>\n",
       "<style scoped>\n",
       "    .dataframe tbody tr th:only-of-type {\n",
       "        vertical-align: middle;\n",
       "    }\n",
       "\n",
       "    .dataframe tbody tr th {\n",
       "        vertical-align: top;\n",
       "    }\n",
       "\n",
       "    .dataframe thead tr th {\n",
       "        text-align: left;\n",
       "    }\n",
       "\n",
       "    .dataframe thead tr:last-of-type th {\n",
       "        text-align: right;\n",
       "    }\n",
       "</style>\n",
       "<table border=\"1\" class=\"dataframe\">\n",
       "  <thead>\n",
       "    <tr>\n",
       "      <th></th>\n",
       "      <th colspan=\"2\" halign=\"left\">Weekly_Sales</th>\n",
       "    </tr>\n",
       "    <tr>\n",
       "      <th></th>\n",
       "      <th>mean</th>\n",
       "      <th>std</th>\n",
       "    </tr>\n",
       "    <tr>\n",
       "      <th>Store</th>\n",
       "      <th></th>\n",
       "      <th></th>\n",
       "    </tr>\n",
       "  </thead>\n",
       "  <tbody>\n",
       "    <tr>\n",
       "      <th>1</th>\n",
       "      <td>1.555264e+06</td>\n",
       "      <td>155980.767761</td>\n",
       "    </tr>\n",
       "    <tr>\n",
       "      <th>2</th>\n",
       "      <td>1.925751e+06</td>\n",
       "      <td>237683.694682</td>\n",
       "    </tr>\n",
       "    <tr>\n",
       "      <th>3</th>\n",
       "      <td>4.027044e+05</td>\n",
       "      <td>46319.631557</td>\n",
       "    </tr>\n",
       "    <tr>\n",
       "      <th>4</th>\n",
       "      <td>2.094713e+06</td>\n",
       "      <td>266201.442297</td>\n",
       "    </tr>\n",
       "    <tr>\n",
       "      <th>5</th>\n",
       "      <td>3.180118e+05</td>\n",
       "      <td>37737.965745</td>\n",
       "    </tr>\n",
       "    <tr>\n",
       "      <th>6</th>\n",
       "      <td>1.564728e+06</td>\n",
       "      <td>212525.855862</td>\n",
       "    </tr>\n",
       "    <tr>\n",
       "      <th>7</th>\n",
       "      <td>5.706173e+05</td>\n",
       "      <td>112585.469220</td>\n",
       "    </tr>\n",
       "    <tr>\n",
       "      <th>8</th>\n",
       "      <td>9.087495e+05</td>\n",
       "      <td>106280.829881</td>\n",
       "    </tr>\n",
       "    <tr>\n",
       "      <th>9</th>\n",
       "      <td>5.439806e+05</td>\n",
       "      <td>69028.666585</td>\n",
       "    </tr>\n",
       "    <tr>\n",
       "      <th>10</th>\n",
       "      <td>1.899425e+06</td>\n",
       "      <td>302262.062504</td>\n",
       "    </tr>\n",
       "    <tr>\n",
       "      <th>11</th>\n",
       "      <td>1.356383e+06</td>\n",
       "      <td>165833.887863</td>\n",
       "    </tr>\n",
       "    <tr>\n",
       "      <th>12</th>\n",
       "      <td>1.009002e+06</td>\n",
       "      <td>139166.871880</td>\n",
       "    </tr>\n",
       "    <tr>\n",
       "      <th>13</th>\n",
       "      <td>2.003620e+06</td>\n",
       "      <td>265506.995776</td>\n",
       "    </tr>\n",
       "    <tr>\n",
       "      <th>14</th>\n",
       "      <td>2.020978e+06</td>\n",
       "      <td>317569.949476</td>\n",
       "    </tr>\n",
       "    <tr>\n",
       "      <th>15</th>\n",
       "      <td>6.233125e+05</td>\n",
       "      <td>120538.652043</td>\n",
       "    </tr>\n",
       "    <tr>\n",
       "      <th>16</th>\n",
       "      <td>5.192477e+05</td>\n",
       "      <td>85769.680133</td>\n",
       "    </tr>\n",
       "    <tr>\n",
       "      <th>17</th>\n",
       "      <td>8.935814e+05</td>\n",
       "      <td>112162.936087</td>\n",
       "    </tr>\n",
       "    <tr>\n",
       "      <th>18</th>\n",
       "      <td>1.084718e+06</td>\n",
       "      <td>176641.510839</td>\n",
       "    </tr>\n",
       "    <tr>\n",
       "      <th>19</th>\n",
       "      <td>1.444999e+06</td>\n",
       "      <td>191722.638730</td>\n",
       "    </tr>\n",
       "    <tr>\n",
       "      <th>20</th>\n",
       "      <td>2.107677e+06</td>\n",
       "      <td>275900.562742</td>\n",
       "    </tr>\n",
       "    <tr>\n",
       "      <th>21</th>\n",
       "      <td>7.560691e+05</td>\n",
       "      <td>128752.812853</td>\n",
       "    </tr>\n",
       "    <tr>\n",
       "      <th>22</th>\n",
       "      <td>1.028501e+06</td>\n",
       "      <td>161251.350631</td>\n",
       "    </tr>\n",
       "    <tr>\n",
       "      <th>23</th>\n",
       "      <td>1.389864e+06</td>\n",
       "      <td>249788.038068</td>\n",
       "    </tr>\n",
       "    <tr>\n",
       "      <th>24</th>\n",
       "      <td>1.356755e+06</td>\n",
       "      <td>167745.677567</td>\n",
       "    </tr>\n",
       "    <tr>\n",
       "      <th>25</th>\n",
       "      <td>7.067215e+05</td>\n",
       "      <td>112976.788600</td>\n",
       "    </tr>\n",
       "    <tr>\n",
       "      <th>26</th>\n",
       "      <td>1.002912e+06</td>\n",
       "      <td>110431.288141</td>\n",
       "    </tr>\n",
       "    <tr>\n",
       "      <th>27</th>\n",
       "      <td>1.775216e+06</td>\n",
       "      <td>239930.135688</td>\n",
       "    </tr>\n",
       "    <tr>\n",
       "      <th>28</th>\n",
       "      <td>1.323522e+06</td>\n",
       "      <td>181758.967539</td>\n",
       "    </tr>\n",
       "    <tr>\n",
       "      <th>29</th>\n",
       "      <td>5.394514e+05</td>\n",
       "      <td>99120.136596</td>\n",
       "    </tr>\n",
       "    <tr>\n",
       "      <th>30</th>\n",
       "      <td>4.385796e+05</td>\n",
       "      <td>22809.665590</td>\n",
       "    </tr>\n",
       "    <tr>\n",
       "      <th>31</th>\n",
       "      <td>1.395901e+06</td>\n",
       "      <td>125855.942933</td>\n",
       "    </tr>\n",
       "    <tr>\n",
       "      <th>32</th>\n",
       "      <td>1.166568e+06</td>\n",
       "      <td>138017.252087</td>\n",
       "    </tr>\n",
       "    <tr>\n",
       "      <th>33</th>\n",
       "      <td>2.598617e+05</td>\n",
       "      <td>24132.927322</td>\n",
       "    </tr>\n",
       "    <tr>\n",
       "      <th>34</th>\n",
       "      <td>9.667816e+05</td>\n",
       "      <td>104630.164676</td>\n",
       "    </tr>\n",
       "    <tr>\n",
       "      <th>35</th>\n",
       "      <td>9.197250e+05</td>\n",
       "      <td>211243.457791</td>\n",
       "    </tr>\n",
       "    <tr>\n",
       "      <th>36</th>\n",
       "      <td>3.735120e+05</td>\n",
       "      <td>60725.173579</td>\n",
       "    </tr>\n",
       "    <tr>\n",
       "      <th>37</th>\n",
       "      <td>5.189003e+05</td>\n",
       "      <td>21837.461190</td>\n",
       "    </tr>\n",
       "    <tr>\n",
       "      <th>38</th>\n",
       "      <td>3.857317e+05</td>\n",
       "      <td>42768.169450</td>\n",
       "    </tr>\n",
       "    <tr>\n",
       "      <th>39</th>\n",
       "      <td>1.450668e+06</td>\n",
       "      <td>217466.454833</td>\n",
       "    </tr>\n",
       "    <tr>\n",
       "      <th>40</th>\n",
       "      <td>9.641280e+05</td>\n",
       "      <td>119002.112858</td>\n",
       "    </tr>\n",
       "    <tr>\n",
       "      <th>41</th>\n",
       "      <td>1.268125e+06</td>\n",
       "      <td>187907.162766</td>\n",
       "    </tr>\n",
       "    <tr>\n",
       "      <th>42</th>\n",
       "      <td>5.564039e+05</td>\n",
       "      <td>50262.925530</td>\n",
       "    </tr>\n",
       "    <tr>\n",
       "      <th>43</th>\n",
       "      <td>6.333247e+05</td>\n",
       "      <td>40598.413260</td>\n",
       "    </tr>\n",
       "    <tr>\n",
       "      <th>44</th>\n",
       "      <td>3.027489e+05</td>\n",
       "      <td>24762.832015</td>\n",
       "    </tr>\n",
       "    <tr>\n",
       "      <th>45</th>\n",
       "      <td>7.859814e+05</td>\n",
       "      <td>130168.526635</td>\n",
       "    </tr>\n",
       "  </tbody>\n",
       "</table>\n",
       "</div>"
      ],
      "text/plain": [
       "       Weekly_Sales               \n",
       "               mean            std\n",
       "Store                             \n",
       "1      1.555264e+06  155980.767761\n",
       "2      1.925751e+06  237683.694682\n",
       "3      4.027044e+05   46319.631557\n",
       "4      2.094713e+06  266201.442297\n",
       "5      3.180118e+05   37737.965745\n",
       "6      1.564728e+06  212525.855862\n",
       "7      5.706173e+05  112585.469220\n",
       "8      9.087495e+05  106280.829881\n",
       "9      5.439806e+05   69028.666585\n",
       "10     1.899425e+06  302262.062504\n",
       "11     1.356383e+06  165833.887863\n",
       "12     1.009002e+06  139166.871880\n",
       "13     2.003620e+06  265506.995776\n",
       "14     2.020978e+06  317569.949476\n",
       "15     6.233125e+05  120538.652043\n",
       "16     5.192477e+05   85769.680133\n",
       "17     8.935814e+05  112162.936087\n",
       "18     1.084718e+06  176641.510839\n",
       "19     1.444999e+06  191722.638730\n",
       "20     2.107677e+06  275900.562742\n",
       "21     7.560691e+05  128752.812853\n",
       "22     1.028501e+06  161251.350631\n",
       "23     1.389864e+06  249788.038068\n",
       "24     1.356755e+06  167745.677567\n",
       "25     7.067215e+05  112976.788600\n",
       "26     1.002912e+06  110431.288141\n",
       "27     1.775216e+06  239930.135688\n",
       "28     1.323522e+06  181758.967539\n",
       "29     5.394514e+05   99120.136596\n",
       "30     4.385796e+05   22809.665590\n",
       "31     1.395901e+06  125855.942933\n",
       "32     1.166568e+06  138017.252087\n",
       "33     2.598617e+05   24132.927322\n",
       "34     9.667816e+05  104630.164676\n",
       "35     9.197250e+05  211243.457791\n",
       "36     3.735120e+05   60725.173579\n",
       "37     5.189003e+05   21837.461190\n",
       "38     3.857317e+05   42768.169450\n",
       "39     1.450668e+06  217466.454833\n",
       "40     9.641280e+05  119002.112858\n",
       "41     1.268125e+06  187907.162766\n",
       "42     5.564039e+05   50262.925530\n",
       "43     6.333247e+05   40598.413260\n",
       "44     3.027489e+05   24762.832015\n",
       "45     7.859814e+05  130168.526635"
      ]
     },
     "execution_count": 17,
     "metadata": {},
     "output_type": "execute_result"
    }
   ],
   "source": [
    "#Walmart location wise sales mean and standard deviation in sales.\n",
    "\n",
    "result = walmart_data.groupby('Store').agg({'Weekly_Sales':['mean','std']})\n",
    "result"
   ]
  },
  {
   "cell_type": "code",
   "execution_count": 18,
   "metadata": {},
   "outputs": [
    {
     "name": "stdout",
     "output_type": "stream",
     "text": [
      "2012-12-10 00:00:00\n",
      "2010-01-10 00:00:00\n"
     ]
    }
   ],
   "source": [
    "# total Date duration of the dataset\n",
    "print(walmart_data.Date.max())\n",
    "print(walmart_data.Date.min())"
   ]
  },
  {
   "cell_type": "code",
   "execution_count": 19,
   "metadata": {},
   "outputs": [],
   "source": [
    "#2012 Quarter 3 sales\n",
    "\n",
    "start2012='2012-07-1'\n",
    "end2012='2012-9-30'\n",
    "df_quarterly_after=walmart_data[walmart_data.Date.between(start2012,end2012)]"
   ]
  },
  {
   "cell_type": "code",
   "execution_count": 20,
   "metadata": {},
   "outputs": [
    {
     "data": {
      "text/html": [
       "<div>\n",
       "<style scoped>\n",
       "    .dataframe tbody tr th:only-of-type {\n",
       "        vertical-align: middle;\n",
       "    }\n",
       "\n",
       "    .dataframe tbody tr th {\n",
       "        vertical-align: top;\n",
       "    }\n",
       "\n",
       "    .dataframe thead th {\n",
       "        text-align: right;\n",
       "    }\n",
       "</style>\n",
       "<table border=\"1\" class=\"dataframe\">\n",
       "  <thead>\n",
       "    <tr style=\"text-align: right;\">\n",
       "      <th></th>\n",
       "      <th>Weekly_Sales</th>\n",
       "    </tr>\n",
       "    <tr>\n",
       "      <th>Store</th>\n",
       "      <th></th>\n",
       "    </tr>\n",
       "  </thead>\n",
       "  <tbody>\n",
       "    <tr>\n",
       "      <th>1</th>\n",
       "      <td>18633209.98</td>\n",
       "    </tr>\n",
       "    <tr>\n",
       "      <th>2</th>\n",
       "      <td>22396867.61</td>\n",
       "    </tr>\n",
       "    <tr>\n",
       "      <th>3</th>\n",
       "      <td>4966495.93</td>\n",
       "    </tr>\n",
       "    <tr>\n",
       "      <th>4</th>\n",
       "      <td>25652119.35</td>\n",
       "    </tr>\n",
       "    <tr>\n",
       "      <th>5</th>\n",
       "      <td>3880621.88</td>\n",
       "    </tr>\n",
       "  </tbody>\n",
       "</table>\n",
       "</div>"
      ],
      "text/plain": [
       "       Weekly_Sales\n",
       "Store              \n",
       "1       18633209.98\n",
       "2       22396867.61\n",
       "3        4966495.93\n",
       "4       25652119.35\n",
       "5        3880621.88"
      ]
     },
     "execution_count": 20,
     "metadata": {},
     "output_type": "execute_result"
    }
   ],
   "source": [
    "quar3_2012_after=df_quarterly_after.groupby('Store').sum()[['Weekly_Sales']]\n",
    "quar3_2012_after.head()"
   ]
  },
  {
   "cell_type": "code",
   "execution_count": 21,
   "metadata": {},
   "outputs": [],
   "source": [
    "#2012 quarter 2 sales\n",
    "\n",
    "startq2='2012-04-1'\n",
    "endq2='2012-06-30'\n",
    "quar2_2012=walmart_data[walmart_data.Date.between(startq2,endq2)]"
   ]
  },
  {
   "cell_type": "code",
   "execution_count": 22,
   "metadata": {},
   "outputs": [
    {
     "data": {
      "text/html": [
       "<div>\n",
       "<style scoped>\n",
       "    .dataframe tbody tr th:only-of-type {\n",
       "        vertical-align: middle;\n",
       "    }\n",
       "\n",
       "    .dataframe tbody tr th {\n",
       "        vertical-align: top;\n",
       "    }\n",
       "\n",
       "    .dataframe thead th {\n",
       "        text-align: right;\n",
       "    }\n",
       "</style>\n",
       "<table border=\"1\" class=\"dataframe\">\n",
       "  <thead>\n",
       "    <tr style=\"text-align: right;\">\n",
       "      <th></th>\n",
       "      <th>Weekly_Sales</th>\n",
       "    </tr>\n",
       "    <tr>\n",
       "      <th>Store</th>\n",
       "      <th></th>\n",
       "    </tr>\n",
       "  </thead>\n",
       "  <tbody>\n",
       "    <tr>\n",
       "      <th>1</th>\n",
       "      <td>21036965.58</td>\n",
       "    </tr>\n",
       "    <tr>\n",
       "      <th>2</th>\n",
       "      <td>25085123.61</td>\n",
       "    </tr>\n",
       "    <tr>\n",
       "      <th>3</th>\n",
       "      <td>5562668.16</td>\n",
       "    </tr>\n",
       "    <tr>\n",
       "      <th>4</th>\n",
       "      <td>28384185.16</td>\n",
       "    </tr>\n",
       "    <tr>\n",
       "      <th>5</th>\n",
       "      <td>4427262.21</td>\n",
       "    </tr>\n",
       "  </tbody>\n",
       "</table>\n",
       "</div>"
      ],
      "text/plain": [
       "       Weekly_Sales\n",
       "Store              \n",
       "1       21036965.58\n",
       "2       25085123.61\n",
       "3        5562668.16\n",
       "4       28384185.16\n",
       "5        4427262.21"
      ]
     },
     "execution_count": 22,
     "metadata": {},
     "output_type": "execute_result"
    }
   ],
   "source": [
    "quar2_2012_before=quar2_2012.groupby('Store').sum()[['Weekly_Sales']]\n",
    "quar2_2012_before.head()"
   ]
  },
  {
   "cell_type": "code",
   "execution_count": 23,
   "metadata": {},
   "outputs": [
    {
     "data": {
      "text/html": [
       "<div>\n",
       "<style scoped>\n",
       "    .dataframe tbody tr th:only-of-type {\n",
       "        vertical-align: middle;\n",
       "    }\n",
       "\n",
       "    .dataframe tbody tr th {\n",
       "        vertical-align: top;\n",
       "    }\n",
       "\n",
       "    .dataframe thead th {\n",
       "        text-align: right;\n",
       "    }\n",
       "</style>\n",
       "<table border=\"1\" class=\"dataframe\">\n",
       "  <thead>\n",
       "    <tr style=\"text-align: right;\">\n",
       "      <th></th>\n",
       "      <th>Weekly_Sales</th>\n",
       "    </tr>\n",
       "    <tr>\n",
       "      <th>Store</th>\n",
       "      <th></th>\n",
       "    </tr>\n",
       "  </thead>\n",
       "  <tbody>\n",
       "    <tr>\n",
       "      <th>1</th>\n",
       "      <td>18951097.69</td>\n",
       "    </tr>\n",
       "    <tr>\n",
       "      <th>2</th>\n",
       "      <td>22543946.63</td>\n",
       "    </tr>\n",
       "    <tr>\n",
       "      <th>3</th>\n",
       "      <td>4957435.81</td>\n",
       "    </tr>\n",
       "    <tr>\n",
       "      <th>4</th>\n",
       "      <td>25659307.85</td>\n",
       "    </tr>\n",
       "    <tr>\n",
       "      <th>5</th>\n",
       "      <td>3912829.61</td>\n",
       "    </tr>\n",
       "  </tbody>\n",
       "</table>\n",
       "</div>"
      ],
      "text/plain": [
       "       Weekly_Sales\n",
       "Store              \n",
       "1       18951097.69\n",
       "2       22543946.63\n",
       "3        4957435.81\n",
       "4       25659307.85\n",
       "5        3912829.61"
      ]
     },
     "execution_count": 23,
     "metadata": {},
     "output_type": "execute_result"
    }
   ],
   "source": [
    "#2012 Quarter 1 sales\n",
    "\n",
    "startq1='2012-01-01'\n",
    "endq1='2012-03-30'\n",
    "quar1_2012=walmart_data[walmart_data.Date.between(startq1,endq1)]\n",
    "quar1_2012_before=quar1_2012.groupby('Store').sum()[['Weekly_Sales']]\n",
    "quar1_2012_before.head()"
   ]
  },
  {
   "cell_type": "code",
   "execution_count": 24,
   "metadata": {},
   "outputs": [
    {
     "data": {
      "text/html": [
       "<div>\n",
       "<style scoped>\n",
       "    .dataframe tbody tr th:only-of-type {\n",
       "        vertical-align: middle;\n",
       "    }\n",
       "\n",
       "    .dataframe tbody tr th {\n",
       "        vertical-align: top;\n",
       "    }\n",
       "\n",
       "    .dataframe thead th {\n",
       "        text-align: right;\n",
       "    }\n",
       "</style>\n",
       "<table border=\"1\" class=\"dataframe\">\n",
       "  <thead>\n",
       "    <tr style=\"text-align: right;\">\n",
       "      <th></th>\n",
       "      <th>Weekly_Sales</th>\n",
       "    </tr>\n",
       "    <tr>\n",
       "      <th>Store</th>\n",
       "      <th></th>\n",
       "    </tr>\n",
       "  </thead>\n",
       "  <tbody>\n",
       "    <tr>\n",
       "      <th>1</th>\n",
       "      <td>9580784.77</td>\n",
       "    </tr>\n",
       "    <tr>\n",
       "      <th>2</th>\n",
       "      <td>11470757.52</td>\n",
       "    </tr>\n",
       "    <tr>\n",
       "      <th>3</th>\n",
       "      <td>2537839.60</td>\n",
       "    </tr>\n",
       "    <tr>\n",
       "      <th>4</th>\n",
       "      <td>13075576.88</td>\n",
       "    </tr>\n",
       "    <tr>\n",
       "      <th>5</th>\n",
       "      <td>1948124.43</td>\n",
       "    </tr>\n",
       "  </tbody>\n",
       "</table>\n",
       "</div>"
      ],
      "text/plain": [
       "       Weekly_Sales\n",
       "Store              \n",
       "1        9580784.77\n",
       "2       11470757.52\n",
       "3        2537839.60\n",
       "4       13075576.88\n",
       "5        1948124.43"
      ]
     },
     "execution_count": 24,
     "metadata": {},
     "output_type": "execute_result"
    }
   ],
   "source": [
    "#2012 Quarter 4 sales\n",
    "\n",
    "startq4='2012-10-01'\n",
    "endq4='2012-12-30'\n",
    "quar4_2012=walmart_data[walmart_data.Date.between(startq4,endq4)]\n",
    "quar4_2012_before=quar4_2012.groupby('Store').sum()[['Weekly_Sales']]\n",
    "quar4_2012_before.head()"
   ]
  },
  {
   "cell_type": "code",
   "execution_count": 96,
   "metadata": {},
   "outputs": [
    {
     "data": {
      "image/png": "[encoded data removed]",
      "text/plain": [
       "<Figure size 864x648 with 1 Axes>"
      ]
     },
     "metadata": {
      "needs_background": "light"
     },
     "output_type": "display_data"
    }
   ],
   "source": [
    "#Creating 2012 quarterly sales results for each Walmart locations\n",
    "'Locations that require more inventories and human resources'\n",
    "\n",
    "fig,ax=plt.subplots(figsize=(12,9))\n",
    "x=range(1,46)\n",
    "ax.plot(x,quar1_2012_before,linewidth=2.0,label='1st Quarter')\n",
    "ax.plot(x,quar2_2012_before,linewidth=2.0,label='2nd Quarter')\n",
    "ax.plot(x,quar3_2012_after,linewidth=3.0,label='3rd Quarter')\n",
    "ax.plot(x,quar4_2012_before,linewidth=2.0,label='4th Quarter')\n",
    "ax.set_xlabel('Store IDs')\n",
    "ax.set_ylabel('Weekly Sales')\n",
    "ax.legend()\n",
    "plt.grid()\n",
    "ax.set_title(\"Quarterly Walmart Locations Weekly Sales\")\n",
    "plt.show()"
   ]
  },
  {
   "cell_type": "code",
   "execution_count": 27,
   "metadata": {},
   "outputs": [
    {
     "data": {
      "text/html": [
       "<div>\n",
       "<style scoped>\n",
       "    .dataframe tbody tr th:only-of-type {\n",
       "        vertical-align: middle;\n",
       "    }\n",
       "\n",
       "    .dataframe tbody tr th {\n",
       "        vertical-align: top;\n",
       "    }\n",
       "\n",
       "    .dataframe thead th {\n",
       "        text-align: right;\n",
       "    }\n",
       "</style>\n",
       "<table border=\"1\" class=\"dataframe\">\n",
       "  <thead>\n",
       "    <tr style=\"text-align: right;\">\n",
       "      <th></th>\n",
       "      <th>Weekly_Sales</th>\n",
       "    </tr>\n",
       "    <tr>\n",
       "      <th>Date</th>\n",
       "      <th></th>\n",
       "    </tr>\n",
       "  </thead>\n",
       "  <tbody>\n",
       "    <tr>\n",
       "      <th>2011-11-25</th>\n",
       "      <td>66593605.26</td>\n",
       "    </tr>\n",
       "    <tr>\n",
       "      <th>2010-11-26</th>\n",
       "      <td>65821003.24</td>\n",
       "    </tr>\n",
       "    <tr>\n",
       "      <th>2012-10-02</th>\n",
       "      <td>50009407.92</td>\n",
       "    </tr>\n",
       "    <tr>\n",
       "      <th>2010-12-02</th>\n",
       "      <td>48336677.63</td>\n",
       "    </tr>\n",
       "    <tr>\n",
       "      <th>2012-07-09</th>\n",
       "      <td>48330059.31</td>\n",
       "    </tr>\n",
       "    <tr>\n",
       "      <th>2011-11-02</th>\n",
       "      <td>47336192.79</td>\n",
       "    </tr>\n",
       "    <tr>\n",
       "      <th>2011-09-09</th>\n",
       "      <td>46763227.53</td>\n",
       "    </tr>\n",
       "    <tr>\n",
       "      <th>2011-12-30</th>\n",
       "      <td>46042461.04</td>\n",
       "    </tr>\n",
       "    <tr>\n",
       "      <th>2010-10-09</th>\n",
       "      <td>45634397.84</td>\n",
       "    </tr>\n",
       "    <tr>\n",
       "      <th>2010-12-31</th>\n",
       "      <td>40432519.00</td>\n",
       "    </tr>\n",
       "  </tbody>\n",
       "</table>\n",
       "</div>"
      ],
      "text/plain": [
       "            Weekly_Sales\n",
       "Date                    \n",
       "2011-11-25   66593605.26\n",
       "2010-11-26   65821003.24\n",
       "2012-10-02   50009407.92\n",
       "2010-12-02   48336677.63\n",
       "2012-07-09   48330059.31\n",
       "2011-11-02   47336192.79\n",
       "2011-09-09   46763227.53\n",
       "2011-12-30   46042461.04\n",
       "2010-10-09   45634397.84\n",
       "2010-12-31   40432519.00"
      ]
     },
     "execution_count": 27,
     "metadata": {},
     "output_type": "execute_result"
    }
   ],
   "source": [
    "# Sales of walmart in holiday weeks [2011,2010 thanksgivings top]\n",
    "mask_holiday=(walmart_data['Holiday_Flag']==1)\n",
    "df_holiday_week_sales=walmart_data[mask_holiday]\n",
    "df_holiday=df_holiday_week_sales.groupby('Date').sum()[['Weekly_Sales']].sort_values(by='Weekly_Sales',ascending =False).head(10)\n",
    "df_holiday"
   ]
  },
  {
   "cell_type": "code",
   "execution_count": 29,
   "metadata": {},
   "outputs": [
    {
     "data": {
      "text/html": [
       "<div>\n",
       "<style scoped>\n",
       "    .dataframe tbody tr th:only-of-type {\n",
       "        vertical-align: middle;\n",
       "    }\n",
       "\n",
       "    .dataframe tbody tr th {\n",
       "        vertical-align: top;\n",
       "    }\n",
       "\n",
       "    .dataframe thead th {\n",
       "        text-align: right;\n",
       "    }\n",
       "</style>\n",
       "<table border=\"1\" class=\"dataframe\">\n",
       "  <thead>\n",
       "    <tr style=\"text-align: right;\">\n",
       "      <th></th>\n",
       "      <th>Weekly_Sales</th>\n",
       "    </tr>\n",
       "    <tr>\n",
       "      <th>Date</th>\n",
       "      <th></th>\n",
       "    </tr>\n",
       "  </thead>\n",
       "  <tbody>\n",
       "    <tr>\n",
       "      <th>2010-12-24</th>\n",
       "      <td>80931415.60</td>\n",
       "    </tr>\n",
       "    <tr>\n",
       "      <th>2011-12-23</th>\n",
       "      <td>76998241.31</td>\n",
       "    </tr>\n",
       "    <tr>\n",
       "      <th>2010-12-17</th>\n",
       "      <td>61820799.85</td>\n",
       "    </tr>\n",
       "    <tr>\n",
       "      <th>2011-12-16</th>\n",
       "      <td>60085695.94</td>\n",
       "    </tr>\n",
       "    <tr>\n",
       "      <th>2010-10-12</th>\n",
       "      <td>55666770.39</td>\n",
       "    </tr>\n",
       "    <tr>\n",
       "      <th>2011-09-12</th>\n",
       "      <td>55561147.70</td>\n",
       "    </tr>\n",
       "    <tr>\n",
       "      <th>2012-06-04</th>\n",
       "      <td>53502315.87</td>\n",
       "    </tr>\n",
       "    <tr>\n",
       "      <th>2012-06-07</th>\n",
       "      <td>51253021.88</td>\n",
       "    </tr>\n",
       "    <tr>\n",
       "      <th>2010-02-04</th>\n",
       "      <td>50423831.26</td>\n",
       "    </tr>\n",
       "    <tr>\n",
       "      <th>2012-02-17</th>\n",
       "      <td>50197056.96</td>\n",
       "    </tr>\n",
       "  </tbody>\n",
       "</table>\n",
       "</div>"
      ],
      "text/plain": [
       "            Weekly_Sales\n",
       "Date                    \n",
       "2010-12-24   80931415.60\n",
       "2011-12-23   76998241.31\n",
       "2010-12-17   61820799.85\n",
       "2011-12-16   60085695.94\n",
       "2010-10-12   55666770.39\n",
       "2011-09-12   55561147.70\n",
       "2012-06-04   53502315.87\n",
       "2012-06-07   51253021.88\n",
       "2010-02-04   50423831.26\n",
       "2012-02-17   50197056.96"
      ]
     },
     "execution_count": 29,
     "metadata": {},
     "output_type": "execute_result"
    }
   ],
   "source": [
    "# Max sales of walmart locations in non_holiday weeks per Week\n",
    "mask_non_holiday=(walmart_data['Holiday_Flag']==0)\n",
    "df_non_holiday_week_sales=walmart_data[mask_non_holiday]\n",
    "df_non_holiday=df_non_holiday_week_sales.groupby('Date').sum()[['Weekly_Sales']].sort_values(by='Weekly_Sales',ascending =False).head(10)\n",
    "df_non_holiday"
   ]
  },
  {
   "cell_type": "code",
   "execution_count": 30,
   "metadata": {},
   "outputs": [
    {
     "data": {
      "text/plain": [
       "59644029.676"
      ]
     },
     "execution_count": 30,
     "metadata": {},
     "output_type": "execute_result"
    }
   ],
   "source": [
    "#Weekly sale average for non_holiday weeks for all walmart locations\n",
    "mean_sale_non_holiday_week=df_non_holiday.mean()['Weekly_Sales']\n",
    "mean_sale_non_holiday_week"
   ]
  },
  {
   "cell_type": "code",
   "execution_count": 31,
   "metadata": {},
   "outputs": [
    {
     "data": {
      "text/html": [
       "<div>\n",
       "<style scoped>\n",
       "    .dataframe tbody tr th:only-of-type {\n",
       "        vertical-align: middle;\n",
       "    }\n",
       "\n",
       "    .dataframe tbody tr th {\n",
       "        vertical-align: top;\n",
       "    }\n",
       "\n",
       "    .dataframe thead th {\n",
       "        text-align: right;\n",
       "    }\n",
       "</style>\n",
       "<table border=\"1\" class=\"dataframe\">\n",
       "  <thead>\n",
       "    <tr style=\"text-align: right;\">\n",
       "      <th></th>\n",
       "      <th>Weekly_Sales</th>\n",
       "    </tr>\n",
       "    <tr>\n",
       "      <th>Date</th>\n",
       "      <th></th>\n",
       "    </tr>\n",
       "  </thead>\n",
       "  <tbody>\n",
       "    <tr>\n",
       "      <th>2011-11-25</th>\n",
       "      <td>66593605.26</td>\n",
       "    </tr>\n",
       "    <tr>\n",
       "      <th>2010-11-26</th>\n",
       "      <td>65821003.24</td>\n",
       "    </tr>\n",
       "  </tbody>\n",
       "</table>\n",
       "</div>"
      ],
      "text/plain": [
       "            Weekly_Sales\n",
       "Date                    \n",
       "2011-11-25   66593605.26\n",
       "2010-11-26   65821003.24"
      ]
     },
     "execution_count": 31,
     "metadata": {},
     "output_type": "execute_result"
    }
   ],
   "source": [
    "# 2011 and 2010 THANKSGIVING holiday week sale for all stores are more than average non_holiday week_sales of all three years for all stores\n",
    "mask_hol_better=df_holiday.Weekly_Sales> mean_sale_non_holiday_week\n",
    "better_holidays=df_holiday[mask_hol_better]\n",
    "better_holidays"
   ]
  },
  {
   "cell_type": "code",
   "execution_count": 32,
   "metadata": {},
   "outputs": [
    {
     "data": {
      "text/html": [
       "<div>\n",
       "<style scoped>\n",
       "    .dataframe tbody tr th:only-of-type {\n",
       "        vertical-align: middle;\n",
       "    }\n",
       "\n",
       "    .dataframe tbody tr th {\n",
       "        vertical-align: top;\n",
       "    }\n",
       "\n",
       "    .dataframe thead th {\n",
       "        text-align: right;\n",
       "    }\n",
       "</style>\n",
       "<table border=\"1\" class=\"dataframe\">\n",
       "  <thead>\n",
       "    <tr style=\"text-align: right;\">\n",
       "      <th></th>\n",
       "      <th>Store</th>\n",
       "      <th>Date</th>\n",
       "      <th>Weekly_Sales</th>\n",
       "      <th>Holiday_Flag</th>\n",
       "      <th>Temperature</th>\n",
       "      <th>Fuel_Price</th>\n",
       "      <th>CPI</th>\n",
       "      <th>Unemployment</th>\n",
       "    </tr>\n",
       "  </thead>\n",
       "  <tbody>\n",
       "    <tr>\n",
       "      <th>0</th>\n",
       "      <td>1</td>\n",
       "      <td>2010-05-02</td>\n",
       "      <td>1643690.90</td>\n",
       "      <td>0</td>\n",
       "      <td>42.31</td>\n",
       "      <td>2.572</td>\n",
       "      <td>211.096358</td>\n",
       "      <td>8.106</td>\n",
       "    </tr>\n",
       "    <tr>\n",
       "      <th>1</th>\n",
       "      <td>1</td>\n",
       "      <td>2010-12-02</td>\n",
       "      <td>1641957.44</td>\n",
       "      <td>1</td>\n",
       "      <td>38.51</td>\n",
       "      <td>2.548</td>\n",
       "      <td>211.242170</td>\n",
       "      <td>8.106</td>\n",
       "    </tr>\n",
       "    <tr>\n",
       "      <th>2</th>\n",
       "      <td>1</td>\n",
       "      <td>2010-02-19</td>\n",
       "      <td>1611968.17</td>\n",
       "      <td>0</td>\n",
       "      <td>39.93</td>\n",
       "      <td>2.514</td>\n",
       "      <td>211.289143</td>\n",
       "      <td>8.106</td>\n",
       "    </tr>\n",
       "    <tr>\n",
       "      <th>3</th>\n",
       "      <td>1</td>\n",
       "      <td>2010-02-26</td>\n",
       "      <td>1409727.59</td>\n",
       "      <td>0</td>\n",
       "      <td>46.63</td>\n",
       "      <td>2.561</td>\n",
       "      <td>211.319643</td>\n",
       "      <td>8.106</td>\n",
       "    </tr>\n",
       "    <tr>\n",
       "      <th>4</th>\n",
       "      <td>1</td>\n",
       "      <td>2010-05-03</td>\n",
       "      <td>1554806.68</td>\n",
       "      <td>0</td>\n",
       "      <td>46.50</td>\n",
       "      <td>2.625</td>\n",
       "      <td>211.350143</td>\n",
       "      <td>8.106</td>\n",
       "    </tr>\n",
       "  </tbody>\n",
       "</table>\n",
       "</div>"
      ],
      "text/plain": [
       "   Store       Date  Weekly_Sales  Holiday_Flag  Temperature  Fuel_Price  \\\n",
       "0      1 2010-05-02    1643690.90             0        42.31       2.572   \n",
       "1      1 2010-12-02    1641957.44             1        38.51       2.548   \n",
       "2      1 2010-02-19    1611968.17             0        39.93       2.514   \n",
       "3      1 2010-02-26    1409727.59             0        46.63       2.561   \n",
       "4      1 2010-05-03    1554806.68             0        46.50       2.625   \n",
       "\n",
       "          CPI  Unemployment  \n",
       "0  211.096358         8.106  \n",
       "1  211.242170         8.106  \n",
       "2  211.289143         8.106  \n",
       "3  211.319643         8.106  \n",
       "4  211.350143         8.106  "
      ]
     },
     "execution_count": 32,
     "metadata": {},
     "output_type": "execute_result"
    }
   ],
   "source": [
    "walmart_data.head()"
   ]
  },
  {
   "cell_type": "code",
   "execution_count": 33,
   "metadata": {},
   "outputs": [
    {
     "data": {
      "image/png": "[encoded data removed]",
      "text/plain": [
       "<Figure size 1008x720 with 1 Axes>"
      ]
     },
     "metadata": {
      "needs_background": "light"
     },
     "output_type": "display_data"
    }
   ],
   "source": [
    "fig,ax=plt.subplots(figsize=(14,10))\n",
    "sales_monthly_Y=walmart_data.groupby('Date').sum()['Weekly_Sales']\n",
    "Date_months_x=walmart_data['Date'].unique()\n",
    "ax.bar(Date_months_x,sales_monthly_Y,label='Total sales per month')\n",
    "ax.set_xlabel('Months from 2010-2012')\n",
    "ax.set_ylabel('Total Weekly Sales')\n",
    "ax.legend()\n",
    "plt.grid()\n",
    "ax.set_title(\"Total Sales Per Month for All Walmart Stores\")\n",
    "plt.show()"
   ]
  },
  {
   "cell_type": "code",
   "execution_count": 53,
   "metadata": {},
   "outputs": [
    {
     "data": {
      "text/plain": [
       "\"\\nx=pd.date_range(start='2009-12-30',end='2012-12-30', freq='6M')\\nsem_x=pd.to_datetime(x, utc=False)\\nsem_x\\n\""
      ]
     },
     "execution_count": 53,
     "metadata": {},
     "output_type": "execute_result"
    }
   ],
   "source": [
    "#working on semester sales\n",
    "start1='2010-01-01'\n",
    "end1='2010-06-30'\n",
    "start2='2010-07-01'\n",
    "end2='2010-12-30'\n",
    "start3='2011-01-01'\n",
    "end3='2011-06-30'\n",
    "start4='2011-07-01'\n",
    "end4='2011-12-30'\n",
    "start5='2012-01-01'\n",
    "end5='2012-06-30'\n",
    "start6='2012-07-01'\n",
    "end6='2012-12-30'\n",
    "\n",
    "\n",
    "\n",
    "'''\n",
    "x=pd.date_range(start='2009-12-30',end='2012-12-30', freq='6M')\n",
    "sem_x=pd.to_datetime(x, utc=False)\n",
    "sem_x\n",
    "'''"
   ]
  },
  {
   "cell_type": "code",
   "execution_count": 86,
   "metadata": {},
   "outputs": [
    {
     "data": {
      "text/plain": [
       "(45, 1)"
      ]
     },
     "execution_count": 86,
     "metadata": {},
     "output_type": "execute_result"
    }
   ],
   "source": [
    "sem1=walmart_data[walmart_data.Date.between(start1,end1)]\n",
    "sem1_data=sem1.groupby('Store').sum()[['Weekly_Sales']]\n",
    "sem1_data.shape\n",
    "sem2=walmart_data[walmart_data.Date.between(start2,end2)]\n",
    "sem2_data=sem2.groupby('Store').sum()[['Weekly_Sales']]\n",
    "sem2_data.shape\n",
    "sem3=walmart_data[walmart_data.Date.between(start3,end3)]\n",
    "sem3_data=sem3.groupby('Store').sum()[['Weekly_Sales']]\n",
    "sem3_data.shape\n",
    "sem4=walmart_data[walmart_data.Date.between(start4,end4)]\n",
    "sem4_data=sem4.groupby('Store').sum()[['Weekly_Sales']]\n",
    "sem4_data.shape\n",
    "sem5=walmart_data[walmart_data.Date.between(start5,end5)]\n",
    "sem5_data=sem5.groupby('Store').sum()[['Weekly_Sales']]\n",
    "sem5_data.shape\n",
    "sem6=walmart_data[walmart_data.Date.between(start6,end6)]\n",
    "sem6_data=sem6.groupby('Store').sum()[['Weekly_Sales']]\n",
    "sem6_data.shape"
   ]
  },
  {
   "cell_type": "code",
   "execution_count": 87,
   "metadata": {},
   "outputs": [
    {
     "data": {
      "text/plain": [
       "[<matplotlib.lines.Line2D at 0x114274d68>]"
      ]
     },
     "execution_count": 87,
     "metadata": {},
     "output_type": "execute_result"
    },
    {
     "data": {
      "image/png": "[encoded data removed]",
      "text/plain": [
       "<Figure size 864x720 with 1 Axes>"
      ]
     },
     "metadata": {
      "needs_background": "light"
     },
     "output_type": "display_data"
    }
   ],
   "source": [
    "x=range(1,46)\n",
    "fig,ax=plt.subplots(figsize=(12,10))\n",
    "ax.plot(x,sem1_data,c='y',linewidth=2.0)\n",
    "ax.plot(x,sem2_data,c='g',linewidth=2.0)\n",
    "ax.plot(x,sem3_data,c='r',linewidth=2.0)\n",
    "ax.plot(x,sem4_data,c='b',linewidth=2.0)\n",
    "ax.plot(x,sem5_data,c='k',linewidth=2.0)\n",
    "ax.plot(x,sem6_data,c='m',linewidth=2.0)"
   ]
  },
  {
   "cell_type": "code",
   "execution_count": 101,
   "metadata": {},
   "outputs": [
    {
     "name": "stdout",
     "output_type": "stream",
     "text": [
      "1026912732.34\n",
      "1221540869.0700002\n",
      "1138060006.42\n",
      "1310140000.9299998\n",
      "1163004064.33\n",
      "837128795.02\n"
     ]
    }
   ],
   "source": [
    "sem1=walmart_data[walmart_data.Date.between(start1,end1)]\n",
    "sem1_mean=sem1.Weekly_Sales.sum()\n",
    "print(sem1_mean)\n",
    "sem2=walmart_data[walmart_data.Date.between(start2,end2)]\n",
    "sem2_mean=sem2.Weekly_Sales.sum()\n",
    "print(sem2_mean)\n",
    "sem3=walmart_data[walmart_data.Date.between(start3,end3)]\n",
    "sem3_mean=sem3.Weekly_Sales.sum()\n",
    "print(sem3_mean)\n",
    "sem4=walmart_data[walmart_data.Date.between(start4,end4)]\n",
    "sem4_mean=sem4.Weekly_Sales.sum()\n",
    "print(sem4_mean)\n",
    "sem5=walmart_data[walmart_data.Date.between(start5,end5)]\n",
    "sem5_mean=sem5.Weekly_Sales.sum()\n",
    "print(sem5_mean)\n",
    "sem6=walmart_data[walmart_data.Date.between(start6,end6)]\n",
    "sem6_mean=sem6.Weekly_Sales.sum()\n",
    "print(sem6_mean)\n",
    "list_sem_sales=[sem1_mean,sem2_mean,sem3_mean,sem4_mean,sem5_mean,sem6_mean]\n",
    "x=walmart_data.Date.between(start1,end6)\n",
    "ax.bar(x,sem1_mean)\n",
    "ax.bar(x,sem2_mean)\n",
    "ax.bar(x,sem3_mean)\n",
    "ax.bar(x,sem4_mean)\n",
    "ax.bar(x,sem5_mean)\n",
    "ax.bar(x,sem6_mean)\n",
    "plt.show()"
   ]
  },
  {
   "cell_type": "code",
   "execution_count": 91,
   "metadata": {},
   "outputs": [
    {
     "data": {
      "text/html": [
       "<div>\n",
       "<style scoped>\n",
       "    .dataframe tbody tr th:only-of-type {\n",
       "        vertical-align: middle;\n",
       "    }\n",
       "\n",
       "    .dataframe tbody tr th {\n",
       "        vertical-align: top;\n",
       "    }\n",
       "\n",
       "    .dataframe thead th {\n",
       "        text-align: right;\n",
       "    }\n",
       "</style>\n",
       "<table border=\"1\" class=\"dataframe\">\n",
       "  <thead>\n",
       "    <tr style=\"text-align: right;\">\n",
       "      <th></th>\n",
       "      <th>Store</th>\n",
       "      <th>Date</th>\n",
       "      <th>Weekly_Sales</th>\n",
       "      <th>Holiday_Flag</th>\n",
       "      <th>Temperature</th>\n",
       "      <th>Fuel_Price</th>\n",
       "      <th>CPI</th>\n",
       "      <th>Unemployment</th>\n",
       "    </tr>\n",
       "  </thead>\n",
       "  <tbody>\n",
       "    <tr>\n",
       "      <th>0</th>\n",
       "      <td>1</td>\n",
       "      <td>2010-05-02</td>\n",
       "      <td>1643690.90</td>\n",
       "      <td>0</td>\n",
       "      <td>42.31</td>\n",
       "      <td>2.572</td>\n",
       "      <td>211.096358</td>\n",
       "      <td>8.106</td>\n",
       "    </tr>\n",
       "    <tr>\n",
       "      <th>1</th>\n",
       "      <td>1</td>\n",
       "      <td>2010-12-02</td>\n",
       "      <td>1641957.44</td>\n",
       "      <td>1</td>\n",
       "      <td>38.51</td>\n",
       "      <td>2.548</td>\n",
       "      <td>211.242170</td>\n",
       "      <td>8.106</td>\n",
       "    </tr>\n",
       "    <tr>\n",
       "      <th>2</th>\n",
       "      <td>1</td>\n",
       "      <td>2010-02-19</td>\n",
       "      <td>1611968.17</td>\n",
       "      <td>0</td>\n",
       "      <td>39.93</td>\n",
       "      <td>2.514</td>\n",
       "      <td>211.289143</td>\n",
       "      <td>8.106</td>\n",
       "    </tr>\n",
       "    <tr>\n",
       "      <th>3</th>\n",
       "      <td>1</td>\n",
       "      <td>2010-02-26</td>\n",
       "      <td>1409727.59</td>\n",
       "      <td>0</td>\n",
       "      <td>46.63</td>\n",
       "      <td>2.561</td>\n",
       "      <td>211.319643</td>\n",
       "      <td>8.106</td>\n",
       "    </tr>\n",
       "    <tr>\n",
       "      <th>4</th>\n",
       "      <td>1</td>\n",
       "      <td>2010-05-03</td>\n",
       "      <td>1554806.68</td>\n",
       "      <td>0</td>\n",
       "      <td>46.50</td>\n",
       "      <td>2.625</td>\n",
       "      <td>211.350143</td>\n",
       "      <td>8.106</td>\n",
       "    </tr>\n",
       "  </tbody>\n",
       "</table>\n",
       "</div>"
      ],
      "text/plain": [
       "   Store       Date  Weekly_Sales  Holiday_Flag  Temperature  Fuel_Price  \\\n",
       "0      1 2010-05-02    1643690.90             0        42.31       2.572   \n",
       "1      1 2010-12-02    1641957.44             1        38.51       2.548   \n",
       "2      1 2010-02-19    1611968.17             0        39.93       2.514   \n",
       "3      1 2010-02-26    1409727.59             0        46.63       2.561   \n",
       "4      1 2010-05-03    1554806.68             0        46.50       2.625   \n",
       "\n",
       "          CPI  Unemployment  \n",
       "0  211.096358         8.106  \n",
       "1  211.242170         8.106  \n",
       "2  211.289143         8.106  \n",
       "3  211.319643         8.106  \n",
       "4  211.350143         8.106  "
      ]
     },
     "execution_count": 91,
     "metadata": {},
     "output_type": "execute_result"
    }
   ],
   "source": [
    "# working on HYPOTHESIS ANALYSIS\n",
    "walmart_data.head()"
   ]
  },
  {
   "cell_type": "code",
   "execution_count": 6,
   "metadata": {},
   "outputs": [
    {
     "data": {
      "text/plain": [
       "4513    1221318.17\n",
       "5800    1412959.97\n",
       "938      645156.21\n",
       "2225     554630.42\n",
       "5088     352960.64\n",
       "5807    1277882.77\n",
       "945      525866.36\n",
       "4520    1149448.02\n",
       "2232     482926.93\n",
       "487     2116475.38\n",
       "4777    1014218.80\n",
       "1132     930745.69\n",
       "1561    1388973.65\n",
       "5279     500964.59\n",
       "131     1592409.97\n",
       "703      306759.70\n",
       "1275     538713.47\n",
       "5147     272489.41\n",
       "4278     430878.28\n",
       "2991     700272.01\n",
       "846     1588380.73\n",
       "5565    1641867.92\n",
       "6137     643558.78\n",
       "274     1866719.96\n",
       "4421    1386472.59\n",
       "417      391811.60\n",
       "4825    1123446.51\n",
       "535     2427640.17\n",
       "2811    2906233.25\n",
       "6386    1170672.94\n",
       "           ...    \n",
       "4148     497374.57\n",
       "2861     809321.44\n",
       "716     1606283.86\n",
       "5435    1266229.07\n",
       "1145     552677.48\n",
       "144     2137809.50\n",
       "1       1641957.44\n",
       "5005     467546.74\n",
       "5029     452021.20\n",
       "4721     983963.07\n",
       "431     2049860.26\n",
       "5006     469563.70\n",
       "5035     431294.45\n",
       "5008     447519.44\n",
       "6008     658997.55\n",
       "2862     867283.25\n",
       "2       1611968.17\n",
       "4292    1473386.75\n",
       "145     2124451.54\n",
       "4149     463513.26\n",
       "1146     511327.90\n",
       "5436    1230591.97\n",
       "1432    1503298.70\n",
       "717     1567138.07\n",
       "5150     510382.50\n",
       "288      421642.19\n",
       "574      303447.57\n",
       "1003     963960.37\n",
       "5036     434471.38\n",
       "5007     470281.03\n",
       "Name: Weekly_Sales, Length: 3406, dtype: float64"
      ]
     },
     "execution_count": 6,
     "metadata": {},
     "output_type": "execute_result"
    }
   ],
   "source": [
    "fuel_price_sort=walmart_data[['Fuel_Price','Weekly_Sales']].sort_values(by ='Fuel_Price',ascending=False)\n",
    "#mask_fuel=(fuel_price_sort['Fuel_Price'] > 3.0)\n",
    "#fuel_4above= fuel_price_sort(mask_fuel)\n",
    "mask1=fuel_price_sort.Fuel_Price>=3.5\n",
    "mask2=fuel_price_sort.Fuel_Price<3.5\n",
    "fuel_4above_sales=fuel_price_sort[mask1]\n",
    "fuel_4above_sales\n",
    "fuel_4below_sales=fuel_price_sort[mask2]\n",
    "fuel_4below_sales.Weekly_Sales"
   ]
  },
  {
   "cell_type": "code",
   "execution_count": 7,
   "metadata": {},
   "outputs": [
    {
     "name": "stdout",
     "output_type": "stream",
     "text": [
      "1042901.0535259132\n",
      "535699.4567120502\n"
     ]
    }
   ],
   "source": [
    "mean_sale_fuel_4above=fuel_4above_sales.Weekly_Sales.mean()\n",
    "std_sale_fuel_4above=fuel_4above_sales.Weekly_Sales.std()\n",
    "print(mean_sale_fuel_4above)\n",
    "print(std_sale_fuel_4above)"
   ]
  },
  {
   "cell_type": "code",
   "execution_count": 8,
   "metadata": {},
   "outputs": [
    {
     "name": "stdout",
     "output_type": "stream",
     "text": [
      "1050578.8890135065\n",
      "588744.1038000692\n"
     ]
    }
   ],
   "source": [
    "mean_sale_fuel_4below=fuel_4below_sales.Weekly_Sales.mean()\n",
    "std_sale_fuel_4below=fuel_4below_sales.Weekly_Sales.std()\n",
    "print(mean_sale_fuel_4below)\n",
    "print(std_sale_fuel_4below)"
   ]
  },
  {
   "cell_type": "code",
   "execution_count": 9,
   "metadata": {},
   "outputs": [
    {
     "data": {
      "text/plain": [
       "'\\nH0: Null Hypothesis : there is no impact of Fuel price on sales\\nH1: Alternate Hypothesis: there is an impact of Fuel price on sales\\nalpha: 0.05 '"
      ]
     },
     "execution_count": 9,
     "metadata": {},
     "output_type": "execute_result"
    }
   ],
   "source": [
    "'''\n",
    "H0: Null Hypothesis : there is no impact of Fuel price on sales\n",
    "H1: Alternate Hypothesis: there is an impact of Fuel price on sales\n",
    "alpha: 0.05 '''"
   ]
  },
  {
   "cell_type": "code",
   "execution_count": 9,
   "metadata": {},
   "outputs": [],
   "source": [
    "#applying t_test\n",
    "data1=np.array(fuel_4above_sales.Weekly_Sales)\n",
    "data2=np.array(fuel_4below_sales.Weekly_Sales)\n",
    "from scipy.stats import ttest_ind"
   ]
  },
  {
   "cell_type": "code",
   "execution_count": 10,
   "metadata": {},
   "outputs": [
    {
     "name": "stdout",
     "output_type": "stream",
     "text": [
      "t=-0.545, p=0.586\n"
     ]
    }
   ],
   "source": [
    "# compare samples\n",
    "#2.8 is the critical point\n",
    "#reject null hypothesis for 2.6,2.7,2.8\n",
    "#fail to reject null hypothesis for 2.9,3.0,3.1\n",
    "stat, p = ttest_ind(data1, data2)\n",
    "print('t=%.3f, p=%.3f' % (stat, p))"
   ]
  },
  {
   "cell_type": "code",
   "execution_count": null,
   "metadata": {},
   "outputs": [],
   "source": [
    "#plot a graph showing sales for fuel price below 2.8 and above 2.8\n",
    "fig,ax=plt.subplots(figsize=(12,6))\n",
    "yaxis=fuel_4above_sales[['Weekly_Sales']]\n",
    "z=fuel_4below_sales[['Weekly_Sales']]\n",
    "x=range(int(yaxis.min()),int(yaxis.max()))\n",
    "ax.bar(x,yaxis)"
   ]
  },
  {
   "cell_type": "code",
   "execution_count": null,
   "metadata": {},
   "outputs": [],
   "source": []
  },
  {
   "cell_type": "code",
   "execution_count": null,
   "metadata": {},
   "outputs": [],
   "source": []
  },
  {
   "cell_type": "code",
   "execution_count": null,
   "metadata": {},
   "outputs": [],
   "source": []
  },
  {
   "cell_type": "code",
   "execution_count": null,
   "metadata": {},
   "outputs": [],
   "source": []
  },
  {
   "cell_type": "code",
   "execution_count": 86,
   "metadata": {},
   "outputs": [
    {
     "data": {
      "text/html": [
       "<div>\n",
       "<style scoped>\n",
       "    .dataframe tbody tr th:only-of-type {\n",
       "        vertical-align: middle;\n",
       "    }\n",
       "\n",
       "    .dataframe tbody tr th {\n",
       "        vertical-align: top;\n",
       "    }\n",
       "\n",
       "    .dataframe thead th {\n",
       "        text-align: right;\n",
       "    }\n",
       "</style>\n",
       "<table border=\"1\" class=\"dataframe\">\n",
       "  <thead>\n",
       "    <tr style=\"text-align: right;\">\n",
       "      <th></th>\n",
       "      <th>Unemployment</th>\n",
       "      <th>Weekly_Sales</th>\n",
       "    </tr>\n",
       "  </thead>\n",
       "  <tbody>\n",
       "    <tr>\n",
       "      <th>5664</th>\n",
       "      <td>4.420</td>\n",
       "      <td>1070389.98</td>\n",
       "    </tr>\n",
       "    <tr>\n",
       "      <th>5666</th>\n",
       "      <td>4.420</td>\n",
       "      <td>942319.65</td>\n",
       "    </tr>\n",
       "    <tr>\n",
       "      <th>5667</th>\n",
       "      <td>4.420</td>\n",
       "      <td>941675.95</td>\n",
       "    </tr>\n",
       "    <tr>\n",
       "      <th>5668</th>\n",
       "      <td>4.420</td>\n",
       "      <td>1011321.18</td>\n",
       "    </tr>\n",
       "    <tr>\n",
       "      <th>5669</th>\n",
       "      <td>4.420</td>\n",
       "      <td>1037687.07</td>\n",
       "    </tr>\n",
       "    <tr>\n",
       "      <th>5670</th>\n",
       "      <td>4.420</td>\n",
       "      <td>905399.99</td>\n",
       "    </tr>\n",
       "    <tr>\n",
       "      <th>5671</th>\n",
       "      <td>4.420</td>\n",
       "      <td>1230011.95</td>\n",
       "    </tr>\n",
       "    <tr>\n",
       "      <th>5673</th>\n",
       "      <td>4.420</td>\n",
       "      <td>1158708.98</td>\n",
       "    </tr>\n",
       "    <tr>\n",
       "      <th>5674</th>\n",
       "      <td>4.420</td>\n",
       "      <td>1198670.19</td>\n",
       "    </tr>\n",
       "    <tr>\n",
       "      <th>5675</th>\n",
       "      <td>4.420</td>\n",
       "      <td>1601585.70</td>\n",
       "    </tr>\n",
       "    <tr>\n",
       "      <th>5676</th>\n",
       "      <td>4.420</td>\n",
       "      <td>908853.15</td>\n",
       "    </tr>\n",
       "    <tr>\n",
       "      <th>5665</th>\n",
       "      <td>4.420</td>\n",
       "      <td>936751.68</td>\n",
       "    </tr>\n",
       "    <tr>\n",
       "      <th>5672</th>\n",
       "      <td>4.420</td>\n",
       "      <td>1059676.62</td>\n",
       "    </tr>\n",
       "    <tr>\n",
       "      <th>3242</th>\n",
       "      <td>4.420</td>\n",
       "      <td>1841173.60</td>\n",
       "    </tr>\n",
       "    <tr>\n",
       "      <th>3239</th>\n",
       "      <td>4.420</td>\n",
       "      <td>1345631.96</td>\n",
       "    </tr>\n",
       "    <tr>\n",
       "      <th>3241</th>\n",
       "      <td>4.420</td>\n",
       "      <td>1552886.59</td>\n",
       "    </tr>\n",
       "    <tr>\n",
       "      <th>3238</th>\n",
       "      <td>4.420</td>\n",
       "      <td>1436940.78</td>\n",
       "    </tr>\n",
       "    <tr>\n",
       "      <th>3243</th>\n",
       "      <td>4.420</td>\n",
       "      <td>2173621.20</td>\n",
       "    </tr>\n",
       "    <tr>\n",
       "      <th>3244</th>\n",
       "      <td>4.420</td>\n",
       "      <td>2587953.32</td>\n",
       "    </tr>\n",
       "    <tr>\n",
       "      <th>3245</th>\n",
       "      <td>4.420</td>\n",
       "      <td>1213486.95</td>\n",
       "    </tr>\n",
       "    <tr>\n",
       "      <th>3237</th>\n",
       "      <td>4.420</td>\n",
       "      <td>1428436.33</td>\n",
       "    </tr>\n",
       "    <tr>\n",
       "      <th>3240</th>\n",
       "      <td>4.420</td>\n",
       "      <td>2057059.53</td>\n",
       "    </tr>\n",
       "    <tr>\n",
       "      <th>3233</th>\n",
       "      <td>4.420</td>\n",
       "      <td>1463501.99</td>\n",
       "    </tr>\n",
       "    <tr>\n",
       "      <th>3234</th>\n",
       "      <td>4.420</td>\n",
       "      <td>1257778.34</td>\n",
       "    </tr>\n",
       "    <tr>\n",
       "      <th>3235</th>\n",
       "      <td>4.420</td>\n",
       "      <td>1441032.59</td>\n",
       "    </tr>\n",
       "    <tr>\n",
       "      <th>3236</th>\n",
       "      <td>4.420</td>\n",
       "      <td>1407191.96</td>\n",
       "    </tr>\n",
       "    <tr>\n",
       "      <th>551</th>\n",
       "      <td>4.308</td>\n",
       "      <td>2245257.18</td>\n",
       "    </tr>\n",
       "    <tr>\n",
       "      <th>550</th>\n",
       "      <td>4.308</td>\n",
       "      <td>2179360.94</td>\n",
       "    </tr>\n",
       "    <tr>\n",
       "      <th>554</th>\n",
       "      <td>4.308</td>\n",
       "      <td>2128362.92</td>\n",
       "    </tr>\n",
       "    <tr>\n",
       "      <th>553</th>\n",
       "      <td>4.308</td>\n",
       "      <td>2197299.65</td>\n",
       "    </tr>\n",
       "    <tr>\n",
       "      <th>...</th>\n",
       "      <td>...</td>\n",
       "      <td>...</td>\n",
       "    </tr>\n",
       "    <tr>\n",
       "      <th>3264</th>\n",
       "      <td>4.125</td>\n",
       "      <td>1321914.34</td>\n",
       "    </tr>\n",
       "    <tr>\n",
       "      <th>3265</th>\n",
       "      <td>4.125</td>\n",
       "      <td>1332952.47</td>\n",
       "    </tr>\n",
       "    <tr>\n",
       "      <th>3266</th>\n",
       "      <td>4.125</td>\n",
       "      <td>1552934.64</td>\n",
       "    </tr>\n",
       "    <tr>\n",
       "      <th>3267</th>\n",
       "      <td>4.125</td>\n",
       "      <td>1476144.34</td>\n",
       "    </tr>\n",
       "    <tr>\n",
       "      <th>3268</th>\n",
       "      <td>4.125</td>\n",
       "      <td>1568048.54</td>\n",
       "    </tr>\n",
       "    <tr>\n",
       "      <th>3269</th>\n",
       "      <td>4.125</td>\n",
       "      <td>1543667.68</td>\n",
       "    </tr>\n",
       "    <tr>\n",
       "      <th>3270</th>\n",
       "      <td>4.125</td>\n",
       "      <td>1522042.57</td>\n",
       "    </tr>\n",
       "    <tr>\n",
       "      <th>3271</th>\n",
       "      <td>4.125</td>\n",
       "      <td>1451782.16</td>\n",
       "    </tr>\n",
       "    <tr>\n",
       "      <th>5697</th>\n",
       "      <td>4.125</td>\n",
       "      <td>991054.49</td>\n",
       "    </tr>\n",
       "    <tr>\n",
       "      <th>5695</th>\n",
       "      <td>4.125</td>\n",
       "      <td>967729.35</td>\n",
       "    </tr>\n",
       "    <tr>\n",
       "      <th>5692</th>\n",
       "      <td>4.125</td>\n",
       "      <td>896979.93</td>\n",
       "    </tr>\n",
       "    <tr>\n",
       "      <th>5693</th>\n",
       "      <td>4.125</td>\n",
       "      <td>875372.91</td>\n",
       "    </tr>\n",
       "    <tr>\n",
       "      <th>5694</th>\n",
       "      <td>4.125</td>\n",
       "      <td>993311.59</td>\n",
       "    </tr>\n",
       "    <tr>\n",
       "      <th>561</th>\n",
       "      <td>4.077</td>\n",
       "      <td>2283540.30</td>\n",
       "    </tr>\n",
       "    <tr>\n",
       "      <th>567</th>\n",
       "      <td>4.077</td>\n",
       "      <td>2027620.23</td>\n",
       "    </tr>\n",
       "    <tr>\n",
       "      <th>566</th>\n",
       "      <td>4.077</td>\n",
       "      <td>2119438.53</td>\n",
       "    </tr>\n",
       "    <tr>\n",
       "      <th>565</th>\n",
       "      <td>4.077</td>\n",
       "      <td>2117854.60</td>\n",
       "    </tr>\n",
       "    <tr>\n",
       "      <th>564</th>\n",
       "      <td>4.077</td>\n",
       "      <td>2125104.72</td>\n",
       "    </tr>\n",
       "    <tr>\n",
       "      <th>563</th>\n",
       "      <td>4.077</td>\n",
       "      <td>2081181.35</td>\n",
       "    </tr>\n",
       "    <tr>\n",
       "      <th>560</th>\n",
       "      <td>4.077</td>\n",
       "      <td>2193367.69</td>\n",
       "    </tr>\n",
       "    <tr>\n",
       "      <th>559</th>\n",
       "      <td>4.077</td>\n",
       "      <td>2174514.13</td>\n",
       "    </tr>\n",
       "    <tr>\n",
       "      <th>558</th>\n",
       "      <td>4.077</td>\n",
       "      <td>2048613.65</td>\n",
       "    </tr>\n",
       "    <tr>\n",
       "      <th>557</th>\n",
       "      <td>4.077</td>\n",
       "      <td>2175563.69</td>\n",
       "    </tr>\n",
       "    <tr>\n",
       "      <th>556</th>\n",
       "      <td>4.077</td>\n",
       "      <td>2100252.61</td>\n",
       "    </tr>\n",
       "    <tr>\n",
       "      <th>555</th>\n",
       "      <td>4.077</td>\n",
       "      <td>2224499.28</td>\n",
       "    </tr>\n",
       "    <tr>\n",
       "      <th>562</th>\n",
       "      <td>4.077</td>\n",
       "      <td>2125241.68</td>\n",
       "    </tr>\n",
       "    <tr>\n",
       "      <th>568</th>\n",
       "      <td>3.879</td>\n",
       "      <td>2209835.43</td>\n",
       "    </tr>\n",
       "    <tr>\n",
       "      <th>569</th>\n",
       "      <td>3.879</td>\n",
       "      <td>2133026.07</td>\n",
       "    </tr>\n",
       "    <tr>\n",
       "      <th>570</th>\n",
       "      <td>3.879</td>\n",
       "      <td>2097266.85</td>\n",
       "    </tr>\n",
       "    <tr>\n",
       "      <th>571</th>\n",
       "      <td>3.879</td>\n",
       "      <td>2149594.46</td>\n",
       "    </tr>\n",
       "  </tbody>\n",
       "</table>\n",
       "<p>142 rows × 2 columns</p>\n",
       "</div>"
      ],
      "text/plain": [
       "      Unemployment  Weekly_Sales\n",
       "5664         4.420    1070389.98\n",
       "5666         4.420     942319.65\n",
       "5667         4.420     941675.95\n",
       "5668         4.420    1011321.18\n",
       "5669         4.420    1037687.07\n",
       "5670         4.420     905399.99\n",
       "5671         4.420    1230011.95\n",
       "5673         4.420    1158708.98\n",
       "5674         4.420    1198670.19\n",
       "5675         4.420    1601585.70\n",
       "5676         4.420     908853.15\n",
       "5665         4.420     936751.68\n",
       "5672         4.420    1059676.62\n",
       "3242         4.420    1841173.60\n",
       "3239         4.420    1345631.96\n",
       "3241         4.420    1552886.59\n",
       "3238         4.420    1436940.78\n",
       "3243         4.420    2173621.20\n",
       "3244         4.420    2587953.32\n",
       "3245         4.420    1213486.95\n",
       "3237         4.420    1428436.33\n",
       "3240         4.420    2057059.53\n",
       "3233         4.420    1463501.99\n",
       "3234         4.420    1257778.34\n",
       "3235         4.420    1441032.59\n",
       "3236         4.420    1407191.96\n",
       "551          4.308    2245257.18\n",
       "550          4.308    2179360.94\n",
       "554          4.308    2128362.92\n",
       "553          4.308    2197299.65\n",
       "...            ...           ...\n",
       "3264         4.125    1321914.34\n",
       "3265         4.125    1332952.47\n",
       "3266         4.125    1552934.64\n",
       "3267         4.125    1476144.34\n",
       "3268         4.125    1568048.54\n",
       "3269         4.125    1543667.68\n",
       "3270         4.125    1522042.57\n",
       "3271         4.125    1451782.16\n",
       "5697         4.125     991054.49\n",
       "5695         4.125     967729.35\n",
       "5692         4.125     896979.93\n",
       "5693         4.125     875372.91\n",
       "5694         4.125     993311.59\n",
       "561          4.077    2283540.30\n",
       "567          4.077    2027620.23\n",
       "566          4.077    2119438.53\n",
       "565          4.077    2117854.60\n",
       "564          4.077    2125104.72\n",
       "563          4.077    2081181.35\n",
       "560          4.077    2193367.69\n",
       "559          4.077    2174514.13\n",
       "558          4.077    2048613.65\n",
       "557          4.077    2175563.69\n",
       "556          4.077    2100252.61\n",
       "555          4.077    2224499.28\n",
       "562          4.077    2125241.68\n",
       "568          3.879    2209835.43\n",
       "569          3.879    2133026.07\n",
       "570          3.879    2097266.85\n",
       "571          3.879    2149594.46\n",
       "\n",
       "[142 rows x 2 columns]"
      ]
     },
     "execution_count": 86,
     "metadata": {},
     "output_type": "execute_result"
    }
   ],
   "source": [
    "unemploy_sort=walmart_data[['Unemployment','Weekly_Sales']].sort_values(by ='Unemployment',ascending=False)\n",
    "#mask_fuel=(fuel_price_sort['Fuel_Price'] > 3.0)\n",
    "#fuel_4above= fuel_price_sort(mask_fuel)\n",
    "mask1=unemploy_sort.Unemployment>=4.5\n",
    "mask2=unemploy_sort.Unemployment<4.5\n",
    "high_unemploy_sale=unemploy_sort[mask1]\n",
    "high_unemploy_sale\n",
    "low_unemploy_sale=unemploy_sort[mask2]\n",
    "low_unemploy_sale"
   ]
  },
  {
   "cell_type": "code",
   "execution_count": 83,
   "metadata": {},
   "outputs": [
    {
     "name": "stdout",
     "output_type": "stream",
     "text": [
      "14.312999999999999\n",
      "3.8789999999999996\n"
     ]
    }
   ],
   "source": [
    "print(walmart_data.Unemployment.max())\n",
    "print(walmart_data.Unemployment.min())"
   ]
  },
  {
   "cell_type": "code",
   "execution_count": 87,
   "metadata": {},
   "outputs": [
    {
     "name": "stdout",
     "output_type": "stream",
     "text": [
      "1038809.4668441107\n",
      "563594.0610654072\n"
     ]
    }
   ],
   "source": [
    "mean_sale_high_employ=high_unemploy_sale.Weekly_Sales.mean()\n",
    "std_sale_high_employ=high_unemploy_sale.Weekly_Sales.std()\n",
    "print(mean_sale_high_employ)\n",
    "print(std_sale_high_employ)"
   ]
  },
  {
   "cell_type": "code",
   "execution_count": 88,
   "metadata": {},
   "outputs": [
    {
     "name": "stdout",
     "output_type": "stream",
     "text": [
      "1408387.4102816903\n",
      "474482.6279616408\n"
     ]
    }
   ],
   "source": [
    "mean_sale_low_employ=low_unemploy_sale.Weekly_Sales.mean()\n",
    "std_sale_low_employ=low_unemploy_sale.Weekly_Sales.std()\n",
    "print(mean_sale_low_employ)\n",
    "print(std_sale_low_employ)"
   ]
  },
  {
   "cell_type": "code",
   "execution_count": 89,
   "metadata": {},
   "outputs": [],
   "source": [
    "#applying t_test\n",
    "data1=np.array(high_unemploy_sale.Weekly_Sales)\n",
    "data2=np.array(low_unemploy_sale.Weekly_Sales)\n",
    "from scipy.stats import ttest_ind"
   ]
  },
  {
   "cell_type": "code",
   "execution_count": 144,
   "metadata": {},
   "outputs": [
    {
     "name": "stdout",
     "output_type": "stream",
     "text": [
      "t=-2.452, p=0.014\n"
     ]
    }
   ],
   "source": [
    "unemploy_sort=walmart_data[['Unemployment','Weekly_Sales']].sort_values(by ='Unemployment',ascending=False)\n",
    "#mask_fuel=(fuel_price_sort['Fuel_Price'] > 3.0)\n",
    "#fuel_4above= fuel_price_sort(mask_fuel)\n",
    "#14.18 is the critical point\n",
    "mask1=unemploy_sort.Unemployment>=14.18\n",
    "mask2=unemploy_sort.Unemployment<14.18\n",
    "high_unemploy_sale=unemploy_sort[mask1]\n",
    "high_unemploy_sale\n",
    "low_unemploy_sale=unemploy_sort[mask2]\n",
    "low_unemploy_sale\n",
    "#applying t_test\n",
    "data1=np.array(high_unemploy_sale.Weekly_Sales)\n",
    "data2=np.array(low_unemploy_sale.Weekly_Sales)\n",
    "from scipy.stats import ttest_ind\n",
    "# compare samples\n",
    "#reject null hypothesis for 2.6,2.7,2.8\n",
    "#fail to reject null hypothesis for 2.9,3.0,3.1\n",
    "stat, p = ttest_ind(data1, data2)\n",
    "print('t=%.3f, p=%.3f' % (stat, p))"
   ]
  },
  {
   "cell_type": "code",
   "execution_count": null,
   "metadata": {},
   "outputs": [],
   "source": [
    "fig,ax=plt.subplots(figsize=(12,6))\n",
    "yaxis=fuel_4above_sales[['Weekly_Sales']].sum()\n",
    "z=fuel_4below_sales[['Weekly_Sales']].mean()\n",
    "labels=['Fuel above 2.8','Fuel below 2.8']\n",
    "ax.set_xticklabels(labels, fontsize=10)\n",
    "ax.bar(labels,yaxis)\n"
   ]
  },
  {
   "cell_type": "code",
   "execution_count": 136,
   "metadata": {},
   "outputs": [
    {
     "name": "stdout",
     "output_type": "stream",
     "text": [
      "t=-2.098, p=0.036\n"
     ]
    }
   ],
   "source": [
    "cpi_sort=walmart_data[['CPI','Weekly_Sales']].sort_values(by ='CPI',ascending=False)\n",
    "#mask_fuel=(fuel_price_sort['Fuel_Price'] > 3.0)\n",
    "#fuel_4above= fuel_price_sort(mask_fuel)\n",
    "#226.55 is the critical point\n",
    "mask1=cpi_sort.CPI>=226.55\n",
    "mask2=cpi_sort.CPI<226.55\n",
    "high_cpi_sale=cpi_sort[mask1]\n",
    "high_cpi_sale\n",
    "low_cpi_sale=cpi_sort[mask2]\n",
    "low_cpi_sale\n",
    "#applying t_test\n",
    "data1=np.array(high_cpi_sale.Weekly_Sales)\n",
    "data2=np.array(low_cpi_sale.Weekly_Sales)\n",
    "from scipy.stats import ttest_ind\n",
    "# compare samples\n",
    "#reject null hypothesis for 2.6,2.7,2.8\n",
    "#fail to reject null hypothesis for 2.9,3.0,3.1\n",
    "stat, p = ttest_ind(data1, data2)\n",
    "print('t=%.3f, p=%.3f' % (stat, p))"
   ]
  },
  {
   "cell_type": "code",
   "execution_count": 137,
   "metadata": {},
   "outputs": [
    {
     "data": {
      "text/plain": [
       "227.2328068"
      ]
     },
     "execution_count": 137,
     "metadata": {},
     "output_type": "execute_result"
    }
   ],
   "source": [
    "walmart_data.CPI.max()"
   ]
  },
  {
   "cell_type": "code",
   "execution_count": 138,
   "metadata": {},
   "outputs": [
    {
     "data": {
      "text/plain": [
       "126.064"
      ]
     },
     "execution_count": 138,
     "metadata": {},
     "output_type": "execute_result"
    }
   ],
   "source": [
    "walmart_data.CPI.min()"
   ]
  },
  {
   "cell_type": "code",
   "execution_count": null,
   "metadata": {},
   "outputs": [],
   "source": []
  },
  {
   "cell_type": "code",
   "execution_count": null,
   "metadata": {},
   "outputs": [],
   "source": []
  },
  {
   "cell_type": "code",
   "execution_count": null,
   "metadata": {},
   "outputs": [],
   "source": []
  },
  {
   "cell_type": "code",
   "execution_count": null,
   "metadata": {},
   "outputs": [],
   "source": []
  },
  {
   "cell_type": "code",
   "execution_count": null,
   "metadata": {},
   "outputs": [],
   "source": []
  },
  {
   "cell_type": "code",
   "execution_count": null,
   "metadata": {},
   "outputs": [],
   "source": []
  },
  {
   "cell_type": "code",
   "execution_count": null,
   "metadata": {},
   "outputs": [],
   "source": []
  },
  {
   "cell_type": "code",
   "execution_count": null,
   "metadata": {},
   "outputs": [],
   "source": []
  },
  {
   "cell_type": "code",
   "execution_count": null,
   "metadata": {},
   "outputs": [],
   "source": []
  },
  {
   "cell_type": "code",
   "execution_count": null,
   "metadata": {},
   "outputs": [],
   "source": []
  },
  {
   "cell_type": "code",
   "execution_count": null,
   "metadata": {},
   "outputs": [],
   "source": []
  },
  {
   "cell_type": "code",
   "execution_count": null,
   "metadata": {},
   "outputs": [],
   "source": []
  },
  {
   "cell_type": "code",
   "execution_count": null,
   "metadata": {},
   "outputs": [],
   "source": []
  },
  {
   "cell_type": "code",
   "execution_count": null,
   "metadata": {},
   "outputs": [],
   "source": []
  },
  {
   "cell_type": "code",
   "execution_count": null,
   "metadata": {},
   "outputs": [],
   "source": []
  },
  {
   "cell_type": "code",
   "execution_count": null,
   "metadata": {},
   "outputs": [],
   "source": []
  },
  {
   "cell_type": "code",
   "execution_count": null,
   "metadata": {},
   "outputs": [],
   "source": []
  },
  {
   "cell_type": "code",
   "execution_count": null,
   "metadata": {},
   "outputs": [],
   "source": []
  },
  {
   "cell_type": "code",
   "execution_count": null,
   "metadata": {},
   "outputs": [],
   "source": []
  },
  {
   "cell_type": "code",
   "execution_count": null,
   "metadata": {},
   "outputs": [],
   "source": []
  },
  {
   "cell_type": "code",
   "execution_count": 226,
   "metadata": {},
   "outputs": [
    {
     "data": {
      "text/plain": [
       "pandas.core.frame.DataFrame"
      ]
     },
     "execution_count": 226,
     "metadata": {},
     "output_type": "execute_result"
    }
   ],
   "source": [
    "import datetime as dt\n",
    "walmart_data['Date'] = pd.to_datetime(walmart_data['Date'])\n",
    "walmart_data['Date']=walmart_data['Date'].map(dt.datetime.toordinal)\n",
    "x_features=walmart_data[['Date']]\n",
    "type(x_features)"
   ]
  },
  {
   "cell_type": "code",
   "execution_count": 227,
   "metadata": {},
   "outputs": [
    {
     "data": {
      "text/html": [
       "<div>\n",
       "<style scoped>\n",
       "    .dataframe tbody tr th:only-of-type {\n",
       "        vertical-align: middle;\n",
       "    }\n",
       "\n",
       "    .dataframe tbody tr th {\n",
       "        vertical-align: top;\n",
       "    }\n",
       "\n",
       "    .dataframe thead th {\n",
       "        text-align: right;\n",
       "    }\n",
       "</style>\n",
       "<table border=\"1\" class=\"dataframe\">\n",
       "  <thead>\n",
       "    <tr style=\"text-align: right;\">\n",
       "      <th></th>\n",
       "      <th>Weekly_Sales</th>\n",
       "    </tr>\n",
       "  </thead>\n",
       "  <tbody>\n",
       "    <tr>\n",
       "      <th>0</th>\n",
       "      <td>1643690.90</td>\n",
       "    </tr>\n",
       "    <tr>\n",
       "      <th>1</th>\n",
       "      <td>1641957.44</td>\n",
       "    </tr>\n",
       "    <tr>\n",
       "      <th>2</th>\n",
       "      <td>1611968.17</td>\n",
       "    </tr>\n",
       "    <tr>\n",
       "      <th>3</th>\n",
       "      <td>1409727.59</td>\n",
       "    </tr>\n",
       "    <tr>\n",
       "      <th>4</th>\n",
       "      <td>1554806.68</td>\n",
       "    </tr>\n",
       "  </tbody>\n",
       "</table>\n",
       "</div>"
      ],
      "text/plain": [
       "   Weekly_Sales\n",
       "0    1643690.90\n",
       "1    1641957.44\n",
       "2    1611968.17\n",
       "3    1409727.59\n",
       "4    1554806.68"
      ]
     },
     "execution_count": 227,
     "metadata": {},
     "output_type": "execute_result"
    }
   ],
   "source": [
    "y_target=walmart_data[['Weekly_Sales']]\n",
    "y_target.head()"
   ]
  },
  {
   "cell_type": "code",
   "execution_count": 218,
   "metadata": {},
   "outputs": [
    {
     "data": {
      "text/plain": [
       "(6435, 1)"
      ]
     },
     "execution_count": 218,
     "metadata": {},
     "output_type": "execute_result"
    }
   ],
   "source": [
    "x_features.shape"
   ]
  },
  {
   "cell_type": "code",
   "execution_count": 219,
   "metadata": {},
   "outputs": [
    {
     "data": {
      "text/plain": [
       "(6435, 1)"
      ]
     },
     "execution_count": 219,
     "metadata": {},
     "output_type": "execute_result"
    }
   ],
   "source": [
    "y_target.shape"
   ]
  },
  {
   "cell_type": "code",
   "execution_count": 220,
   "metadata": {},
   "outputs": [],
   "source": [
    "from sklearn.model_selection import train_test_split\n",
    "x_train,x_test,y_train,y_test=train_test_split(x_features,y_target,random_state=30)"
   ]
  },
  {
   "cell_type": "code",
   "execution_count": 221,
   "metadata": {},
   "outputs": [
    {
     "name": "stdout",
     "output_type": "stream",
     "text": [
      "(4826, 1) (1609, 1) (4826, 1) (1609, 1)\n"
     ]
    }
   ],
   "source": [
    "print(x_train.shape, x_test.shape, y_train.shape, y_test.shape)"
   ]
  },
  {
   "cell_type": "code",
   "execution_count": 222,
   "metadata": {},
   "outputs": [
    {
     "data": {
      "text/plain": [
       "LinearRegression(copy_X=True, fit_intercept=True, n_jobs=None,\n",
       "         normalize=False)"
      ]
     },
     "execution_count": 222,
     "metadata": {},
     "output_type": "execute_result"
    }
   ],
   "source": [
    "from sklearn.linear_model import LinearRegression\n",
    "linreg=LinearRegression()\n",
    "linreg.fit(x_train,y_train)"
   ]
  },
  {
   "cell_type": "code",
   "execution_count": 223,
   "metadata": {},
   "outputs": [
    {
     "name": "stdout",
     "output_type": "stream",
     "text": [
      "[1046844.25660174]\n",
      "[[0.]]\n"
     ]
    }
   ],
   "source": [
    "print(linreg.intercept_)\n",
    "print(linreg.coef_)"
   ]
  },
  {
   "cell_type": "code",
   "execution_count": 228,
   "metadata": {},
   "outputs": [
    {
     "data": {
      "text/plain": [
       "array([[1046844.25660174],\n",
       "       [1046844.25660174],\n",
       "       [1046844.25660174],\n",
       "       ...,\n",
       "       [1046844.25660174],\n",
       "       [1046844.25660174],\n",
       "       [1046844.25660174]])"
      ]
     },
     "execution_count": 228,
     "metadata": {},
     "output_type": "execute_result"
    }
   ],
   "source": [
    "y_pred=linreg.predict(x_test)\n",
    "y_pred"
   ]
  },
  {
   "cell_type": "code",
   "execution_count": 229,
   "metadata": {},
   "outputs": [],
   "source": [
    "from sklearn import metrics\n",
    "import numpy as np"
   ]
  },
  {
   "cell_type": "code",
   "execution_count": 230,
   "metadata": {},
   "outputs": [
    {
     "name": "stdout",
     "output_type": "stream",
     "text": [
      "552576.5425448267\n"
     ]
    }
   ],
   "source": [
    "print(np.sqrt(metrics.mean_squared_error(y_test,y_pred)))"
   ]
  },
  {
   "cell_type": "code",
   "execution_count": null,
   "metadata": {},
   "outputs": [],
   "source": []
  }
 ],
 "metadata": {
  "kernelspec": {
   "display_name": "Python 3",
   "language": "python",
   "name": "python3"
  },
  "language_info": {
   "codemirror_mode": {
    "name": "ipython",
    "version": 3
   },
   "file_extension": ".py",
   "mimetype": "text/x-python",
   "name": "python",
   "nbconvert_exporter": "python",
   "pygments_lexer": "ipython3",
   "version": "3.7.3"
  }
 },
 "nbformat": 4,
 "nbformat_minor": 2
}
