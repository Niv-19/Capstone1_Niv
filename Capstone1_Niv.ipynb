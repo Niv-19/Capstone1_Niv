{
 "cells": [
  {
   "cell_type": "code",
   "execution_count": 25,
   "metadata": {},
   "outputs": [],
   "source": [
    "import pandas as pd\n",
    "import matplotlib.pyplot as plt\n",
    "import numpy as np"
   ]
  },
  {
   "cell_type": "code",
   "execution_count": 8,
   "metadata": {},
   "outputs": [],
   "source": [
    "walmart_data= pd.read_csv(\"/Users/nivzz/Downloads/Walmart_Store_sales.csv\")"
   ]
  },
  {
   "cell_type": "code",
   "execution_count": 53,
   "metadata": {},
   "outputs": [
    {
     "data": {
      "text/html": [
       "<div>\n",
       "<style scoped>\n",
       "    .dataframe tbody tr th:only-of-type {\n",
       "        vertical-align: middle;\n",
       "    }\n",
       "\n",
       "    .dataframe tbody tr th {\n",
       "        vertical-align: top;\n",
       "    }\n",
       "\n",
       "    .dataframe thead th {\n",
       "        text-align: right;\n",
       "    }\n",
       "</style>\n",
       "<table border=\"1\" class=\"dataframe\">\n",
       "  <thead>\n",
       "    <tr style=\"text-align: right;\">\n",
       "      <th></th>\n",
       "      <th>Store</th>\n",
       "      <th>Date</th>\n",
       "      <th>Weekly_Sales</th>\n",
       "      <th>Holiday_Flag</th>\n",
       "      <th>Temperature</th>\n",
       "      <th>Fuel_Price</th>\n",
       "      <th>CPI</th>\n",
       "      <th>Unemployment</th>\n",
       "    </tr>\n",
       "  </thead>\n",
       "  <tbody>\n",
       "    <tr>\n",
       "      <th>0</th>\n",
       "      <td>1</td>\n",
       "      <td>5/2/10</td>\n",
       "      <td>1643690.90</td>\n",
       "      <td>0</td>\n",
       "      <td>42.31</td>\n",
       "      <td>2.572</td>\n",
       "      <td>211.096358</td>\n",
       "      <td>8.106</td>\n",
       "    </tr>\n",
       "    <tr>\n",
       "      <th>1</th>\n",
       "      <td>1</td>\n",
       "      <td>12/2/10</td>\n",
       "      <td>1641957.44</td>\n",
       "      <td>1</td>\n",
       "      <td>38.51</td>\n",
       "      <td>2.548</td>\n",
       "      <td>211.242170</td>\n",
       "      <td>8.106</td>\n",
       "    </tr>\n",
       "    <tr>\n",
       "      <th>2</th>\n",
       "      <td>1</td>\n",
       "      <td>19-02-2010</td>\n",
       "      <td>1611968.17</td>\n",
       "      <td>0</td>\n",
       "      <td>39.93</td>\n",
       "      <td>2.514</td>\n",
       "      <td>211.289143</td>\n",
       "      <td>8.106</td>\n",
       "    </tr>\n",
       "    <tr>\n",
       "      <th>3</th>\n",
       "      <td>1</td>\n",
       "      <td>26-02-2010</td>\n",
       "      <td>1409727.59</td>\n",
       "      <td>0</td>\n",
       "      <td>46.63</td>\n",
       "      <td>2.561</td>\n",
       "      <td>211.319643</td>\n",
       "      <td>8.106</td>\n",
       "    </tr>\n",
       "    <tr>\n",
       "      <th>4</th>\n",
       "      <td>1</td>\n",
       "      <td>5/3/10</td>\n",
       "      <td>1554806.68</td>\n",
       "      <td>0</td>\n",
       "      <td>46.50</td>\n",
       "      <td>2.625</td>\n",
       "      <td>211.350143</td>\n",
       "      <td>8.106</td>\n",
       "    </tr>\n",
       "  </tbody>\n",
       "</table>\n",
       "</div>"
      ],
      "text/plain": [
       "   Store        Date  Weekly_Sales  Holiday_Flag  Temperature  Fuel_Price  \\\n",
       "0      1      5/2/10    1643690.90             0        42.31       2.572   \n",
       "1      1     12/2/10    1641957.44             1        38.51       2.548   \n",
       "2      1  19-02-2010    1611968.17             0        39.93       2.514   \n",
       "3      1  26-02-2010    1409727.59             0        46.63       2.561   \n",
       "4      1      5/3/10    1554806.68             0        46.50       2.625   \n",
       "\n",
       "          CPI  Unemployment  \n",
       "0  211.096358         8.106  \n",
       "1  211.242170         8.106  \n",
       "2  211.289143         8.106  \n",
       "3  211.319643         8.106  \n",
       "4  211.350143         8.106  "
      ]
     },
     "execution_count": 53,
     "metadata": {},
     "output_type": "execute_result"
    }
   ],
   "source": [
    "walmart_data.head()"
   ]
  },
  {
   "cell_type": "code",
   "execution_count": 30,
   "metadata": {},
   "outputs": [
    {
     "name": "stdout",
     "output_type": "stream",
     "text": [
      "<class 'pandas.core.frame.DataFrame'>\n",
      "RangeIndex: 6435 entries, 0 to 6434\n",
      "Data columns (total 8 columns):\n",
      "Store           6435 non-null int64\n",
      "Date            6435 non-null object\n",
      "Weekly_Sales    6435 non-null float64\n",
      "Holiday_Flag    6435 non-null int64\n",
      "Temperature     6435 non-null float64\n",
      "Fuel_Price      6435 non-null float64\n",
      "CPI             6435 non-null float64\n",
      "Unemployment    6435 non-null float64\n",
      "dtypes: float64(5), int64(2), object(1)\n",
      "memory usage: 402.3+ KB\n"
     ]
    }
   ],
   "source": [
    "walmart_data.info()"
   ]
  },
  {
   "cell_type": "code",
   "execution_count": 31,
   "metadata": {},
   "outputs": [
    {
     "data": {
      "text/html": [
       "<div>\n",
       "<style scoped>\n",
       "    .dataframe tbody tr th:only-of-type {\n",
       "        vertical-align: middle;\n",
       "    }\n",
       "\n",
       "    .dataframe tbody tr th {\n",
       "        vertical-align: top;\n",
       "    }\n",
       "\n",
       "    .dataframe thead th {\n",
       "        text-align: right;\n",
       "    }\n",
       "</style>\n",
       "<table border=\"1\" class=\"dataframe\">\n",
       "  <thead>\n",
       "    <tr style=\"text-align: right;\">\n",
       "      <th></th>\n",
       "      <th>Store</th>\n",
       "      <th>Weekly_Sales</th>\n",
       "      <th>Holiday_Flag</th>\n",
       "      <th>Temperature</th>\n",
       "      <th>Fuel_Price</th>\n",
       "      <th>CPI</th>\n",
       "      <th>Unemployment</th>\n",
       "    </tr>\n",
       "  </thead>\n",
       "  <tbody>\n",
       "    <tr>\n",
       "      <th>count</th>\n",
       "      <td>6435.000000</td>\n",
       "      <td>6.435000e+03</td>\n",
       "      <td>6435.000000</td>\n",
       "      <td>6435.000000</td>\n",
       "      <td>6435.000000</td>\n",
       "      <td>6435.000000</td>\n",
       "      <td>6435.000000</td>\n",
       "    </tr>\n",
       "    <tr>\n",
       "      <th>mean</th>\n",
       "      <td>23.000000</td>\n",
       "      <td>1.046965e+06</td>\n",
       "      <td>0.069930</td>\n",
       "      <td>60.663782</td>\n",
       "      <td>3.358607</td>\n",
       "      <td>171.578394</td>\n",
       "      <td>7.999151</td>\n",
       "    </tr>\n",
       "    <tr>\n",
       "      <th>std</th>\n",
       "      <td>12.988182</td>\n",
       "      <td>5.643666e+05</td>\n",
       "      <td>0.255049</td>\n",
       "      <td>18.444933</td>\n",
       "      <td>0.459020</td>\n",
       "      <td>39.356712</td>\n",
       "      <td>1.875885</td>\n",
       "    </tr>\n",
       "    <tr>\n",
       "      <th>min</th>\n",
       "      <td>1.000000</td>\n",
       "      <td>2.099862e+05</td>\n",
       "      <td>0.000000</td>\n",
       "      <td>-2.060000</td>\n",
       "      <td>2.472000</td>\n",
       "      <td>126.064000</td>\n",
       "      <td>3.879000</td>\n",
       "    </tr>\n",
       "    <tr>\n",
       "      <th>25%</th>\n",
       "      <td>12.000000</td>\n",
       "      <td>5.533501e+05</td>\n",
       "      <td>0.000000</td>\n",
       "      <td>47.460000</td>\n",
       "      <td>2.933000</td>\n",
       "      <td>131.735000</td>\n",
       "      <td>6.891000</td>\n",
       "    </tr>\n",
       "    <tr>\n",
       "      <th>50%</th>\n",
       "      <td>23.000000</td>\n",
       "      <td>9.607460e+05</td>\n",
       "      <td>0.000000</td>\n",
       "      <td>62.670000</td>\n",
       "      <td>3.445000</td>\n",
       "      <td>182.616521</td>\n",
       "      <td>7.874000</td>\n",
       "    </tr>\n",
       "    <tr>\n",
       "      <th>75%</th>\n",
       "      <td>34.000000</td>\n",
       "      <td>1.420159e+06</td>\n",
       "      <td>0.000000</td>\n",
       "      <td>74.940000</td>\n",
       "      <td>3.735000</td>\n",
       "      <td>212.743293</td>\n",
       "      <td>8.622000</td>\n",
       "    </tr>\n",
       "    <tr>\n",
       "      <th>max</th>\n",
       "      <td>45.000000</td>\n",
       "      <td>3.818686e+06</td>\n",
       "      <td>1.000000</td>\n",
       "      <td>100.140000</td>\n",
       "      <td>4.468000</td>\n",
       "      <td>227.232807</td>\n",
       "      <td>14.313000</td>\n",
       "    </tr>\n",
       "  </tbody>\n",
       "</table>\n",
       "</div>"
      ],
      "text/plain": [
       "             Store  Weekly_Sales  Holiday_Flag  Temperature   Fuel_Price  \\\n",
       "count  6435.000000  6.435000e+03   6435.000000  6435.000000  6435.000000   \n",
       "mean     23.000000  1.046965e+06      0.069930    60.663782     3.358607   \n",
       "std      12.988182  5.643666e+05      0.255049    18.444933     0.459020   \n",
       "min       1.000000  2.099862e+05      0.000000    -2.060000     2.472000   \n",
       "25%      12.000000  5.533501e+05      0.000000    47.460000     2.933000   \n",
       "50%      23.000000  9.607460e+05      0.000000    62.670000     3.445000   \n",
       "75%      34.000000  1.420159e+06      0.000000    74.940000     3.735000   \n",
       "max      45.000000  3.818686e+06      1.000000   100.140000     4.468000   \n",
       "\n",
       "               CPI  Unemployment  \n",
       "count  6435.000000   6435.000000  \n",
       "mean    171.578394      7.999151  \n",
       "std      39.356712      1.875885  \n",
       "min     126.064000      3.879000  \n",
       "25%     131.735000      6.891000  \n",
       "50%     182.616521      7.874000  \n",
       "75%     212.743293      8.622000  \n",
       "max     227.232807     14.313000  "
      ]
     },
     "execution_count": 31,
     "metadata": {},
     "output_type": "execute_result"
    }
   ],
   "source": [
    "walmart_data.describe()"
   ]
  },
  {
   "cell_type": "code",
   "execution_count": null,
   "metadata": {},
   "outputs": [],
   "source": []
  },
  {
   "cell_type": "code",
   "execution_count": 10,
   "metadata": {},
   "outputs": [
    {
     "data": {
      "text/html": [
       "<div>\n",
       "<style scoped>\n",
       "    .dataframe tbody tr th:only-of-type {\n",
       "        vertical-align: middle;\n",
       "    }\n",
       "\n",
       "    .dataframe tbody tr th {\n",
       "        vertical-align: top;\n",
       "    }\n",
       "\n",
       "    .dataframe thead th {\n",
       "        text-align: right;\n",
       "    }\n",
       "</style>\n",
       "<table border=\"1\" class=\"dataframe\">\n",
       "  <thead>\n",
       "    <tr style=\"text-align: right;\">\n",
       "      <th></th>\n",
       "      <th>Store</th>\n",
       "      <th>Weekly_Sales</th>\n",
       "      <th>Holiday_Flag</th>\n",
       "      <th>Temperature</th>\n",
       "      <th>Fuel_Price</th>\n",
       "      <th>CPI</th>\n",
       "      <th>Unemployment</th>\n",
       "    </tr>\n",
       "  </thead>\n",
       "  <tbody>\n",
       "    <tr>\n",
       "      <th>Store</th>\n",
       "      <td>1.000000e+00</td>\n",
       "      <td>-0.335332</td>\n",
       "      <td>6.250842e-20</td>\n",
       "      <td>-0.022659</td>\n",
       "      <td>0.060023</td>\n",
       "      <td>-0.209492</td>\n",
       "      <td>0.223531</td>\n",
       "    </tr>\n",
       "    <tr>\n",
       "      <th>Weekly_Sales</th>\n",
       "      <td>-3.353320e-01</td>\n",
       "      <td>1.000000</td>\n",
       "      <td>3.689097e-02</td>\n",
       "      <td>-0.063810</td>\n",
       "      <td>0.009464</td>\n",
       "      <td>-0.072634</td>\n",
       "      <td>-0.106176</td>\n",
       "    </tr>\n",
       "    <tr>\n",
       "      <th>Holiday_Flag</th>\n",
       "      <td>6.250842e-20</td>\n",
       "      <td>0.036891</td>\n",
       "      <td>1.000000e+00</td>\n",
       "      <td>-0.155091</td>\n",
       "      <td>-0.078347</td>\n",
       "      <td>-0.002162</td>\n",
       "      <td>0.010960</td>\n",
       "    </tr>\n",
       "    <tr>\n",
       "      <th>Temperature</th>\n",
       "      <td>-2.265908e-02</td>\n",
       "      <td>-0.063810</td>\n",
       "      <td>-1.550913e-01</td>\n",
       "      <td>1.000000</td>\n",
       "      <td>0.144982</td>\n",
       "      <td>0.176888</td>\n",
       "      <td>0.101158</td>\n",
       "    </tr>\n",
       "    <tr>\n",
       "      <th>Fuel_Price</th>\n",
       "      <td>6.002295e-02</td>\n",
       "      <td>0.009464</td>\n",
       "      <td>-7.834652e-02</td>\n",
       "      <td>0.144982</td>\n",
       "      <td>1.000000</td>\n",
       "      <td>-0.170642</td>\n",
       "      <td>-0.034684</td>\n",
       "    </tr>\n",
       "    <tr>\n",
       "      <th>CPI</th>\n",
       "      <td>-2.094919e-01</td>\n",
       "      <td>-0.072634</td>\n",
       "      <td>-2.162091e-03</td>\n",
       "      <td>0.176888</td>\n",
       "      <td>-0.170642</td>\n",
       "      <td>1.000000</td>\n",
       "      <td>-0.302020</td>\n",
       "    </tr>\n",
       "    <tr>\n",
       "      <th>Unemployment</th>\n",
       "      <td>2.235313e-01</td>\n",
       "      <td>-0.106176</td>\n",
       "      <td>1.096028e-02</td>\n",
       "      <td>0.101158</td>\n",
       "      <td>-0.034684</td>\n",
       "      <td>-0.302020</td>\n",
       "      <td>1.000000</td>\n",
       "    </tr>\n",
       "  </tbody>\n",
       "</table>\n",
       "</div>"
      ],
      "text/plain": [
       "                     Store  Weekly_Sales  Holiday_Flag  Temperature  \\\n",
       "Store         1.000000e+00     -0.335332  6.250842e-20    -0.022659   \n",
       "Weekly_Sales -3.353320e-01      1.000000  3.689097e-02    -0.063810   \n",
       "Holiday_Flag  6.250842e-20      0.036891  1.000000e+00    -0.155091   \n",
       "Temperature  -2.265908e-02     -0.063810 -1.550913e-01     1.000000   \n",
       "Fuel_Price    6.002295e-02      0.009464 -7.834652e-02     0.144982   \n",
       "CPI          -2.094919e-01     -0.072634 -2.162091e-03     0.176888   \n",
       "Unemployment  2.235313e-01     -0.106176  1.096028e-02     0.101158   \n",
       "\n",
       "              Fuel_Price       CPI  Unemployment  \n",
       "Store           0.060023 -0.209492      0.223531  \n",
       "Weekly_Sales    0.009464 -0.072634     -0.106176  \n",
       "Holiday_Flag   -0.078347 -0.002162      0.010960  \n",
       "Temperature     0.144982  0.176888      0.101158  \n",
       "Fuel_Price      1.000000 -0.170642     -0.034684  \n",
       "CPI            -0.170642  1.000000     -0.302020  \n",
       "Unemployment   -0.034684 -0.302020      1.000000  "
      ]
     },
     "execution_count": 10,
     "metadata": {},
     "output_type": "execute_result"
    }
   ],
   "source": [
    "walmart_data.corr() #Holiday_flag & store | Fuel_price & Holiday_flag (-)|"
   ]
  },
  {
   "cell_type": "code",
   "execution_count": 13,
   "metadata": {},
   "outputs": [
    {
     "data": {
      "image/png": "[encoded data removed]",
      "text/plain": [
       "<Figure size 432x288 with 9 Axes>"
      ]
     },
     "metadata": {
      "needs_background": "light"
     },
     "output_type": "display_data"
    }
   ],
   "source": [
    "walmart_data.hist()\n",
    "plt.tight_layout()"
   ]
  },
  {
   "cell_type": "code",
   "execution_count": 20,
   "metadata": {},
   "outputs": [
    {
     "data": {
      "text/plain": [
       "array([ 8.106,  7.808,  7.787,  7.838,  7.742,  7.682,  7.962,  7.866,\n",
       "        7.348,  7.143,  6.908,  6.573,  8.324,  8.2  ,  8.099,  8.163,\n",
       "        8.028,  7.931,  7.852,  7.441,  7.057,  6.891,  6.565,  6.17 ,\n",
       "        7.368,  7.343,  7.346,  7.564,  7.551,  7.574,  7.567,  7.197,\n",
       "        6.833,  6.664,  6.334,  6.034,  8.623,  7.896,  7.372,  7.127,\n",
       "        6.51 ,  5.946,  5.644,  5.143,  4.607,  4.308,  4.077,  3.879,\n",
       "        6.566,  6.465,  6.496,  6.768,  6.634,  6.489,  6.529,  6.3  ,\n",
       "        5.943,  5.801,  5.603,  5.422,  7.259,  7.092,  6.973,  7.007,\n",
       "        6.858,  6.855,  6.925,  6.551,  6.132,  5.964,  5.668,  5.329,\n",
       "        9.014,  8.963,  9.017,  9.137,  8.818,  8.595,  8.622,  8.513,\n",
       "        8.256,  8.09 ,  7.872,  7.557,  6.299,  6.29 ,  6.315,  6.433,\n",
       "        6.262,  6.297,  6.425,  6.123,  5.825,  5.679,  5.401,  5.124,\n",
       "        6.415,  6.384,  6.442,  6.56 ,  6.416,  6.38 ,  6.404,  6.054,\n",
       "        5.667,  5.539,  5.277,  4.954,  9.765,  9.524,  9.199,  9.003,\n",
       "        8.744,  8.494,  8.257,  7.874,  7.545,  7.382,  7.17 ,  6.943,\n",
       "       13.975, 14.099, 14.18 , 14.313, 14.021, 13.736, 13.503, 12.89 ,\n",
       "       12.187, 11.627, 10.926, 10.199,  8.316,  8.107,  7.951,  7.795,\n",
       "        7.47 ,  7.193,  6.877,  6.392,  6.104,  5.965,  5.765,  5.621,\n",
       "        8.992,  8.899,  8.743,  8.724,  8.549,  8.521,  8.625,  8.523,\n",
       "        8.424,  8.567,  8.684,  8.667,  8.35 ,  8.185,  8.067,  7.771,\n",
       "        7.658,  7.806,  7.943,  8.15 ,  8.193,  7.992,  7.039,  6.842,\n",
       "        6.868,  6.986,  6.614,  6.339,  6.338,  6.232,  6.162,  6.169,\n",
       "        6.061,  5.847,  6.548,  6.635,  6.697,  6.885,  6.866,  6.774,\n",
       "        6.745,  6.617,  6.403,  6.235,  5.936,  5.527,  9.202,  9.269,\n",
       "        9.342,  9.331,  9.131,  8.975,  8.89 ,  8.471,  8.075,  8.304,\n",
       "        8.535,  8.243,  8.187,  7.856,  7.527,  7.484,  7.287,  7.274,\n",
       "        7.082,  6.961,  7.139,  7.28 ,  7.293,  8.283,  8.348,  8.433,\n",
       "        8.572,  8.458,  8.252,  8.023,  7.706,  7.503,  7.671,  7.753,\n",
       "        7.543,  5.892,  5.435,  5.326,  5.287,  5.114,  4.781,  4.584,\n",
       "        4.42 ,  4.261,  4.125,  4.156,  4.145,  8.326,  8.211,  8.117,\n",
       "        8.275,  8.212,  8.358,  8.454,  8.659,  8.983,  8.953,  8.693,\n",
       "        8.488,  8.512,  8.445,  8.149,  7.907,  7.818,  7.767,  7.598,\n",
       "        7.467,  7.489,  7.405,  7.138,  8.237,  8.058,  7.982,  8.021,\n",
       "        7.827,  7.725,  7.85 ,  7.906,  8.009,  8.253,  8.239,  8.   ,\n",
       "       10.064, 10.16 , 10.409, 10.524, 10.256,  9.966,  9.863,  9.357,\n",
       "        8.988,  9.14 ,  9.419,  9.151, 10.115,  9.849,  9.495,  9.265,\n",
       "        8.951,  8.687,  8.442,  8.01 ,  7.603,  7.396,  7.147,  6.895,\n",
       "        9.521,  9.593,  9.816, 10.21 , 10.398, 10.581, 10.641, 10.148,\n",
       "        9.653,  9.575,  9.285,  8.839,  9.262,  9.051,  8.861,  8.763,\n",
       "        8.745,  8.876,  8.665,  8.554,  8.464,  8.36 ,  8.476,  8.395,\n",
       "        8.3  ,  8.177,  7.716,  7.244,  6.989,  6.623,  6.228,  7.541,\n",
       "        7.363,  7.335,  7.508,  7.241,  6.934,  6.901,  6.759,  6.589,\n",
       "        6.547,  6.432,  6.195,  8.119,  7.972,  7.804,  7.61 ,  7.224,\n",
       "        6.906,  6.078,  5.774,  5.407,  5.217])"
      ]
     },
     "execution_count": 20,
     "metadata": {},
     "output_type": "execute_result"
    }
   ],
   "source": [
    "walmart_data['Unemployment'].unique()"
   ]
  },
  {
   "cell_type": "code",
   "execution_count": 46,
   "metadata": {},
   "outputs": [
    {
     "name": "stdout",
     "output_type": "stream",
     "text": [
      "Store\n",
      "1     1.555264e+06\n",
      "2     1.925751e+06\n",
      "3     4.027044e+05\n",
      "4     2.094713e+06\n",
      "5     3.180118e+05\n",
      "6     1.564728e+06\n",
      "7     5.706173e+05\n",
      "8     9.087495e+05\n",
      "9     5.439806e+05\n",
      "10    1.899425e+06\n",
      "11    1.356383e+06\n",
      "12    1.009002e+06\n",
      "13    2.003620e+06\n",
      "14    2.020978e+06\n",
      "15    6.233125e+05\n",
      "16    5.192477e+05\n",
      "17    8.935814e+05\n",
      "18    1.084718e+06\n",
      "19    1.444999e+06\n",
      "20    2.107677e+06\n",
      "21    7.560691e+05\n",
      "22    1.028501e+06\n",
      "23    1.389864e+06\n",
      "24    1.356755e+06\n",
      "25    7.067215e+05\n",
      "26    1.002912e+06\n",
      "27    1.775216e+06\n",
      "28    1.323522e+06\n",
      "29    5.394514e+05\n",
      "30    4.385796e+05\n",
      "31    1.395901e+06\n",
      "32    1.166568e+06\n",
      "33    2.598617e+05\n",
      "34    9.667816e+05\n",
      "35    9.197250e+05\n",
      "36    3.735120e+05\n",
      "37    5.189003e+05\n",
      "38    3.857317e+05\n",
      "39    1.450668e+06\n",
      "40    9.641280e+05\n",
      "41    1.268125e+06\n",
      "42    5.564039e+05\n",
      "43    6.333247e+05\n",
      "44    3.027489e+05\n",
      "45    7.859814e+05\n",
      "Name: Weekly_Sales, dtype: float64\n"
     ]
    }
   ],
   "source": [
    "x=walmart_data[['Unemployment']].groupby(walmart_data['Store'])['Unemployment'].median()\n",
    "y=walmart_data.groupby(walmart_data['Store'])['Weekly_Sales'].mean()\n",
    "#print(x)\n",
    "print(y)"
   ]
  },
  {
   "cell_type": "code",
   "execution_count": 48,
   "metadata": {},
   "outputs": [
    {
     "data": {
      "image/png": "[encoded data removed]",
      "text/plain": [
       "<Figure size 432x288 with 1 Axes>"
      ]
     },
     "metadata": {
      "needs_background": "light"
     },
     "output_type": "display_data"
    }
   ],
   "source": [
    "#Scatter plot between Unemployment vs Weekly Sales per store\n",
    "y=walmart_data[['Unemployment']].groupby(walmart_data['Store'])['Unemployment'].median()\n",
    "z=walmart_data.groupby(walmart_data['Store'])['Weekly_Sales'].mean()\n",
    "x=range(1,46)\n",
    "plt.scatter(x,y,c='r')\n",
    "plt.scatter(x,z,c='b')\n",
    "\n",
    "plt.show()"
   ]
  },
  {
   "cell_type": "code",
   "execution_count": 57,
   "metadata": {},
   "outputs": [
    {
     "data": {
      "text/html": [
       "<div>\n",
       "<style scoped>\n",
       "    .dataframe tbody tr th:only-of-type {\n",
       "        vertical-align: middle;\n",
       "    }\n",
       "\n",
       "    .dataframe tbody tr th {\n",
       "        vertical-align: top;\n",
       "    }\n",
       "\n",
       "    .dataframe thead th {\n",
       "        text-align: right;\n",
       "    }\n",
       "</style>\n",
       "<table border=\"1\" class=\"dataframe\">\n",
       "  <thead>\n",
       "    <tr style=\"text-align: right;\">\n",
       "      <th></th>\n",
       "      <th>Store</th>\n",
       "      <th>Date</th>\n",
       "      <th>Weekly_Sales</th>\n",
       "      <th>Holiday_Flag</th>\n",
       "      <th>Temperature</th>\n",
       "      <th>Fuel_Price</th>\n",
       "      <th>CPI</th>\n",
       "      <th>Unemployment</th>\n",
       "    </tr>\n",
       "  </thead>\n",
       "  <tbody>\n",
       "    <tr>\n",
       "      <th>1905</th>\n",
       "      <td>14</td>\n",
       "      <td>24-12-2010</td>\n",
       "      <td>3818686.45</td>\n",
       "      <td>0</td>\n",
       "      <td>30.59</td>\n",
       "      <td>3.141</td>\n",
       "      <td>182.54459</td>\n",
       "      <td>8.724</td>\n",
       "    </tr>\n",
       "  </tbody>\n",
       "</table>\n",
       "</div>"
      ],
      "text/plain": [
       "      Store        Date  Weekly_Sales  Holiday_Flag  Temperature  Fuel_Price  \\\n",
       "1905     14  24-12-2010    3818686.45             0        30.59       3.141   \n",
       "\n",
       "            CPI  Unemployment  \n",
       "1905  182.54459         8.724  "
      ]
     },
     "execution_count": 57,
     "metadata": {},
     "output_type": "execute_result"
    }
   ],
   "source": [
    "#Store that has maximum sale\n",
    "'''Look for sorting of weekly-sales to find top 10 weeks for shopping'''\n",
    "Max_sale=walmart_data.loc[[walmart_data['Weekly_Sales'].idxmax()]]\n",
    "Max_sale"
   ]
  },
  {
   "cell_type": "code",
   "execution_count": 85,
   "metadata": {},
   "outputs": [
    {
     "data": {
      "text/html": [
       "<div>\n",
       "<style scoped>\n",
       "    .dataframe tbody tr th:only-of-type {\n",
       "        vertical-align: middle;\n",
       "    }\n",
       "\n",
       "    .dataframe tbody tr th {\n",
       "        vertical-align: top;\n",
       "    }\n",
       "\n",
       "    .dataframe thead th {\n",
       "        text-align: right;\n",
       "    }\n",
       "</style>\n",
       "<table border=\"1\" class=\"dataframe\">\n",
       "  <thead>\n",
       "    <tr style=\"text-align: right;\">\n",
       "      <th></th>\n",
       "      <th>Store</th>\n",
       "      <th>Date</th>\n",
       "      <th>Weekly_Sales</th>\n",
       "      <th>Holiday_Flag</th>\n",
       "      <th>Temperature</th>\n",
       "      <th>Fuel_Price</th>\n",
       "      <th>CPI</th>\n",
       "      <th>Unemployment</th>\n",
       "    </tr>\n",
       "  </thead>\n",
       "  <tbody>\n",
       "    <tr>\n",
       "      <th>1905</th>\n",
       "      <td>14</td>\n",
       "      <td>2010-12-24</td>\n",
       "      <td>3818686.45</td>\n",
       "      <td>0</td>\n",
       "      <td>30.59</td>\n",
       "      <td>3.141</td>\n",
       "      <td>182.544590</td>\n",
       "      <td>8.724</td>\n",
       "    </tr>\n",
       "    <tr>\n",
       "      <th>2763</th>\n",
       "      <td>20</td>\n",
       "      <td>2010-12-24</td>\n",
       "      <td>3766687.43</td>\n",
       "      <td>0</td>\n",
       "      <td>25.17</td>\n",
       "      <td>3.141</td>\n",
       "      <td>204.637673</td>\n",
       "      <td>7.484</td>\n",
       "    </tr>\n",
       "    <tr>\n",
       "      <th>1333</th>\n",
       "      <td>10</td>\n",
       "      <td>2010-12-24</td>\n",
       "      <td>3749057.69</td>\n",
       "      <td>0</td>\n",
       "      <td>57.06</td>\n",
       "      <td>3.236</td>\n",
       "      <td>126.983581</td>\n",
       "      <td>9.003</td>\n",
       "    </tr>\n",
       "    <tr>\n",
       "      <th>527</th>\n",
       "      <td>4</td>\n",
       "      <td>2011-12-23</td>\n",
       "      <td>3676388.98</td>\n",
       "      <td>0</td>\n",
       "      <td>35.92</td>\n",
       "      <td>3.103</td>\n",
       "      <td>129.984548</td>\n",
       "      <td>5.143</td>\n",
       "    </tr>\n",
       "    <tr>\n",
       "      <th>1762</th>\n",
       "      <td>13</td>\n",
       "      <td>2010-12-24</td>\n",
       "      <td>3595903.20</td>\n",
       "      <td>0</td>\n",
       "      <td>34.90</td>\n",
       "      <td>2.846</td>\n",
       "      <td>126.983581</td>\n",
       "      <td>7.795</td>\n",
       "    </tr>\n",
       "    <tr>\n",
       "      <th>1814</th>\n",
       "      <td>13</td>\n",
       "      <td>2011-12-23</td>\n",
       "      <td>3556766.03</td>\n",
       "      <td>0</td>\n",
       "      <td>24.76</td>\n",
       "      <td>3.186</td>\n",
       "      <td>129.984548</td>\n",
       "      <td>6.392</td>\n",
       "    </tr>\n",
       "    <tr>\n",
       "      <th>2815</th>\n",
       "      <td>20</td>\n",
       "      <td>2011-12-23</td>\n",
       "      <td>3555371.03</td>\n",
       "      <td>0</td>\n",
       "      <td>40.19</td>\n",
       "      <td>3.389</td>\n",
       "      <td>212.236040</td>\n",
       "      <td>7.082</td>\n",
       "    </tr>\n",
       "    <tr>\n",
       "      <th>475</th>\n",
       "      <td>4</td>\n",
       "      <td>2010-12-24</td>\n",
       "      <td>3526713.39</td>\n",
       "      <td>0</td>\n",
       "      <td>43.21</td>\n",
       "      <td>2.887</td>\n",
       "      <td>126.983581</td>\n",
       "      <td>7.127</td>\n",
       "    </tr>\n",
       "    <tr>\n",
       "      <th>1385</th>\n",
       "      <td>10</td>\n",
       "      <td>2011-12-23</td>\n",
       "      <td>3487986.89</td>\n",
       "      <td>0</td>\n",
       "      <td>48.36</td>\n",
       "      <td>3.541</td>\n",
       "      <td>129.984548</td>\n",
       "      <td>7.874</td>\n",
       "    </tr>\n",
       "    <tr>\n",
       "      <th>189</th>\n",
       "      <td>2</td>\n",
       "      <td>2010-12-24</td>\n",
       "      <td>3436007.68</td>\n",
       "      <td>0</td>\n",
       "      <td>49.97</td>\n",
       "      <td>2.886</td>\n",
       "      <td>211.064660</td>\n",
       "      <td>8.163</td>\n",
       "    </tr>\n",
       "  </tbody>\n",
       "</table>\n",
       "</div>"
      ],
      "text/plain": [
       "      Store       Date  Weekly_Sales  Holiday_Flag  Temperature  Fuel_Price  \\\n",
       "1905     14 2010-12-24    3818686.45             0        30.59       3.141   \n",
       "2763     20 2010-12-24    3766687.43             0        25.17       3.141   \n",
       "1333     10 2010-12-24    3749057.69             0        57.06       3.236   \n",
       "527       4 2011-12-23    3676388.98             0        35.92       3.103   \n",
       "1762     13 2010-12-24    3595903.20             0        34.90       2.846   \n",
       "1814     13 2011-12-23    3556766.03             0        24.76       3.186   \n",
       "2815     20 2011-12-23    3555371.03             0        40.19       3.389   \n",
       "475       4 2010-12-24    3526713.39             0        43.21       2.887   \n",
       "1385     10 2011-12-23    3487986.89             0        48.36       3.541   \n",
       "189       2 2010-12-24    3436007.68             0        49.97       2.886   \n",
       "\n",
       "             CPI  Unemployment  \n",
       "1905  182.544590         8.724  \n",
       "2763  204.637673         7.484  \n",
       "1333  126.983581         9.003  \n",
       "527   129.984548         5.143  \n",
       "1762  126.983581         7.795  \n",
       "1814  129.984548         6.392  \n",
       "2815  212.236040         7.082  \n",
       "475   126.983581         7.127  \n",
       "1385  129.984548         7.874  \n",
       "189   211.064660         8.163  "
      ]
     },
     "execution_count": 85,
     "metadata": {},
     "output_type": "execute_result"
    }
   ],
   "source": [
    "#Top 10 Weekly_sales\n",
    "val=walmart_data.sort_values(by='Weekly_Sales', ascending=False)\n",
    "val.head(10)"
   ]
  },
  {
   "cell_type": "code",
   "execution_count": 83,
   "metadata": {},
   "outputs": [
    {
     "data": {
      "text/html": [
       "<div>\n",
       "<style scoped>\n",
       "    .dataframe tbody tr th:only-of-type {\n",
       "        vertical-align: middle;\n",
       "    }\n",
       "\n",
       "    .dataframe tbody tr th {\n",
       "        vertical-align: top;\n",
       "    }\n",
       "\n",
       "    .dataframe thead th {\n",
       "        text-align: right;\n",
       "    }\n",
       "</style>\n",
       "<table border=\"1\" class=\"dataframe\">\n",
       "  <thead>\n",
       "    <tr style=\"text-align: right;\">\n",
       "      <th></th>\n",
       "      <th>Store</th>\n",
       "      <th>Date</th>\n",
       "      <th>Weekly_Sales</th>\n",
       "      <th>Holiday_Flag</th>\n",
       "      <th>Temperature</th>\n",
       "      <th>Fuel_Price</th>\n",
       "      <th>CPI</th>\n",
       "      <th>Unemployment</th>\n",
       "    </tr>\n",
       "  </thead>\n",
       "  <tbody>\n",
       "    <tr>\n",
       "      <th>0</th>\n",
       "      <td>1</td>\n",
       "      <td>2010-05-02</td>\n",
       "      <td>1643690.90</td>\n",
       "      <td>0</td>\n",
       "      <td>42.31</td>\n",
       "      <td>2.572</td>\n",
       "      <td>211.096358</td>\n",
       "      <td>8.106</td>\n",
       "    </tr>\n",
       "    <tr>\n",
       "      <th>1</th>\n",
       "      <td>1</td>\n",
       "      <td>2010-12-02</td>\n",
       "      <td>1641957.44</td>\n",
       "      <td>1</td>\n",
       "      <td>38.51</td>\n",
       "      <td>2.548</td>\n",
       "      <td>211.242170</td>\n",
       "      <td>8.106</td>\n",
       "    </tr>\n",
       "    <tr>\n",
       "      <th>2</th>\n",
       "      <td>1</td>\n",
       "      <td>2010-02-19</td>\n",
       "      <td>1611968.17</td>\n",
       "      <td>0</td>\n",
       "      <td>39.93</td>\n",
       "      <td>2.514</td>\n",
       "      <td>211.289143</td>\n",
       "      <td>8.106</td>\n",
       "    </tr>\n",
       "    <tr>\n",
       "      <th>3</th>\n",
       "      <td>1</td>\n",
       "      <td>2010-02-26</td>\n",
       "      <td>1409727.59</td>\n",
       "      <td>0</td>\n",
       "      <td>46.63</td>\n",
       "      <td>2.561</td>\n",
       "      <td>211.319643</td>\n",
       "      <td>8.106</td>\n",
       "    </tr>\n",
       "    <tr>\n",
       "      <th>4</th>\n",
       "      <td>1</td>\n",
       "      <td>2010-05-03</td>\n",
       "      <td>1554806.68</td>\n",
       "      <td>0</td>\n",
       "      <td>46.50</td>\n",
       "      <td>2.625</td>\n",
       "      <td>211.350143</td>\n",
       "      <td>8.106</td>\n",
       "    </tr>\n",
       "  </tbody>\n",
       "</table>\n",
       "</div>"
      ],
      "text/plain": [
       "   Store       Date  Weekly_Sales  Holiday_Flag  Temperature  Fuel_Price  \\\n",
       "0      1 2010-05-02    1643690.90             0        42.31       2.572   \n",
       "1      1 2010-12-02    1641957.44             1        38.51       2.548   \n",
       "2      1 2010-02-19    1611968.17             0        39.93       2.514   \n",
       "3      1 2010-02-26    1409727.59             0        46.63       2.561   \n",
       "4      1 2010-05-03    1554806.68             0        46.50       2.625   \n",
       "\n",
       "          CPI  Unemployment  \n",
       "0  211.096358         8.106  \n",
       "1  211.242170         8.106  \n",
       "2  211.289143         8.106  \n",
       "3  211.319643         8.106  \n",
       "4  211.350143         8.106  "
      ]
     },
     "execution_count": 83,
     "metadata": {},
     "output_type": "execute_result"
    }
   ],
   "source": [
    "#Updating the Date column to year-month-date format\n",
    "walmart_data['Date'] = pd.to_datetime(walmart_data.Date)\n",
    "walmart_data.head()\n"
   ]
  },
  {
   "cell_type": "code",
   "execution_count": 61,
   "metadata": {},
   "outputs": [
    {
     "data": {
      "text/plain": [
       "<matplotlib.collections.PathCollection at 0x11c7f35f8>"
      ]
     },
     "execution_count": 61,
     "metadata": {},
     "output_type": "execute_result"
    },
    {
     "data": {
      "image/png": "[encoded data removed]",
      "text/plain": [
       "<Figure size 432x288 with 1 Axes>"
      ]
     },
     "metadata": {
      "needs_background": "light"
     },
     "output_type": "display_data"
    }
   ],
   "source": [
    "x=walmart_data.Weekly_Sales\n",
    "y=walmart_data.Unemployment\n",
    "plt.scatter(x,y)\n"
   ]
  },
  {
   "cell_type": "code",
   "execution_count": 75,
   "metadata": {},
   "outputs": [
    {
     "data": {
      "image/png": "[encoded data removed]",
      "text/plain": [
       "<Figure size 432x288 with 1 Axes>"
      ]
     },
     "metadata": {
      "needs_background": "light"
     },
     "output_type": "display_data"
    }
   ],
   "source": [
    "y=walmart_data.Weekly_Sales\n",
    "x=walmart_data.CPI\n",
    "plt.scatter(x,y,c='r')\n",
    "plt.tight_layout()"
   ]
  },
  {
   "cell_type": "code",
   "execution_count": 65,
   "metadata": {},
   "outputs": [
    {
     "data": {
      "image/png": "[encoded data removed]",
      "text/plain": [
       "<Figure size 432x288 with 1 Axes>"
      ]
     },
     "metadata": {
      "needs_background": "light"
     },
     "output_type": "display_data"
    }
   ],
   "source": [
    "x=walmart_data.Fuel_Price\n",
    "y=walmart_data.Weekly_Sales\n",
    "plt.scatter(x,y,c='g')\n",
    "plt.tight_layout()"
   ]
  },
  {
   "cell_type": "code",
   "execution_count": 67,
   "metadata": {},
   "outputs": [
    {
     "data": {
      "image/png": "[encoded data removed]",
      "text/plain": [
       "<Figure size 432x288 with 1 Axes>"
      ]
     },
     "metadata": {
      "needs_background": "light"
     },
     "output_type": "display_data"
    }
   ],
   "source": [
    "x=walmart_data.Temperature\n",
    "y=walmart_data.Weekly_Sales\n",
    "plt.scatter(x,y,c='y')\n",
    "plt.tight_layout()"
   ]
  },
  {
   "cell_type": "code",
   "execution_count": 73,
   "metadata": {},
   "outputs": [
    {
     "data": {
      "image/png": "[encoded data removed]",
      "text/plain": [
       "<Figure size 432x288 with 1 Axes>"
      ]
     },
     "metadata": {
      "needs_background": "light"
     },
     "output_type": "display_data"
    }
   ],
   "source": [
    "#holiday shopping mainly before the holiday week.\n",
    "x=walmart_data.Holiday_Flag\n",
    "y=walmart_data.Weekly_Sales\n",
    "plt.bar(x,y)\n",
    "plt.tight_layout()"
   ]
  },
  {
   "cell_type": "code",
   "execution_count": 74,
   "metadata": {},
   "outputs": [
    {
     "data": {
      "image/png": "[encoded data removed]",
      "text/plain": [
       "<Figure size 432x288 with 1 Axes>"
      ]
     },
     "metadata": {
      "needs_background": "light"
     },
     "output_type": "display_data"
    }
   ],
   "source": [
    "#location is important for high weekly sales\n",
    "x=walmart_data.Store\n",
    "y=walmart_data.Weekly_Sales\n",
    "plt.bar(x,y)\n",
    "plt.tight_layout()"
   ]
  },
  {
   "cell_type": "code",
   "execution_count": 160,
   "metadata": {},
   "outputs": [
    {
     "data": {
      "text/html": [
       "<div>\n",
       "<style scoped>\n",
       "    .dataframe tbody tr th:only-of-type {\n",
       "        vertical-align: middle;\n",
       "    }\n",
       "\n",
       "    .dataframe tbody tr th {\n",
       "        vertical-align: top;\n",
       "    }\n",
       "\n",
       "    .dataframe thead th {\n",
       "        text-align: right;\n",
       "    }\n",
       "</style>\n",
       "<table border=\"1\" class=\"dataframe\">\n",
       "  <thead>\n",
       "    <tr style=\"text-align: right;\">\n",
       "      <th></th>\n",
       "      <th>Weekly_Sales</th>\n",
       "      <th>Store</th>\n",
       "      <th>Date</th>\n",
       "      <th>CPI</th>\n",
       "      <th>Fuel_Price</th>\n",
       "      <th>Unemployment</th>\n",
       "    </tr>\n",
       "  </thead>\n",
       "  <tbody>\n",
       "    <tr>\n",
       "      <th>1905</th>\n",
       "      <td>3818686.45</td>\n",
       "      <td>14</td>\n",
       "      <td>2010-12-24</td>\n",
       "      <td>182.544590</td>\n",
       "      <td>3.141</td>\n",
       "      <td>8.724</td>\n",
       "    </tr>\n",
       "    <tr>\n",
       "      <th>2763</th>\n",
       "      <td>3766687.43</td>\n",
       "      <td>20</td>\n",
       "      <td>2010-12-24</td>\n",
       "      <td>204.637673</td>\n",
       "      <td>3.141</td>\n",
       "      <td>7.484</td>\n",
       "    </tr>\n",
       "    <tr>\n",
       "      <th>1333</th>\n",
       "      <td>3749057.69</td>\n",
       "      <td>10</td>\n",
       "      <td>2010-12-24</td>\n",
       "      <td>126.983581</td>\n",
       "      <td>3.236</td>\n",
       "      <td>9.003</td>\n",
       "    </tr>\n",
       "    <tr>\n",
       "      <th>527</th>\n",
       "      <td>3676388.98</td>\n",
       "      <td>4</td>\n",
       "      <td>2011-12-23</td>\n",
       "      <td>129.984548</td>\n",
       "      <td>3.103</td>\n",
       "      <td>5.143</td>\n",
       "    </tr>\n",
       "    <tr>\n",
       "      <th>1762</th>\n",
       "      <td>3595903.20</td>\n",
       "      <td>13</td>\n",
       "      <td>2010-12-24</td>\n",
       "      <td>126.983581</td>\n",
       "      <td>2.846</td>\n",
       "      <td>7.795</td>\n",
       "    </tr>\n",
       "    <tr>\n",
       "      <th>1814</th>\n",
       "      <td>3556766.03</td>\n",
       "      <td>13</td>\n",
       "      <td>2011-12-23</td>\n",
       "      <td>129.984548</td>\n",
       "      <td>3.186</td>\n",
       "      <td>6.392</td>\n",
       "    </tr>\n",
       "    <tr>\n",
       "      <th>2815</th>\n",
       "      <td>3555371.03</td>\n",
       "      <td>20</td>\n",
       "      <td>2011-12-23</td>\n",
       "      <td>212.236040</td>\n",
       "      <td>3.389</td>\n",
       "      <td>7.082</td>\n",
       "    </tr>\n",
       "    <tr>\n",
       "      <th>475</th>\n",
       "      <td>3526713.39</td>\n",
       "      <td>4</td>\n",
       "      <td>2010-12-24</td>\n",
       "      <td>126.983581</td>\n",
       "      <td>2.887</td>\n",
       "      <td>7.127</td>\n",
       "    </tr>\n",
       "    <tr>\n",
       "      <th>1385</th>\n",
       "      <td>3487986.89</td>\n",
       "      <td>10</td>\n",
       "      <td>2011-12-23</td>\n",
       "      <td>129.984548</td>\n",
       "      <td>3.541</td>\n",
       "      <td>7.874</td>\n",
       "    </tr>\n",
       "    <tr>\n",
       "      <th>189</th>\n",
       "      <td>3436007.68</td>\n",
       "      <td>2</td>\n",
       "      <td>2010-12-24</td>\n",
       "      <td>211.064660</td>\n",
       "      <td>2.886</td>\n",
       "      <td>8.163</td>\n",
       "    </tr>\n",
       "    <tr>\n",
       "      <th>1957</th>\n",
       "      <td>3369068.99</td>\n",
       "      <td>14</td>\n",
       "      <td>2011-12-23</td>\n",
       "      <td>188.929975</td>\n",
       "      <td>3.389</td>\n",
       "      <td>8.523</td>\n",
       "    </tr>\n",
       "    <tr>\n",
       "      <th>241</th>\n",
       "      <td>3224369.80</td>\n",
       "      <td>2</td>\n",
       "      <td>2011-12-23</td>\n",
       "      <td>218.999550</td>\n",
       "      <td>3.112</td>\n",
       "      <td>7.441</td>\n",
       "    </tr>\n",
       "    <tr>\n",
       "      <th>3764</th>\n",
       "      <td>3078162.08</td>\n",
       "      <td>27</td>\n",
       "      <td>2010-12-24</td>\n",
       "      <td>136.597273</td>\n",
       "      <td>3.309</td>\n",
       "      <td>8.021</td>\n",
       "    </tr>\n",
       "    <tr>\n",
       "      <th>523</th>\n",
       "      <td>3004702.33</td>\n",
       "      <td>4</td>\n",
       "      <td>2011-11-25</td>\n",
       "      <td>129.836400</td>\n",
       "      <td>3.225</td>\n",
       "      <td>5.143</td>\n",
       "    </tr>\n",
       "    <tr>\n",
       "      <th>1381</th>\n",
       "      <td>2950198.64</td>\n",
       "      <td>10</td>\n",
       "      <td>2011-11-25</td>\n",
       "      <td>129.836400</td>\n",
       "      <td>3.760</td>\n",
       "      <td>7.874</td>\n",
       "    </tr>\n",
       "    <tr>\n",
       "      <th>1329</th>\n",
       "      <td>2939946.38</td>\n",
       "      <td>10</td>\n",
       "      <td>2010-11-26</td>\n",
       "      <td>126.669267</td>\n",
       "      <td>3.162</td>\n",
       "      <td>9.003</td>\n",
       "    </tr>\n",
       "    <tr>\n",
       "      <th>1901</th>\n",
       "      <td>2921709.71</td>\n",
       "      <td>14</td>\n",
       "      <td>2010-11-26</td>\n",
       "      <td>182.783277</td>\n",
       "      <td>3.039</td>\n",
       "      <td>8.724</td>\n",
       "    </tr>\n",
       "    <tr>\n",
       "      <th>2811</th>\n",
       "      <td>2906233.25</td>\n",
       "      <td>20</td>\n",
       "      <td>2011-11-25</td>\n",
       "      <td>211.412076</td>\n",
       "      <td>3.492</td>\n",
       "      <td>7.082</td>\n",
       "    </tr>\n",
       "    <tr>\n",
       "      <th>1810</th>\n",
       "      <td>2864170.61</td>\n",
       "      <td>13</td>\n",
       "      <td>2011-11-25</td>\n",
       "      <td>129.836400</td>\n",
       "      <td>3.445</td>\n",
       "      <td>6.392</td>\n",
       "    </tr>\n",
       "    <tr>\n",
       "      <th>2762</th>\n",
       "      <td>2819193.17</td>\n",
       "      <td>20</td>\n",
       "      <td>2010-12-17</td>\n",
       "      <td>204.632119</td>\n",
       "      <td>3.140</td>\n",
       "      <td>7.484</td>\n",
       "    </tr>\n",
       "  </tbody>\n",
       "</table>\n",
       "</div>"
      ],
      "text/plain": [
       "      Weekly_Sales  Store       Date         CPI  Fuel_Price  Unemployment\n",
       "1905    3818686.45     14 2010-12-24  182.544590       3.141         8.724\n",
       "2763    3766687.43     20 2010-12-24  204.637673       3.141         7.484\n",
       "1333    3749057.69     10 2010-12-24  126.983581       3.236         9.003\n",
       "527     3676388.98      4 2011-12-23  129.984548       3.103         5.143\n",
       "1762    3595903.20     13 2010-12-24  126.983581       2.846         7.795\n",
       "1814    3556766.03     13 2011-12-23  129.984548       3.186         6.392\n",
       "2815    3555371.03     20 2011-12-23  212.236040       3.389         7.082\n",
       "475     3526713.39      4 2010-12-24  126.983581       2.887         7.127\n",
       "1385    3487986.89     10 2011-12-23  129.984548       3.541         7.874\n",
       "189     3436007.68      2 2010-12-24  211.064660       2.886         8.163\n",
       "1957    3369068.99     14 2011-12-23  188.929975       3.389         8.523\n",
       "241     3224369.80      2 2011-12-23  218.999550       3.112         7.441\n",
       "3764    3078162.08     27 2010-12-24  136.597273       3.309         8.021\n",
       "523     3004702.33      4 2011-11-25  129.836400       3.225         5.143\n",
       "1381    2950198.64     10 2011-11-25  129.836400       3.760         7.874\n",
       "1329    2939946.38     10 2010-11-26  126.669267       3.162         9.003\n",
       "1901    2921709.71     14 2010-11-26  182.783277       3.039         8.724\n",
       "2811    2906233.25     20 2011-11-25  211.412076       3.492         7.082\n",
       "1810    2864170.61     13 2011-11-25  129.836400       3.445         6.392\n",
       "2762    2819193.17     20 2010-12-17  204.632119       3.140         7.484"
      ]
     },
     "execution_count": 160,
     "metadata": {},
     "output_type": "execute_result"
    }
   ],
   "source": [
    "#Top 20 sales\n",
    "df_top_20_sales=walmart_data[['Weekly_Sales','Store','Date','CPI','Fuel_Price','Unemployment']].sort_values(by='Weekly_Sales',ascending=False).head(20)\n",
    "df_top_20_sales"
   ]
  },
  {
   "cell_type": "code",
   "execution_count": 109,
   "metadata": {},
   "outputs": [
    {
     "data": {
      "text/html": [
       "<div>\n",
       "<style scoped>\n",
       "    .dataframe tbody tr th:only-of-type {\n",
       "        vertical-align: middle;\n",
       "    }\n",
       "\n",
       "    .dataframe tbody tr th {\n",
       "        vertical-align: top;\n",
       "    }\n",
       "\n",
       "    .dataframe thead th {\n",
       "        text-align: right;\n",
       "    }\n",
       "</style>\n",
       "<table border=\"1\" class=\"dataframe\">\n",
       "  <thead>\n",
       "    <tr style=\"text-align: right;\">\n",
       "      <th></th>\n",
       "      <th>Weekly_Sales</th>\n",
       "    </tr>\n",
       "    <tr>\n",
       "      <th>Store</th>\n",
       "      <th></th>\n",
       "    </tr>\n",
       "  </thead>\n",
       "  <tbody>\n",
       "    <tr>\n",
       "      <th>14</th>\n",
       "      <td>317569.949476</td>\n",
       "    </tr>\n",
       "  </tbody>\n",
       "</table>\n",
       "</div>"
      ],
      "text/plain": [
       "        Weekly_Sales\n",
       "Store               \n",
       "14     317569.949476"
      ]
     },
     "execution_count": 109,
     "metadata": {},
     "output_type": "execute_result"
    }
   ],
   "source": [
    "std_max_sale=walmart_data.groupby('Store').std()[['Weekly_Sales']].sort_values(by='Weekly_Sales',ascending=False).head(1)\n",
    "std_max_sale"
   ]
  },
  {
   "cell_type": "code",
   "execution_count": 122,
   "metadata": {},
   "outputs": [
    {
     "name": "stdout",
     "output_type": "stream",
     "text": [
      "       Weekly_Sales               \n",
      "               mean            std\n",
      "Store                             \n",
      "1      1.555264e+06  155980.767761\n",
      "2      1.925751e+06  237683.694682\n",
      "3      4.027044e+05   46319.631557\n",
      "4      2.094713e+06  266201.442297\n",
      "5      3.180118e+05   37737.965745\n",
      "6      1.564728e+06  212525.855862\n",
      "7      5.706173e+05  112585.469220\n",
      "8      9.087495e+05  106280.829881\n",
      "9      5.439806e+05   69028.666585\n",
      "10     1.899425e+06  302262.062504\n",
      "11     1.356383e+06  165833.887863\n",
      "12     1.009002e+06  139166.871880\n",
      "13     2.003620e+06  265506.995776\n",
      "14     2.020978e+06  317569.949476\n",
      "15     6.233125e+05  120538.652043\n",
      "16     5.192477e+05   85769.680133\n",
      "17     8.935814e+05  112162.936087\n",
      "18     1.084718e+06  176641.510839\n",
      "19     1.444999e+06  191722.638730\n",
      "20     2.107677e+06  275900.562742\n",
      "21     7.560691e+05  128752.812853\n",
      "22     1.028501e+06  161251.350631\n",
      "23     1.389864e+06  249788.038068\n",
      "24     1.356755e+06  167745.677567\n",
      "25     7.067215e+05  112976.788600\n",
      "26     1.002912e+06  110431.288141\n",
      "27     1.775216e+06  239930.135688\n",
      "28     1.323522e+06  181758.967539\n",
      "29     5.394514e+05   99120.136596\n",
      "30     4.385796e+05   22809.665590\n",
      "31     1.395901e+06  125855.942933\n",
      "32     1.166568e+06  138017.252087\n",
      "33     2.598617e+05   24132.927322\n",
      "34     9.667816e+05  104630.164676\n",
      "35     9.197250e+05  211243.457791\n",
      "36     3.735120e+05   60725.173579\n",
      "37     5.189003e+05   21837.461190\n",
      "38     3.857317e+05   42768.169450\n",
      "39     1.450668e+06  217466.454833\n",
      "40     9.641280e+05  119002.112858\n",
      "41     1.268125e+06  187907.162766\n",
      "42     5.564039e+05   50262.925530\n",
      "43     6.333247e+05   40598.413260\n",
      "44     3.027489e+05   24762.832015\n",
      "45     7.859814e+05  130168.526635\n"
     ]
    }
   ],
   "source": [
    "result = walmart_data.groupby('Store').agg({'Weekly_Sales':['mean','std']})\n",
    "result"
   ]
  },
  {
   "cell_type": "code",
   "execution_count": 125,
   "metadata": {},
   "outputs": [
    {
     "name": "stdout",
     "output_type": "stream",
     "text": [
      "2012-12-10 00:00:00\n",
      "2010-01-10 00:00:00\n"
     ]
    }
   ],
   "source": [
    "print(walmart_data.Date.max())\n",
    "print(walmart_data.Date.min())"
   ]
  },
  {
   "cell_type": "code",
   "execution_count": 134,
   "metadata": {},
   "outputs": [
    {
     "ename": "SyntaxError",
     "evalue": "invalid token (<ipython-input-134-5d446b545f96>, line 1)",
     "output_type": "error",
     "traceback": [
      "\u001b[0;36m  File \u001b[0;32m\"<ipython-input-134-5d446b545f96>\"\u001b[0;36m, line \u001b[0;32m1\u001b[0m\n\u001b[0;31m    walmart_data[(walmart_data['Date'] > 2012-07-10 00:00:00) and (walmart_data['Date'] <= 2012-9-10 00:00:00)]\u001b[0m\n\u001b[0m                                               ^\u001b[0m\n\u001b[0;31mSyntaxError\u001b[0m\u001b[0;31m:\u001b[0m invalid token\n"
     ]
    }
   ],
   "source": [
    "walmart_data[(walmart_data['Date'] > 2012-07-10 00:00:00) and (walmart_data['Date'] <= 2012-9-10 00:00:00)]\n"
   ]
  },
  {
   "cell_type": "code",
   "execution_count": 155,
   "metadata": {},
   "outputs": [],
   "source": [
    "start2012='2012-07-1'\n",
    "end2012='2012-9-30'\n",
    "df_quarterly_after=walmart_data[walmart_data.Date.between(start2012,end2012)]"
   ]
  },
  {
   "cell_type": "code",
   "execution_count": 156,
   "metadata": {},
   "outputs": [
    {
     "data": {
      "text/html": [
       "<div>\n",
       "<style scoped>\n",
       "    .dataframe tbody tr th:only-of-type {\n",
       "        vertical-align: middle;\n",
       "    }\n",
       "\n",
       "    .dataframe tbody tr th {\n",
       "        vertical-align: top;\n",
       "    }\n",
       "\n",
       "    .dataframe thead th {\n",
       "        text-align: right;\n",
       "    }\n",
       "</style>\n",
       "<table border=\"1\" class=\"dataframe\">\n",
       "  <thead>\n",
       "    <tr style=\"text-align: right;\">\n",
       "      <th></th>\n",
       "      <th>Weekly_Sales</th>\n",
       "    </tr>\n",
       "    <tr>\n",
       "      <th>Store</th>\n",
       "      <th></th>\n",
       "    </tr>\n",
       "  </thead>\n",
       "  <tbody>\n",
       "    <tr>\n",
       "      <th>1</th>\n",
       "      <td>18633209.98</td>\n",
       "    </tr>\n",
       "    <tr>\n",
       "      <th>2</th>\n",
       "      <td>22396867.61</td>\n",
       "    </tr>\n",
       "    <tr>\n",
       "      <th>3</th>\n",
       "      <td>4966495.93</td>\n",
       "    </tr>\n",
       "    <tr>\n",
       "      <th>4</th>\n",
       "      <td>25652119.35</td>\n",
       "    </tr>\n",
       "    <tr>\n",
       "      <th>5</th>\n",
       "      <td>3880621.88</td>\n",
       "    </tr>\n",
       "  </tbody>\n",
       "</table>\n",
       "</div>"
      ],
      "text/plain": [
       "       Weekly_Sales\n",
       "Store              \n",
       "1       18633209.98\n",
       "2       22396867.61\n",
       "3        4966495.93\n",
       "4       25652119.35\n",
       "5        3880621.88"
      ]
     },
     "execution_count": 156,
     "metadata": {},
     "output_type": "execute_result"
    }
   ],
   "source": [
    "quar3_2012_after=df_quarterly_after.groupby('Store').sum()[['Weekly_Sales']]\n",
    "quar3_2012_after.head()"
   ]
  },
  {
   "cell_type": "code",
   "execution_count": 162,
   "metadata": {},
   "outputs": [],
   "source": [
    "startq2='2012-04-1'\n",
    "endq2='2012-06-30'\n",
    "quar2_2012=walmart_data[walmart_data.Date.between(startq2,endq2)]"
   ]
  },
  {
   "cell_type": "code",
   "execution_count": 165,
   "metadata": {},
   "outputs": [
    {
     "data": {
      "text/html": [
       "<div>\n",
       "<style scoped>\n",
       "    .dataframe tbody tr th:only-of-type {\n",
       "        vertical-align: middle;\n",
       "    }\n",
       "\n",
       "    .dataframe tbody tr th {\n",
       "        vertical-align: top;\n",
       "    }\n",
       "\n",
       "    .dataframe thead th {\n",
       "        text-align: right;\n",
       "    }\n",
       "</style>\n",
       "<table border=\"1\" class=\"dataframe\">\n",
       "  <thead>\n",
       "    <tr style=\"text-align: right;\">\n",
       "      <th></th>\n",
       "      <th>Weekly_Sales</th>\n",
       "    </tr>\n",
       "    <tr>\n",
       "      <th>Store</th>\n",
       "      <th></th>\n",
       "    </tr>\n",
       "  </thead>\n",
       "  <tbody>\n",
       "    <tr>\n",
       "      <th>1</th>\n",
       "      <td>21036965.58</td>\n",
       "    </tr>\n",
       "    <tr>\n",
       "      <th>2</th>\n",
       "      <td>25085123.61</td>\n",
       "    </tr>\n",
       "    <tr>\n",
       "      <th>3</th>\n",
       "      <td>5562668.16</td>\n",
       "    </tr>\n",
       "    <tr>\n",
       "      <th>4</th>\n",
       "      <td>28384185.16</td>\n",
       "    </tr>\n",
       "    <tr>\n",
       "      <th>5</th>\n",
       "      <td>4427262.21</td>\n",
       "    </tr>\n",
       "  </tbody>\n",
       "</table>\n",
       "</div>"
      ],
      "text/plain": [
       "       Weekly_Sales\n",
       "Store              \n",
       "1       21036965.58\n",
       "2       25085123.61\n",
       "3        5562668.16\n",
       "4       28384185.16\n",
       "5        4427262.21"
      ]
     },
     "execution_count": 165,
     "metadata": {},
     "output_type": "execute_result"
    }
   ],
   "source": [
    "quar2_2012_before=quar2_2012.groupby('Store').sum()[['Weekly_Sales']]\n",
    "quar2_2012_before.head()"
   ]
  },
  {
   "cell_type": "code",
   "execution_count": 170,
   "metadata": {},
   "outputs": [
    {
     "data": {
      "text/plain": [
       "Text(0, 0.5, 'Weekly Sales')"
      ]
     },
     "execution_count": 170,
     "metadata": {},
     "output_type": "execute_result"
    },
    {
     "data": {
      "image/png": "[encoded data removed]",
      "text/plain": [
       "<Figure size 864x720 with 1 Axes>"
      ]
     },
     "metadata": {
      "needs_background": "light"
     },
     "output_type": "display_data"
    }
   ],
   "source": [
    "fig,ax=plt.subplots(figsize=(12,10))\n",
    "x=range(1,46)\n",
    "ax.plot(x,quar2_2012_before,linewidth=2.0,c='g')\n",
    "ax.plot(x,quar3_2012,linewidth=3.0,c='r')\n",
    "ax.set_xlabel('Store IDs')\n",
    "ax.set_ylabel('Weekly Sales')"
   ]
  },
  {
   "cell_type": "code",
   "execution_count": null,
   "metadata": {},
   "outputs": [],
   "source": []
  }
 ],
 "metadata": {
  "kernelspec": {
   "display_name": "Python 3",
   "language": "python",
   "name": "python3"
  },
  "language_info": {
   "codemirror_mode": {
    "name": "ipython",
    "version": 3
   },
   "file_extension": ".py",
   "mimetype": "text/x-python",
   "name": "python",
   "nbconvert_exporter": "python",
   "pygments_lexer": "ipython3",
   "version": "3.7.3"
  }
 },
 "nbformat": 4,
 "nbformat_minor": 2
}
