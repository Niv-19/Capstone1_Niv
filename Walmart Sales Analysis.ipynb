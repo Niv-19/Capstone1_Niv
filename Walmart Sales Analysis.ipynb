{
 "cells": [
  {
   "cell_type": "code",
   "execution_count": 2,
   "metadata": {},
   "outputs": [],
   "source": [
    "import pandas as pd\n",
    "import matplotlib.pyplot as plt\n",
    "import numpy as np\n",
    "import seaborn as sns\n",
    "%matplotlib inline\n",
    "plt.style.use('ggplot')"
   ]
  },
  {
   "cell_type": "code",
   "execution_count": 3,
   "metadata": {},
   "outputs": [],
   "source": [
    "walmart_data_actual= pd.read_csv(\"/Users/nivzz/Downloads/Walmart_Store_sales.csv\")"
   ]
  },
  {
   "cell_type": "code",
   "execution_count": 4,
   "metadata": {},
   "outputs": [],
   "source": [
    "walmart_data=walmart_data_actual.copy()"
   ]
  },
  {
   "cell_type": "code",
   "execution_count": 5,
   "metadata": {},
   "outputs": [
    {
     "data": {
      "text/html": [
       "<div>\n",
       "<style scoped>\n",
       "    .dataframe tbody tr th:only-of-type {\n",
       "        vertical-align: middle;\n",
       "    }\n",
       "\n",
       "    .dataframe tbody tr th {\n",
       "        vertical-align: top;\n",
       "    }\n",
       "\n",
       "    .dataframe thead th {\n",
       "        text-align: right;\n",
       "    }\n",
       "</style>\n",
       "<table border=\"1\" class=\"dataframe\">\n",
       "  <thead>\n",
       "    <tr style=\"text-align: right;\">\n",
       "      <th></th>\n",
       "      <th>Store</th>\n",
       "      <th>Date</th>\n",
       "      <th>Weekly_Sales</th>\n",
       "      <th>Holiday_Flag</th>\n",
       "      <th>Temperature</th>\n",
       "      <th>Fuel_Price</th>\n",
       "      <th>CPI</th>\n",
       "      <th>Unemployment</th>\n",
       "    </tr>\n",
       "  </thead>\n",
       "  <tbody>\n",
       "    <tr>\n",
       "      <th>0</th>\n",
       "      <td>1</td>\n",
       "      <td>5/2/10</td>\n",
       "      <td>1643690.90</td>\n",
       "      <td>0</td>\n",
       "      <td>42.31</td>\n",
       "      <td>2.572</td>\n",
       "      <td>211.096358</td>\n",
       "      <td>8.106</td>\n",
       "    </tr>\n",
       "    <tr>\n",
       "      <th>1</th>\n",
       "      <td>1</td>\n",
       "      <td>12/2/10</td>\n",
       "      <td>1641957.44</td>\n",
       "      <td>1</td>\n",
       "      <td>38.51</td>\n",
       "      <td>2.548</td>\n",
       "      <td>211.242170</td>\n",
       "      <td>8.106</td>\n",
       "    </tr>\n",
       "    <tr>\n",
       "      <th>2</th>\n",
       "      <td>1</td>\n",
       "      <td>19-02-2010</td>\n",
       "      <td>1611968.17</td>\n",
       "      <td>0</td>\n",
       "      <td>39.93</td>\n",
       "      <td>2.514</td>\n",
       "      <td>211.289143</td>\n",
       "      <td>8.106</td>\n",
       "    </tr>\n",
       "    <tr>\n",
       "      <th>3</th>\n",
       "      <td>1</td>\n",
       "      <td>26-02-2010</td>\n",
       "      <td>1409727.59</td>\n",
       "      <td>0</td>\n",
       "      <td>46.63</td>\n",
       "      <td>2.561</td>\n",
       "      <td>211.319643</td>\n",
       "      <td>8.106</td>\n",
       "    </tr>\n",
       "    <tr>\n",
       "      <th>4</th>\n",
       "      <td>1</td>\n",
       "      <td>5/3/10</td>\n",
       "      <td>1554806.68</td>\n",
       "      <td>0</td>\n",
       "      <td>46.50</td>\n",
       "      <td>2.625</td>\n",
       "      <td>211.350143</td>\n",
       "      <td>8.106</td>\n",
       "    </tr>\n",
       "  </tbody>\n",
       "</table>\n",
       "</div>"
      ],
      "text/plain": [
       "   Store        Date  Weekly_Sales  Holiday_Flag  Temperature  Fuel_Price  \\\n",
       "0      1      5/2/10    1643690.90             0        42.31       2.572   \n",
       "1      1     12/2/10    1641957.44             1        38.51       2.548   \n",
       "2      1  19-02-2010    1611968.17             0        39.93       2.514   \n",
       "3      1  26-02-2010    1409727.59             0        46.63       2.561   \n",
       "4      1      5/3/10    1554806.68             0        46.50       2.625   \n",
       "\n",
       "          CPI  Unemployment  \n",
       "0  211.096358         8.106  \n",
       "1  211.242170         8.106  \n",
       "2  211.289143         8.106  \n",
       "3  211.319643         8.106  \n",
       "4  211.350143         8.106  "
      ]
     },
     "execution_count": 5,
     "metadata": {},
     "output_type": "execute_result"
    }
   ],
   "source": [
    "walmart_data.head()"
   ]
  },
  {
   "cell_type": "code",
   "execution_count": 5,
   "metadata": {},
   "outputs": [
    {
     "data": {
      "text/html": [
       "<div>\n",
       "<style scoped>\n",
       "    .dataframe tbody tr th:only-of-type {\n",
       "        vertical-align: middle;\n",
       "    }\n",
       "\n",
       "    .dataframe tbody tr th {\n",
       "        vertical-align: top;\n",
       "    }\n",
       "\n",
       "    .dataframe thead th {\n",
       "        text-align: right;\n",
       "    }\n",
       "</style>\n",
       "<table border=\"1\" class=\"dataframe\">\n",
       "  <thead>\n",
       "    <tr style=\"text-align: right;\">\n",
       "      <th></th>\n",
       "      <th>Store</th>\n",
       "      <th>Date</th>\n",
       "      <th>Weekly_Sales</th>\n",
       "      <th>Holiday_Flag</th>\n",
       "      <th>Temperature</th>\n",
       "      <th>Fuel_Price</th>\n",
       "      <th>CPI</th>\n",
       "      <th>Unemployment</th>\n",
       "    </tr>\n",
       "  </thead>\n",
       "  <tbody>\n",
       "    <tr>\n",
       "      <th>0</th>\n",
       "      <td>1</td>\n",
       "      <td>2010-05-02</td>\n",
       "      <td>1643690.90</td>\n",
       "      <td>0</td>\n",
       "      <td>42.31</td>\n",
       "      <td>2.572</td>\n",
       "      <td>211.096358</td>\n",
       "      <td>8.106</td>\n",
       "    </tr>\n",
       "    <tr>\n",
       "      <th>1</th>\n",
       "      <td>1</td>\n",
       "      <td>2010-12-02</td>\n",
       "      <td>1641957.44</td>\n",
       "      <td>1</td>\n",
       "      <td>38.51</td>\n",
       "      <td>2.548</td>\n",
       "      <td>211.242170</td>\n",
       "      <td>8.106</td>\n",
       "    </tr>\n",
       "    <tr>\n",
       "      <th>2</th>\n",
       "      <td>1</td>\n",
       "      <td>2010-02-19</td>\n",
       "      <td>1611968.17</td>\n",
       "      <td>0</td>\n",
       "      <td>39.93</td>\n",
       "      <td>2.514</td>\n",
       "      <td>211.289143</td>\n",
       "      <td>8.106</td>\n",
       "    </tr>\n",
       "    <tr>\n",
       "      <th>3</th>\n",
       "      <td>1</td>\n",
       "      <td>2010-02-26</td>\n",
       "      <td>1409727.59</td>\n",
       "      <td>0</td>\n",
       "      <td>46.63</td>\n",
       "      <td>2.561</td>\n",
       "      <td>211.319643</td>\n",
       "      <td>8.106</td>\n",
       "    </tr>\n",
       "    <tr>\n",
       "      <th>4</th>\n",
       "      <td>1</td>\n",
       "      <td>2010-05-03</td>\n",
       "      <td>1554806.68</td>\n",
       "      <td>0</td>\n",
       "      <td>46.50</td>\n",
       "      <td>2.625</td>\n",
       "      <td>211.350143</td>\n",
       "      <td>8.106</td>\n",
       "    </tr>\n",
       "  </tbody>\n",
       "</table>\n",
       "</div>"
      ],
      "text/plain": [
       "   Store       Date  Weekly_Sales  Holiday_Flag  Temperature  Fuel_Price  \\\n",
       "0      1 2010-05-02    1643690.90             0        42.31       2.572   \n",
       "1      1 2010-12-02    1641957.44             1        38.51       2.548   \n",
       "2      1 2010-02-19    1611968.17             0        39.93       2.514   \n",
       "3      1 2010-02-26    1409727.59             0        46.63       2.561   \n",
       "4      1 2010-05-03    1554806.68             0        46.50       2.625   \n",
       "\n",
       "          CPI  Unemployment  \n",
       "0  211.096358         8.106  \n",
       "1  211.242170         8.106  \n",
       "2  211.289143         8.106  \n",
       "3  211.319643         8.106  \n",
       "4  211.350143         8.106  "
      ]
     },
     "execution_count": 5,
     "metadata": {},
     "output_type": "execute_result"
    }
   ],
   "source": [
    "#changing Date to one format\n",
    "walmart_data['Date']=pd.to_datetime(walmart_data['Date'], utc=False)\n",
    "#walmart_data['Date'] = pd.to_datetime(walmart_data.Date)\n",
    "walmart_data.head()"
   ]
  },
  {
   "cell_type": "code",
   "execution_count": 6,
   "metadata": {},
   "outputs": [
    {
     "name": "stdout",
     "output_type": "stream",
     "text": [
      "<class 'pandas.core.frame.DataFrame'>\n",
      "RangeIndex: 6435 entries, 0 to 6434\n",
      "Data columns (total 8 columns):\n",
      "Store           6435 non-null int64\n",
      "Date            6435 non-null datetime64[ns]\n",
      "Weekly_Sales    6435 non-null float64\n",
      "Holiday_Flag    6435 non-null int64\n",
      "Temperature     6435 non-null float64\n",
      "Fuel_Price      6435 non-null float64\n",
      "CPI             6435 non-null float64\n",
      "Unemployment    6435 non-null float64\n",
      "dtypes: datetime64[ns](1), float64(5), int64(2)\n",
      "memory usage: 402.3 KB\n"
     ]
    }
   ],
   "source": [
    "walmart_data.info()"
   ]
  },
  {
   "cell_type": "code",
   "execution_count": 10,
   "metadata": {},
   "outputs": [
    {
     "data": {
      "text/html": [
       "<div>\n",
       "<style scoped>\n",
       "    .dataframe tbody tr th:only-of-type {\n",
       "        vertical-align: middle;\n",
       "    }\n",
       "\n",
       "    .dataframe tbody tr th {\n",
       "        vertical-align: top;\n",
       "    }\n",
       "\n",
       "    .dataframe thead th {\n",
       "        text-align: right;\n",
       "    }\n",
       "</style>\n",
       "<table border=\"1\" class=\"dataframe\">\n",
       "  <thead>\n",
       "    <tr style=\"text-align: right;\">\n",
       "      <th></th>\n",
       "      <th>Store</th>\n",
       "      <th>Weekly_Sales</th>\n",
       "      <th>Holiday_Flag</th>\n",
       "      <th>Temperature</th>\n",
       "      <th>Fuel_Price</th>\n",
       "      <th>CPI</th>\n",
       "      <th>Unemployment</th>\n",
       "    </tr>\n",
       "  </thead>\n",
       "  <tbody>\n",
       "    <tr>\n",
       "      <th>count</th>\n",
       "      <td>6435.000000</td>\n",
       "      <td>6.435000e+03</td>\n",
       "      <td>6435.000000</td>\n",
       "      <td>6435.000000</td>\n",
       "      <td>6435.000000</td>\n",
       "      <td>6435.000000</td>\n",
       "      <td>6435.000000</td>\n",
       "    </tr>\n",
       "    <tr>\n",
       "      <th>mean</th>\n",
       "      <td>23.000000</td>\n",
       "      <td>1.046965e+06</td>\n",
       "      <td>0.069930</td>\n",
       "      <td>60.663782</td>\n",
       "      <td>3.358607</td>\n",
       "      <td>171.578394</td>\n",
       "      <td>7.999151</td>\n",
       "    </tr>\n",
       "    <tr>\n",
       "      <th>std</th>\n",
       "      <td>12.988182</td>\n",
       "      <td>5.643666e+05</td>\n",
       "      <td>0.255049</td>\n",
       "      <td>18.444933</td>\n",
       "      <td>0.459020</td>\n",
       "      <td>39.356712</td>\n",
       "      <td>1.875885</td>\n",
       "    </tr>\n",
       "    <tr>\n",
       "      <th>min</th>\n",
       "      <td>1.000000</td>\n",
       "      <td>2.099862e+05</td>\n",
       "      <td>0.000000</td>\n",
       "      <td>-2.060000</td>\n",
       "      <td>2.472000</td>\n",
       "      <td>126.064000</td>\n",
       "      <td>3.879000</td>\n",
       "    </tr>\n",
       "    <tr>\n",
       "      <th>25%</th>\n",
       "      <td>12.000000</td>\n",
       "      <td>5.533501e+05</td>\n",
       "      <td>0.000000</td>\n",
       "      <td>47.460000</td>\n",
       "      <td>2.933000</td>\n",
       "      <td>131.735000</td>\n",
       "      <td>6.891000</td>\n",
       "    </tr>\n",
       "    <tr>\n",
       "      <th>50%</th>\n",
       "      <td>23.000000</td>\n",
       "      <td>9.607460e+05</td>\n",
       "      <td>0.000000</td>\n",
       "      <td>62.670000</td>\n",
       "      <td>3.445000</td>\n",
       "      <td>182.616521</td>\n",
       "      <td>7.874000</td>\n",
       "    </tr>\n",
       "    <tr>\n",
       "      <th>75%</th>\n",
       "      <td>34.000000</td>\n",
       "      <td>1.420159e+06</td>\n",
       "      <td>0.000000</td>\n",
       "      <td>74.940000</td>\n",
       "      <td>3.735000</td>\n",
       "      <td>212.743293</td>\n",
       "      <td>8.622000</td>\n",
       "    </tr>\n",
       "    <tr>\n",
       "      <th>max</th>\n",
       "      <td>45.000000</td>\n",
       "      <td>3.818686e+06</td>\n",
       "      <td>1.000000</td>\n",
       "      <td>100.140000</td>\n",
       "      <td>4.468000</td>\n",
       "      <td>227.232807</td>\n",
       "      <td>14.313000</td>\n",
       "    </tr>\n",
       "  </tbody>\n",
       "</table>\n",
       "</div>"
      ],
      "text/plain": [
       "             Store  Weekly_Sales  Holiday_Flag  Temperature   Fuel_Price  \\\n",
       "count  6435.000000  6.435000e+03   6435.000000  6435.000000  6435.000000   \n",
       "mean     23.000000  1.046965e+06      0.069930    60.663782     3.358607   \n",
       "std      12.988182  5.643666e+05      0.255049    18.444933     0.459020   \n",
       "min       1.000000  2.099862e+05      0.000000    -2.060000     2.472000   \n",
       "25%      12.000000  5.533501e+05      0.000000    47.460000     2.933000   \n",
       "50%      23.000000  9.607460e+05      0.000000    62.670000     3.445000   \n",
       "75%      34.000000  1.420159e+06      0.000000    74.940000     3.735000   \n",
       "max      45.000000  3.818686e+06      1.000000   100.140000     4.468000   \n",
       "\n",
       "               CPI  Unemployment  \n",
       "count  6435.000000   6435.000000  \n",
       "mean    171.578394      7.999151  \n",
       "std      39.356712      1.875885  \n",
       "min     126.064000      3.879000  \n",
       "25%     131.735000      6.891000  \n",
       "50%     182.616521      7.874000  \n",
       "75%     212.743293      8.622000  \n",
       "max     227.232807     14.313000  "
      ]
     },
     "execution_count": 10,
     "metadata": {},
     "output_type": "execute_result"
    }
   ],
   "source": [
    "walmart_data.describe()"
   ]
  },
  {
   "cell_type": "code",
   "execution_count": 8,
   "metadata": {},
   "outputs": [
    {
     "data": {
      "text/html": [
       "<div>\n",
       "<style scoped>\n",
       "    .dataframe tbody tr th:only-of-type {\n",
       "        vertical-align: middle;\n",
       "    }\n",
       "\n",
       "    .dataframe tbody tr th {\n",
       "        vertical-align: top;\n",
       "    }\n",
       "\n",
       "    .dataframe thead th {\n",
       "        text-align: right;\n",
       "    }\n",
       "</style>\n",
       "<table border=\"1\" class=\"dataframe\">\n",
       "  <thead>\n",
       "    <tr style=\"text-align: right;\">\n",
       "      <th></th>\n",
       "      <th>Store</th>\n",
       "      <th>Weekly_Sales</th>\n",
       "      <th>Holiday_Flag</th>\n",
       "      <th>Temperature</th>\n",
       "      <th>Fuel_Price</th>\n",
       "      <th>CPI</th>\n",
       "      <th>Unemployment</th>\n",
       "    </tr>\n",
       "  </thead>\n",
       "  <tbody>\n",
       "    <tr>\n",
       "      <th>Store</th>\n",
       "      <td>1.000000e+00</td>\n",
       "      <td>-0.335332</td>\n",
       "      <td>6.250842e-20</td>\n",
       "      <td>-0.022659</td>\n",
       "      <td>0.060023</td>\n",
       "      <td>-0.209492</td>\n",
       "      <td>0.223531</td>\n",
       "    </tr>\n",
       "    <tr>\n",
       "      <th>Weekly_Sales</th>\n",
       "      <td>-3.353320e-01</td>\n",
       "      <td>1.000000</td>\n",
       "      <td>3.689097e-02</td>\n",
       "      <td>-0.063810</td>\n",
       "      <td>0.009464</td>\n",
       "      <td>-0.072634</td>\n",
       "      <td>-0.106176</td>\n",
       "    </tr>\n",
       "    <tr>\n",
       "      <th>Holiday_Flag</th>\n",
       "      <td>6.250842e-20</td>\n",
       "      <td>0.036891</td>\n",
       "      <td>1.000000e+00</td>\n",
       "      <td>-0.155091</td>\n",
       "      <td>-0.078347</td>\n",
       "      <td>-0.002162</td>\n",
       "      <td>0.010960</td>\n",
       "    </tr>\n",
       "    <tr>\n",
       "      <th>Temperature</th>\n",
       "      <td>-2.265908e-02</td>\n",
       "      <td>-0.063810</td>\n",
       "      <td>-1.550913e-01</td>\n",
       "      <td>1.000000</td>\n",
       "      <td>0.144982</td>\n",
       "      <td>0.176888</td>\n",
       "      <td>0.101158</td>\n",
       "    </tr>\n",
       "    <tr>\n",
       "      <th>Fuel_Price</th>\n",
       "      <td>6.002295e-02</td>\n",
       "      <td>0.009464</td>\n",
       "      <td>-7.834652e-02</td>\n",
       "      <td>0.144982</td>\n",
       "      <td>1.000000</td>\n",
       "      <td>-0.170642</td>\n",
       "      <td>-0.034684</td>\n",
       "    </tr>\n",
       "    <tr>\n",
       "      <th>CPI</th>\n",
       "      <td>-2.094919e-01</td>\n",
       "      <td>-0.072634</td>\n",
       "      <td>-2.162091e-03</td>\n",
       "      <td>0.176888</td>\n",
       "      <td>-0.170642</td>\n",
       "      <td>1.000000</td>\n",
       "      <td>-0.302020</td>\n",
       "    </tr>\n",
       "    <tr>\n",
       "      <th>Unemployment</th>\n",
       "      <td>2.235313e-01</td>\n",
       "      <td>-0.106176</td>\n",
       "      <td>1.096028e-02</td>\n",
       "      <td>0.101158</td>\n",
       "      <td>-0.034684</td>\n",
       "      <td>-0.302020</td>\n",
       "      <td>1.000000</td>\n",
       "    </tr>\n",
       "  </tbody>\n",
       "</table>\n",
       "</div>"
      ],
      "text/plain": [
       "                     Store  Weekly_Sales  Holiday_Flag  Temperature  \\\n",
       "Store         1.000000e+00     -0.335332  6.250842e-20    -0.022659   \n",
       "Weekly_Sales -3.353320e-01      1.000000  3.689097e-02    -0.063810   \n",
       "Holiday_Flag  6.250842e-20      0.036891  1.000000e+00    -0.155091   \n",
       "Temperature  -2.265908e-02     -0.063810 -1.550913e-01     1.000000   \n",
       "Fuel_Price    6.002295e-02      0.009464 -7.834652e-02     0.144982   \n",
       "CPI          -2.094919e-01     -0.072634 -2.162091e-03     0.176888   \n",
       "Unemployment  2.235313e-01     -0.106176  1.096028e-02     0.101158   \n",
       "\n",
       "              Fuel_Price       CPI  Unemployment  \n",
       "Store           0.060023 -0.209492      0.223531  \n",
       "Weekly_Sales    0.009464 -0.072634     -0.106176  \n",
       "Holiday_Flag   -0.078347 -0.002162      0.010960  \n",
       "Temperature     0.144982  0.176888      0.101158  \n",
       "Fuel_Price      1.000000 -0.170642     -0.034684  \n",
       "CPI            -0.170642  1.000000     -0.302020  \n",
       "Unemployment   -0.034684 -0.302020      1.000000  "
      ]
     },
     "execution_count": 8,
     "metadata": {},
     "output_type": "execute_result"
    }
   ],
   "source": [
    "walmart_data.corr() #Holiday_flag & store | Fuel_price & Holiday_flag (-)|"
   ]
  },
  {
   "cell_type": "code",
   "execution_count": 9,
   "metadata": {},
   "outputs": [
    {
     "data": {
      "image/png": "[encoded data removed]",
      "text/plain": [
       "<Figure size 432x288 with 9 Axes>"
      ]
     },
     "metadata": {
      "needs_background": "light"
     },
     "output_type": "display_data"
    }
   ],
   "source": [
    "walmart_data.hist()\n",
    "plt.tight_layout()"
   ]
  },
  {
   "cell_type": "code",
   "execution_count": 10,
   "metadata": {},
   "outputs": [],
   "source": [
    "#checking all unique unemployment rate\n",
    "unique_employment_index=walmart_data['Unemployment'].unique()"
   ]
  },
  {
   "cell_type": "code",
   "execution_count": 11,
   "metadata": {},
   "outputs": [
    {
     "data": {
      "image/png": "[encoded data removed]",
      "text/plain": [
       "<Figure size 432x288 with 1 Axes>"
      ]
     },
     "metadata": {
      "needs_background": "light"
     },
     "output_type": "display_data"
    }
   ],
   "source": [
    "#Scatter plot between Unemployment vs Weekly Sales per store\n",
    "y=walmart_data[['Unemployment']].groupby(walmart_data['Store'])['Unemployment'].median()\n",
    "z=walmart_data.groupby(walmart_data['Store'])['Weekly_Sales'].mean()\n",
    "x=range(1,46)\n",
    "plt.scatter(x,y,c='r')\n",
    "plt.scatter(x,z,c='b')\n",
    "\n",
    "plt.show()"
   ]
  },
  {
   "cell_type": "code",
   "execution_count": 12,
   "metadata": {},
   "outputs": [
    {
     "data": {
      "text/html": [
       "<div>\n",
       "<style scoped>\n",
       "    .dataframe tbody tr th:only-of-type {\n",
       "        vertical-align: middle;\n",
       "    }\n",
       "\n",
       "    .dataframe tbody tr th {\n",
       "        vertical-align: top;\n",
       "    }\n",
       "\n",
       "    .dataframe thead th {\n",
       "        text-align: right;\n",
       "    }\n",
       "</style>\n",
       "<table border=\"1\" class=\"dataframe\">\n",
       "  <thead>\n",
       "    <tr style=\"text-align: right;\">\n",
       "      <th></th>\n",
       "      <th>Store</th>\n",
       "      <th>Date</th>\n",
       "      <th>Weekly_Sales</th>\n",
       "      <th>Holiday_Flag</th>\n",
       "      <th>Temperature</th>\n",
       "      <th>Fuel_Price</th>\n",
       "      <th>CPI</th>\n",
       "      <th>Unemployment</th>\n",
       "    </tr>\n",
       "  </thead>\n",
       "  <tbody>\n",
       "    <tr>\n",
       "      <th>1905</th>\n",
       "      <td>14</td>\n",
       "      <td>2010-12-24</td>\n",
       "      <td>3818686.45</td>\n",
       "      <td>0</td>\n",
       "      <td>30.59</td>\n",
       "      <td>3.141</td>\n",
       "      <td>182.54459</td>\n",
       "      <td>8.724</td>\n",
       "    </tr>\n",
       "  </tbody>\n",
       "</table>\n",
       "</div>"
      ],
      "text/plain": [
       "      Store       Date  Weekly_Sales  Holiday_Flag  Temperature  Fuel_Price  \\\n",
       "1905     14 2010-12-24    3818686.45             0        30.59       3.141   \n",
       "\n",
       "            CPI  Unemployment  \n",
       "1905  182.54459         8.724  "
      ]
     },
     "execution_count": 12,
     "metadata": {},
     "output_type": "execute_result"
    }
   ],
   "source": [
    "#Store that has maximum sale\n",
    "Max_sale=walmart_data.loc[[walmart_data['Weekly_Sales'].idxmax()]]\n",
    "Max_sale"
   ]
  },
  {
   "cell_type": "code",
   "execution_count": 13,
   "metadata": {},
   "outputs": [
    {
     "data": {
      "text/html": [
       "<div>\n",
       "<style scoped>\n",
       "    .dataframe tbody tr th:only-of-type {\n",
       "        vertical-align: middle;\n",
       "    }\n",
       "\n",
       "    .dataframe tbody tr th {\n",
       "        vertical-align: top;\n",
       "    }\n",
       "\n",
       "    .dataframe thead th {\n",
       "        text-align: right;\n",
       "    }\n",
       "</style>\n",
       "<table border=\"1\" class=\"dataframe\">\n",
       "  <thead>\n",
       "    <tr style=\"text-align: right;\">\n",
       "      <th></th>\n",
       "      <th>Store</th>\n",
       "      <th>Date</th>\n",
       "      <th>Weekly_Sales</th>\n",
       "      <th>Holiday_Flag</th>\n",
       "      <th>Temperature</th>\n",
       "      <th>Fuel_Price</th>\n",
       "      <th>CPI</th>\n",
       "      <th>Unemployment</th>\n",
       "    </tr>\n",
       "  </thead>\n",
       "  <tbody>\n",
       "    <tr>\n",
       "      <th>1905</th>\n",
       "      <td>14</td>\n",
       "      <td>2010-12-24</td>\n",
       "      <td>3818686.45</td>\n",
       "      <td>0</td>\n",
       "      <td>30.59</td>\n",
       "      <td>3.141</td>\n",
       "      <td>182.544590</td>\n",
       "      <td>8.724</td>\n",
       "    </tr>\n",
       "    <tr>\n",
       "      <th>2763</th>\n",
       "      <td>20</td>\n",
       "      <td>2010-12-24</td>\n",
       "      <td>3766687.43</td>\n",
       "      <td>0</td>\n",
       "      <td>25.17</td>\n",
       "      <td>3.141</td>\n",
       "      <td>204.637673</td>\n",
       "      <td>7.484</td>\n",
       "    </tr>\n",
       "    <tr>\n",
       "      <th>1333</th>\n",
       "      <td>10</td>\n",
       "      <td>2010-12-24</td>\n",
       "      <td>3749057.69</td>\n",
       "      <td>0</td>\n",
       "      <td>57.06</td>\n",
       "      <td>3.236</td>\n",
       "      <td>126.983581</td>\n",
       "      <td>9.003</td>\n",
       "    </tr>\n",
       "    <tr>\n",
       "      <th>527</th>\n",
       "      <td>4</td>\n",
       "      <td>2011-12-23</td>\n",
       "      <td>3676388.98</td>\n",
       "      <td>0</td>\n",
       "      <td>35.92</td>\n",
       "      <td>3.103</td>\n",
       "      <td>129.984548</td>\n",
       "      <td>5.143</td>\n",
       "    </tr>\n",
       "    <tr>\n",
       "      <th>1762</th>\n",
       "      <td>13</td>\n",
       "      <td>2010-12-24</td>\n",
       "      <td>3595903.20</td>\n",
       "      <td>0</td>\n",
       "      <td>34.90</td>\n",
       "      <td>2.846</td>\n",
       "      <td>126.983581</td>\n",
       "      <td>7.795</td>\n",
       "    </tr>\n",
       "    <tr>\n",
       "      <th>1814</th>\n",
       "      <td>13</td>\n",
       "      <td>2011-12-23</td>\n",
       "      <td>3556766.03</td>\n",
       "      <td>0</td>\n",
       "      <td>24.76</td>\n",
       "      <td>3.186</td>\n",
       "      <td>129.984548</td>\n",
       "      <td>6.392</td>\n",
       "    </tr>\n",
       "    <tr>\n",
       "      <th>2815</th>\n",
       "      <td>20</td>\n",
       "      <td>2011-12-23</td>\n",
       "      <td>3555371.03</td>\n",
       "      <td>0</td>\n",
       "      <td>40.19</td>\n",
       "      <td>3.389</td>\n",
       "      <td>212.236040</td>\n",
       "      <td>7.082</td>\n",
       "    </tr>\n",
       "    <tr>\n",
       "      <th>475</th>\n",
       "      <td>4</td>\n",
       "      <td>2010-12-24</td>\n",
       "      <td>3526713.39</td>\n",
       "      <td>0</td>\n",
       "      <td>43.21</td>\n",
       "      <td>2.887</td>\n",
       "      <td>126.983581</td>\n",
       "      <td>7.127</td>\n",
       "    </tr>\n",
       "    <tr>\n",
       "      <th>1385</th>\n",
       "      <td>10</td>\n",
       "      <td>2011-12-23</td>\n",
       "      <td>3487986.89</td>\n",
       "      <td>0</td>\n",
       "      <td>48.36</td>\n",
       "      <td>3.541</td>\n",
       "      <td>129.984548</td>\n",
       "      <td>7.874</td>\n",
       "    </tr>\n",
       "    <tr>\n",
       "      <th>189</th>\n",
       "      <td>2</td>\n",
       "      <td>2010-12-24</td>\n",
       "      <td>3436007.68</td>\n",
       "      <td>0</td>\n",
       "      <td>49.97</td>\n",
       "      <td>2.886</td>\n",
       "      <td>211.064660</td>\n",
       "      <td>8.163</td>\n",
       "    </tr>\n",
       "  </tbody>\n",
       "</table>\n",
       "</div>"
      ],
      "text/plain": [
       "      Store       Date  Weekly_Sales  Holiday_Flag  Temperature  Fuel_Price  \\\n",
       "1905     14 2010-12-24    3818686.45             0        30.59       3.141   \n",
       "2763     20 2010-12-24    3766687.43             0        25.17       3.141   \n",
       "1333     10 2010-12-24    3749057.69             0        57.06       3.236   \n",
       "527       4 2011-12-23    3676388.98             0        35.92       3.103   \n",
       "1762     13 2010-12-24    3595903.20             0        34.90       2.846   \n",
       "1814     13 2011-12-23    3556766.03             0        24.76       3.186   \n",
       "2815     20 2011-12-23    3555371.03             0        40.19       3.389   \n",
       "475       4 2010-12-24    3526713.39             0        43.21       2.887   \n",
       "1385     10 2011-12-23    3487986.89             0        48.36       3.541   \n",
       "189       2 2010-12-24    3436007.68             0        49.97       2.886   \n",
       "\n",
       "             CPI  Unemployment  \n",
       "1905  182.544590         8.724  \n",
       "2763  204.637673         7.484  \n",
       "1333  126.983581         9.003  \n",
       "527   129.984548         5.143  \n",
       "1762  126.983581         7.795  \n",
       "1814  129.984548         6.392  \n",
       "2815  212.236040         7.082  \n",
       "475   126.983581         7.127  \n",
       "1385  129.984548         7.874  \n",
       "189   211.064660         8.163  "
      ]
     },
     "execution_count": 13,
     "metadata": {},
     "output_type": "execute_result"
    }
   ],
   "source": [
    "#Top 10 Weekly_sales\n",
    "val=walmart_data.sort_values(by='Weekly_Sales', ascending=False)\n",
    "val.head(10)"
   ]
  },
  {
   "cell_type": "code",
   "execution_count": 14,
   "metadata": {},
   "outputs": [
    {
     "data": {
      "text/html": [
       "<div>\n",
       "<style scoped>\n",
       "    .dataframe tbody tr th:only-of-type {\n",
       "        vertical-align: middle;\n",
       "    }\n",
       "\n",
       "    .dataframe tbody tr th {\n",
       "        vertical-align: top;\n",
       "    }\n",
       "\n",
       "    .dataframe thead th {\n",
       "        text-align: right;\n",
       "    }\n",
       "</style>\n",
       "<table border=\"1\" class=\"dataframe\">\n",
       "  <thead>\n",
       "    <tr style=\"text-align: right;\">\n",
       "      <th></th>\n",
       "      <th>Store</th>\n",
       "      <th>Date</th>\n",
       "      <th>Weekly_Sales</th>\n",
       "      <th>Holiday_Flag</th>\n",
       "      <th>Temperature</th>\n",
       "      <th>Fuel_Price</th>\n",
       "      <th>CPI</th>\n",
       "      <th>Unemployment</th>\n",
       "    </tr>\n",
       "  </thead>\n",
       "  <tbody>\n",
       "    <tr>\n",
       "      <th>0</th>\n",
       "      <td>1</td>\n",
       "      <td>2010-05-02</td>\n",
       "      <td>1643690.90</td>\n",
       "      <td>0</td>\n",
       "      <td>42.31</td>\n",
       "      <td>2.572</td>\n",
       "      <td>211.096358</td>\n",
       "      <td>8.106</td>\n",
       "    </tr>\n",
       "    <tr>\n",
       "      <th>1</th>\n",
       "      <td>1</td>\n",
       "      <td>2010-12-02</td>\n",
       "      <td>1641957.44</td>\n",
       "      <td>1</td>\n",
       "      <td>38.51</td>\n",
       "      <td>2.548</td>\n",
       "      <td>211.242170</td>\n",
       "      <td>8.106</td>\n",
       "    </tr>\n",
       "    <tr>\n",
       "      <th>2</th>\n",
       "      <td>1</td>\n",
       "      <td>2010-02-19</td>\n",
       "      <td>1611968.17</td>\n",
       "      <td>0</td>\n",
       "      <td>39.93</td>\n",
       "      <td>2.514</td>\n",
       "      <td>211.289143</td>\n",
       "      <td>8.106</td>\n",
       "    </tr>\n",
       "    <tr>\n",
       "      <th>3</th>\n",
       "      <td>1</td>\n",
       "      <td>2010-02-26</td>\n",
       "      <td>1409727.59</td>\n",
       "      <td>0</td>\n",
       "      <td>46.63</td>\n",
       "      <td>2.561</td>\n",
       "      <td>211.319643</td>\n",
       "      <td>8.106</td>\n",
       "    </tr>\n",
       "    <tr>\n",
       "      <th>4</th>\n",
       "      <td>1</td>\n",
       "      <td>2010-05-03</td>\n",
       "      <td>1554806.68</td>\n",
       "      <td>0</td>\n",
       "      <td>46.50</td>\n",
       "      <td>2.625</td>\n",
       "      <td>211.350143</td>\n",
       "      <td>8.106</td>\n",
       "    </tr>\n",
       "  </tbody>\n",
       "</table>\n",
       "</div>"
      ],
      "text/plain": [
       "   Store       Date  Weekly_Sales  Holiday_Flag  Temperature  Fuel_Price  \\\n",
       "0      1 2010-05-02    1643690.90             0        42.31       2.572   \n",
       "1      1 2010-12-02    1641957.44             1        38.51       2.548   \n",
       "2      1 2010-02-19    1611968.17             0        39.93       2.514   \n",
       "3      1 2010-02-26    1409727.59             0        46.63       2.561   \n",
       "4      1 2010-05-03    1554806.68             0        46.50       2.625   \n",
       "\n",
       "          CPI  Unemployment  \n",
       "0  211.096358         8.106  \n",
       "1  211.242170         8.106  \n",
       "2  211.289143         8.106  \n",
       "3  211.319643         8.106  \n",
       "4  211.350143         8.106  "
      ]
     },
     "execution_count": 14,
     "metadata": {},
     "output_type": "execute_result"
    }
   ],
   "source": [
    "#Updating the Date column to year-month-date format\n",
    "walmart_data['Date'] = pd.to_datetime(walmart_data.Date)\n",
    "walmart_data.head()\n"
   ]
  },
  {
   "cell_type": "code",
   "execution_count": 141,
   "metadata": {},
   "outputs": [
    {
     "data": {
      "text/plain": [
       "<matplotlib.collections.PathCollection at 0x11db1f9e8>"
      ]
     },
     "execution_count": 141,
     "metadata": {},
     "output_type": "execute_result"
    },
    {
     "data": {
      "image/png": "[encoded data removed]",
      "text/plain": [
       "<Figure size 432x288 with 1 Axes>"
      ]
     },
     "metadata": {
      "needs_background": "light"
     },
     "output_type": "display_data"
    }
   ],
   "source": [
    "x=walmart_data.Weekly_Sales\n",
    "y=walmart_data.Unemployment\n",
    "plt.scatter(x,y)\n"
   ]
  },
  {
   "cell_type": "code",
   "execution_count": 22,
   "metadata": {},
   "outputs": [
    {
     "data": {
      "image/png": "[encoded data removed]",
      "text/plain": [
       "<Figure size 432x288 with 1 Axes>"
      ]
     },
     "metadata": {
      "needs_background": "light"
     },
     "output_type": "display_data"
    }
   ],
   "source": [
    "y=walmart_data.Weekly_Sales\n",
    "x=walmart_data.CPI\n",
    "plt.scatter(x,y,c='r')\n",
    "plt.tight_layout()"
   ]
  },
  {
   "cell_type": "code",
   "execution_count": 23,
   "metadata": {},
   "outputs": [
    {
     "data": {
      "image/png": "[encoded data removed]",
      "text/plain": [
       "<Figure size 432x288 with 1 Axes>"
      ]
     },
     "metadata": {
      "needs_background": "light"
     },
     "output_type": "display_data"
    }
   ],
   "source": [
    "x=walmart_data.Fuel_Price\n",
    "y=walmart_data.Weekly_Sales\n",
    "plt.scatter(x,y,c='g')\n",
    "plt.tight_layout()\n"
   ]
  },
  {
   "cell_type": "code",
   "execution_count": 24,
   "metadata": {},
   "outputs": [
    {
     "data": {
      "image/png": "[encoded data removed]",
      "text/plain": [
       "<Figure size 432x288 with 1 Axes>"
      ]
     },
     "metadata": {
      "needs_background": "light"
     },
     "output_type": "display_data"
    }
   ],
   "source": [
    "x=walmart_data.Temperature\n",
    "y=walmart_data.Weekly_Sales\n",
    "plt.scatter(x,y,c='y')\n",
    "plt.tight_layout()"
   ]
  },
  {
   "cell_type": "code",
   "execution_count": 7,
   "metadata": {},
   "outputs": [
    {
     "data": {
      "image/png": "[encoded data removed]",
      "text/plain": [
       "<Figure size 432x288 with 1 Axes>"
      ]
     },
     "metadata": {
      "needs_background": "light"
     },
     "output_type": "display_data"
    },
    {
     "data": {
      "text/plain": [
       "<Figure size 432x288 with 0 Axes>"
      ]
     },
     "metadata": {},
     "output_type": "display_data"
    }
   ],
   "source": [
    "#holiday shopping mainly before the holiday week.\n",
    "fig,ax=plt.subplots()\n",
    "x=walmart_data.Holiday_Flag\n",
    "y=walmart_data.Weekly_Sales\n",
    "plt.bar(x,y,color='b',label='Compare Sales')\n",
    "ax.set_xlabel('Holiday-0: Non-Holiday-1')\n",
    "ax.set_ylabel('Weekly Sales')\n",
    "ax.legend()\n",
    "ax.grid(b=True, which='minor', linestyle='-')\n",
    "ax.set_title(\"Sales Comparison Between Holiday and Non-holiday Weeks \")\n",
    "plt.show()\n",
    "plt.tight_layout()\n"
   ]
  },
  {
   "cell_type": "code",
   "execution_count": 8,
   "metadata": {},
   "outputs": [
    {
     "data": {
      "text/plain": [
       "<Figure size 432x288 with 0 Axes>"
      ]
     },
     "metadata": {},
     "output_type": "display_data"
    }
   ],
   "source": [
    "plt.savefig('bar_holiday_weeks',bbox_inches='tight')"
   ]
  },
  {
   "cell_type": "code",
   "execution_count": 44,
   "metadata": {},
   "outputs": [
    {
     "name": "stderr",
     "output_type": "stream",
     "text": [
      "No handles with labels found to put in legend.\n"
     ]
    },
    {
     "data": {
      "image/png": "[encoded data removed]",
      "text/plain": [
       "<Figure size 432x288 with 1 Axes>"
      ]
     },
     "metadata": {},
     "output_type": "display_data"
    },
    {
     "data": {
      "text/plain": [
       "<Figure size 432x288 with 0 Axes>"
      ]
     },
     "metadata": {},
     "output_type": "display_data"
    }
   ],
   "source": [
    "#location is important for high weekly sales\n",
    "fig,ax=plt.subplots()\n",
    "x=walmart_data.Store\n",
    "y=walmart_data.Weekly_Sales\n",
    "plt.bar(x,y)\n",
    "ax.set_xlabel('Stores')\n",
    "ax.set_ylabel('Weekly Sales')\n",
    "ax.legend()\n",
    "ax.grid(b=True, which='minor', linestyle='-')\n",
    "ax.set_title(\"Sales Comparison Between Different Walmart locations \")\n",
    "plt.show()\n",
    "plt.tight_layout()"
   ]
  },
  {
   "cell_type": "code",
   "execution_count": 82,
   "metadata": {},
   "outputs": [
    {
     "data": {
      "text/html": [
       "<div>\n",
       "<style scoped>\n",
       "    .dataframe tbody tr th:only-of-type {\n",
       "        vertical-align: middle;\n",
       "    }\n",
       "\n",
       "    .dataframe tbody tr th {\n",
       "        vertical-align: top;\n",
       "    }\n",
       "\n",
       "    .dataframe thead th {\n",
       "        text-align: right;\n",
       "    }\n",
       "</style>\n",
       "<table border=\"1\" class=\"dataframe\">\n",
       "  <thead>\n",
       "    <tr style=\"text-align: right;\">\n",
       "      <th></th>\n",
       "      <th>Weekly_Sales</th>\n",
       "      <th>Store</th>\n",
       "      <th>Date</th>\n",
       "      <th>CPI</th>\n",
       "      <th>Fuel_Price</th>\n",
       "      <th>Unemployment</th>\n",
       "    </tr>\n",
       "  </thead>\n",
       "  <tbody>\n",
       "    <tr>\n",
       "      <th>1905</th>\n",
       "      <td>3818686.45</td>\n",
       "      <td>14</td>\n",
       "      <td>2010-12-24</td>\n",
       "      <td>182.544590</td>\n",
       "      <td>3.141</td>\n",
       "      <td>8.724</td>\n",
       "    </tr>\n",
       "    <tr>\n",
       "      <th>2763</th>\n",
       "      <td>3766687.43</td>\n",
       "      <td>20</td>\n",
       "      <td>2010-12-24</td>\n",
       "      <td>204.637673</td>\n",
       "      <td>3.141</td>\n",
       "      <td>7.484</td>\n",
       "    </tr>\n",
       "    <tr>\n",
       "      <th>1333</th>\n",
       "      <td>3749057.69</td>\n",
       "      <td>10</td>\n",
       "      <td>2010-12-24</td>\n",
       "      <td>126.983581</td>\n",
       "      <td>3.236</td>\n",
       "      <td>9.003</td>\n",
       "    </tr>\n",
       "    <tr>\n",
       "      <th>527</th>\n",
       "      <td>3676388.98</td>\n",
       "      <td>4</td>\n",
       "      <td>2011-12-23</td>\n",
       "      <td>129.984548</td>\n",
       "      <td>3.103</td>\n",
       "      <td>5.143</td>\n",
       "    </tr>\n",
       "    <tr>\n",
       "      <th>1762</th>\n",
       "      <td>3595903.20</td>\n",
       "      <td>13</td>\n",
       "      <td>2010-12-24</td>\n",
       "      <td>126.983581</td>\n",
       "      <td>2.846</td>\n",
       "      <td>7.795</td>\n",
       "    </tr>\n",
       "    <tr>\n",
       "      <th>1814</th>\n",
       "      <td>3556766.03</td>\n",
       "      <td>13</td>\n",
       "      <td>2011-12-23</td>\n",
       "      <td>129.984548</td>\n",
       "      <td>3.186</td>\n",
       "      <td>6.392</td>\n",
       "    </tr>\n",
       "    <tr>\n",
       "      <th>2815</th>\n",
       "      <td>3555371.03</td>\n",
       "      <td>20</td>\n",
       "      <td>2011-12-23</td>\n",
       "      <td>212.236040</td>\n",
       "      <td>3.389</td>\n",
       "      <td>7.082</td>\n",
       "    </tr>\n",
       "    <tr>\n",
       "      <th>475</th>\n",
       "      <td>3526713.39</td>\n",
       "      <td>4</td>\n",
       "      <td>2010-12-24</td>\n",
       "      <td>126.983581</td>\n",
       "      <td>2.887</td>\n",
       "      <td>7.127</td>\n",
       "    </tr>\n",
       "    <tr>\n",
       "      <th>1385</th>\n",
       "      <td>3487986.89</td>\n",
       "      <td>10</td>\n",
       "      <td>2011-12-23</td>\n",
       "      <td>129.984548</td>\n",
       "      <td>3.541</td>\n",
       "      <td>7.874</td>\n",
       "    </tr>\n",
       "    <tr>\n",
       "      <th>189</th>\n",
       "      <td>3436007.68</td>\n",
       "      <td>2</td>\n",
       "      <td>2010-12-24</td>\n",
       "      <td>211.064660</td>\n",
       "      <td>2.886</td>\n",
       "      <td>8.163</td>\n",
       "    </tr>\n",
       "    <tr>\n",
       "      <th>1957</th>\n",
       "      <td>3369068.99</td>\n",
       "      <td>14</td>\n",
       "      <td>2011-12-23</td>\n",
       "      <td>188.929975</td>\n",
       "      <td>3.389</td>\n",
       "      <td>8.523</td>\n",
       "    </tr>\n",
       "    <tr>\n",
       "      <th>241</th>\n",
       "      <td>3224369.80</td>\n",
       "      <td>2</td>\n",
       "      <td>2011-12-23</td>\n",
       "      <td>218.999550</td>\n",
       "      <td>3.112</td>\n",
       "      <td>7.441</td>\n",
       "    </tr>\n",
       "    <tr>\n",
       "      <th>3764</th>\n",
       "      <td>3078162.08</td>\n",
       "      <td>27</td>\n",
       "      <td>2010-12-24</td>\n",
       "      <td>136.597273</td>\n",
       "      <td>3.309</td>\n",
       "      <td>8.021</td>\n",
       "    </tr>\n",
       "    <tr>\n",
       "      <th>523</th>\n",
       "      <td>3004702.33</td>\n",
       "      <td>4</td>\n",
       "      <td>2011-11-25</td>\n",
       "      <td>129.836400</td>\n",
       "      <td>3.225</td>\n",
       "      <td>5.143</td>\n",
       "    </tr>\n",
       "    <tr>\n",
       "      <th>1381</th>\n",
       "      <td>2950198.64</td>\n",
       "      <td>10</td>\n",
       "      <td>2011-11-25</td>\n",
       "      <td>129.836400</td>\n",
       "      <td>3.760</td>\n",
       "      <td>7.874</td>\n",
       "    </tr>\n",
       "    <tr>\n",
       "      <th>1329</th>\n",
       "      <td>2939946.38</td>\n",
       "      <td>10</td>\n",
       "      <td>2010-11-26</td>\n",
       "      <td>126.669267</td>\n",
       "      <td>3.162</td>\n",
       "      <td>9.003</td>\n",
       "    </tr>\n",
       "    <tr>\n",
       "      <th>1901</th>\n",
       "      <td>2921709.71</td>\n",
       "      <td>14</td>\n",
       "      <td>2010-11-26</td>\n",
       "      <td>182.783277</td>\n",
       "      <td>3.039</td>\n",
       "      <td>8.724</td>\n",
       "    </tr>\n",
       "    <tr>\n",
       "      <th>2811</th>\n",
       "      <td>2906233.25</td>\n",
       "      <td>20</td>\n",
       "      <td>2011-11-25</td>\n",
       "      <td>211.412076</td>\n",
       "      <td>3.492</td>\n",
       "      <td>7.082</td>\n",
       "    </tr>\n",
       "    <tr>\n",
       "      <th>1810</th>\n",
       "      <td>2864170.61</td>\n",
       "      <td>13</td>\n",
       "      <td>2011-11-25</td>\n",
       "      <td>129.836400</td>\n",
       "      <td>3.445</td>\n",
       "      <td>6.392</td>\n",
       "    </tr>\n",
       "    <tr>\n",
       "      <th>2762</th>\n",
       "      <td>2819193.17</td>\n",
       "      <td>20</td>\n",
       "      <td>2010-12-17</td>\n",
       "      <td>204.632119</td>\n",
       "      <td>3.140</td>\n",
       "      <td>7.484</td>\n",
       "    </tr>\n",
       "    <tr>\n",
       "      <th>1332</th>\n",
       "      <td>2811646.85</td>\n",
       "      <td>10</td>\n",
       "      <td>2010-12-17</td>\n",
       "      <td>126.879484</td>\n",
       "      <td>3.125</td>\n",
       "      <td>9.003</td>\n",
       "    </tr>\n",
       "    <tr>\n",
       "      <th>2759</th>\n",
       "      <td>2811634.04</td>\n",
       "      <td>20</td>\n",
       "      <td>2010-11-26</td>\n",
       "      <td>204.962100</td>\n",
       "      <td>3.039</td>\n",
       "      <td>7.484</td>\n",
       "    </tr>\n",
       "    <tr>\n",
       "      <th>471</th>\n",
       "      <td>2789469.45</td>\n",
       "      <td>4</td>\n",
       "      <td>2010-11-26</td>\n",
       "      <td>126.669267</td>\n",
       "      <td>2.752</td>\n",
       "      <td>7.127</td>\n",
       "    </tr>\n",
       "    <tr>\n",
       "      <th>1761</th>\n",
       "      <td>2771646.81</td>\n",
       "      <td>13</td>\n",
       "      <td>2010-12-17</td>\n",
       "      <td>126.879484</td>\n",
       "      <td>2.842</td>\n",
       "      <td>7.795</td>\n",
       "    </tr>\n",
       "    <tr>\n",
       "      <th>526</th>\n",
       "      <td>2771397.17</td>\n",
       "      <td>4</td>\n",
       "      <td>2011-12-16</td>\n",
       "      <td>129.898065</td>\n",
       "      <td>3.149</td>\n",
       "      <td>5.143</td>\n",
       "    </tr>\n",
       "    <tr>\n",
       "      <th>1758</th>\n",
       "      <td>2766400.05</td>\n",
       "      <td>13</td>\n",
       "      <td>2010-11-26</td>\n",
       "      <td>126.669267</td>\n",
       "      <td>2.830</td>\n",
       "      <td>7.795</td>\n",
       "    </tr>\n",
       "    <tr>\n",
       "      <th>1904</th>\n",
       "      <td>2762861.41</td>\n",
       "      <td>14</td>\n",
       "      <td>2010-12-17</td>\n",
       "      <td>182.517732</td>\n",
       "      <td>3.140</td>\n",
       "      <td>8.724</td>\n",
       "    </tr>\n",
       "    <tr>\n",
       "      <th>2814</th>\n",
       "      <td>2762816.65</td>\n",
       "      <td>20</td>\n",
       "      <td>2011-12-16</td>\n",
       "      <td>212.068504</td>\n",
       "      <td>3.413</td>\n",
       "      <td>7.082</td>\n",
       "    </tr>\n",
       "    <tr>\n",
       "      <th>1813</th>\n",
       "      <td>2760346.71</td>\n",
       "      <td>13</td>\n",
       "      <td>2011-12-16</td>\n",
       "      <td>129.898065</td>\n",
       "      <td>3.282</td>\n",
       "      <td>6.392</td>\n",
       "    </tr>\n",
       "    <tr>\n",
       "      <th>2761</th>\n",
       "      <td>2752122.08</td>\n",
       "      <td>20</td>\n",
       "      <td>2010-10-12</td>\n",
       "      <td>204.687738</td>\n",
       "      <td>3.109</td>\n",
       "      <td>7.484</td>\n",
       "    </tr>\n",
       "    <tr>\n",
       "      <th>474</th>\n",
       "      <td>2740057.14</td>\n",
       "      <td>4</td>\n",
       "      <td>2010-12-17</td>\n",
       "      <td>126.879484</td>\n",
       "      <td>2.884</td>\n",
       "      <td>7.127</td>\n",
       "    </tr>\n",
       "    <tr>\n",
       "      <th>3816</th>\n",
       "      <td>2739019.75</td>\n",
       "      <td>27</td>\n",
       "      <td>2011-12-23</td>\n",
       "      <td>140.528765</td>\n",
       "      <td>3.587</td>\n",
       "      <td>7.906</td>\n",
       "    </tr>\n",
       "    <tr>\n",
       "      <th>3192</th>\n",
       "      <td>2734277.10</td>\n",
       "      <td>23</td>\n",
       "      <td>2010-12-24</td>\n",
       "      <td>132.747742</td>\n",
       "      <td>3.150</td>\n",
       "      <td>5.287</td>\n",
       "    </tr>\n",
       "    <tr>\n",
       "      <th>761</th>\n",
       "      <td>2727575.18</td>\n",
       "      <td>6</td>\n",
       "      <td>2010-12-24</td>\n",
       "      <td>212.916508</td>\n",
       "      <td>2.886</td>\n",
       "      <td>7.007</td>\n",
       "    </tr>\n",
       "    <tr>\n",
       "      <th>1953</th>\n",
       "      <td>2685351.81</td>\n",
       "      <td>14</td>\n",
       "      <td>2011-11-25</td>\n",
       "      <td>188.350400</td>\n",
       "      <td>3.492</td>\n",
       "      <td>8.523</td>\n",
       "    </tr>\n",
       "    <tr>\n",
       "      <th>2620</th>\n",
       "      <td>2678206.42</td>\n",
       "      <td>19</td>\n",
       "      <td>2010-12-24</td>\n",
       "      <td>132.747742</td>\n",
       "      <td>3.309</td>\n",
       "      <td>8.067</td>\n",
       "    </tr>\n",
       "    <tr>\n",
       "      <th>185</th>\n",
       "      <td>2658725.29</td>\n",
       "      <td>2</td>\n",
       "      <td>2010-11-26</td>\n",
       "      <td>211.406287</td>\n",
       "      <td>2.735</td>\n",
       "      <td>8.163</td>\n",
       "    </tr>\n",
       "    <tr>\n",
       "      <th>813</th>\n",
       "      <td>2644633.02</td>\n",
       "      <td>6</td>\n",
       "      <td>2011-12-23</td>\n",
       "      <td>220.947725</td>\n",
       "      <td>3.112</td>\n",
       "      <td>6.551</td>\n",
       "    </tr>\n",
       "    <tr>\n",
       "      <th>3760</th>\n",
       "      <td>2627910.75</td>\n",
       "      <td>27</td>\n",
       "      <td>2010-11-26</td>\n",
       "      <td>136.689571</td>\n",
       "      <td>3.186</td>\n",
       "      <td>8.021</td>\n",
       "    </tr>\n",
       "    <tr>\n",
       "      <th>1859</th>\n",
       "      <td>2623469.95</td>\n",
       "      <td>14</td>\n",
       "      <td>2010-05-02</td>\n",
       "      <td>181.871190</td>\n",
       "      <td>2.784</td>\n",
       "      <td>8.992</td>\n",
       "    </tr>\n",
       "    <tr>\n",
       "      <th>237</th>\n",
       "      <td>2614202.30</td>\n",
       "      <td>2</td>\n",
       "      <td>2011-11-25</td>\n",
       "      <td>218.113027</td>\n",
       "      <td>3.236</td>\n",
       "      <td>7.441</td>\n",
       "    </tr>\n",
       "    <tr>\n",
       "      <th>188</th>\n",
       "      <td>2609166.75</td>\n",
       "      <td>2</td>\n",
       "      <td>2010-12-17</td>\n",
       "      <td>211.064546</td>\n",
       "      <td>2.869</td>\n",
       "      <td>8.163</td>\n",
       "    </tr>\n",
       "    <tr>\n",
       "      <th>1903</th>\n",
       "      <td>2600519.26</td>\n",
       "      <td>14</td>\n",
       "      <td>2010-10-12</td>\n",
       "      <td>182.551954</td>\n",
       "      <td>3.109</td>\n",
       "      <td>8.724</td>\n",
       "    </tr>\n",
       "    <tr>\n",
       "      <th>1956</th>\n",
       "      <td>2594363.09</td>\n",
       "      <td>14</td>\n",
       "      <td>2011-12-16</td>\n",
       "      <td>188.797935</td>\n",
       "      <td>3.413</td>\n",
       "      <td>8.523</td>\n",
       "    </tr>\n",
       "    <tr>\n",
       "      <th>3244</th>\n",
       "      <td>2587953.32</td>\n",
       "      <td>23</td>\n",
       "      <td>2011-12-23</td>\n",
       "      <td>136.588387</td>\n",
       "      <td>3.413</td>\n",
       "      <td>4.420</td>\n",
       "    </tr>\n",
       "    <tr>\n",
       "      <th>2830</th>\n",
       "      <td>2565259.92</td>\n",
       "      <td>20</td>\n",
       "      <td>2012-06-04</td>\n",
       "      <td>214.238705</td>\n",
       "      <td>3.996</td>\n",
       "      <td>7.139</td>\n",
       "    </tr>\n",
       "    <tr>\n",
       "      <th>1384</th>\n",
       "      <td>2555031.18</td>\n",
       "      <td>10</td>\n",
       "      <td>2011-12-16</td>\n",
       "      <td>129.898065</td>\n",
       "      <td>3.489</td>\n",
       "      <td>7.874</td>\n",
       "    </tr>\n",
       "    <tr>\n",
       "      <th>5532</th>\n",
       "      <td>2554482.84</td>\n",
       "      <td>39</td>\n",
       "      <td>2011-12-23</td>\n",
       "      <td>218.054185</td>\n",
       "      <td>3.112</td>\n",
       "      <td>7.716</td>\n",
       "    </tr>\n",
       "    <tr>\n",
       "      <th>2813</th>\n",
       "      <td>2546123.78</td>\n",
       "      <td>20</td>\n",
       "      <td>2011-09-12</td>\n",
       "      <td>211.866786</td>\n",
       "      <td>3.415</td>\n",
       "      <td>7.082</td>\n",
       "    </tr>\n",
       "    <tr>\n",
       "      <th>525</th>\n",
       "      <td>2508955.24</td>\n",
       "      <td>4</td>\n",
       "      <td>2011-09-12</td>\n",
       "      <td>129.855533</td>\n",
       "      <td>3.153</td>\n",
       "      <td>5.143</td>\n",
       "    </tr>\n",
       "  </tbody>\n",
       "</table>\n",
       "</div>"
      ],
      "text/plain": [
       "      Weekly_Sales  Store       Date         CPI  Fuel_Price  Unemployment\n",
       "1905    3818686.45     14 2010-12-24  182.544590       3.141         8.724\n",
       "2763    3766687.43     20 2010-12-24  204.637673       3.141         7.484\n",
       "1333    3749057.69     10 2010-12-24  126.983581       3.236         9.003\n",
       "527     3676388.98      4 2011-12-23  129.984548       3.103         5.143\n",
       "1762    3595903.20     13 2010-12-24  126.983581       2.846         7.795\n",
       "1814    3556766.03     13 2011-12-23  129.984548       3.186         6.392\n",
       "2815    3555371.03     20 2011-12-23  212.236040       3.389         7.082\n",
       "475     3526713.39      4 2010-12-24  126.983581       2.887         7.127\n",
       "1385    3487986.89     10 2011-12-23  129.984548       3.541         7.874\n",
       "189     3436007.68      2 2010-12-24  211.064660       2.886         8.163\n",
       "1957    3369068.99     14 2011-12-23  188.929975       3.389         8.523\n",
       "241     3224369.80      2 2011-12-23  218.999550       3.112         7.441\n",
       "3764    3078162.08     27 2010-12-24  136.597273       3.309         8.021\n",
       "523     3004702.33      4 2011-11-25  129.836400       3.225         5.143\n",
       "1381    2950198.64     10 2011-11-25  129.836400       3.760         7.874\n",
       "1329    2939946.38     10 2010-11-26  126.669267       3.162         9.003\n",
       "1901    2921709.71     14 2010-11-26  182.783277       3.039         8.724\n",
       "2811    2906233.25     20 2011-11-25  211.412076       3.492         7.082\n",
       "1810    2864170.61     13 2011-11-25  129.836400       3.445         6.392\n",
       "2762    2819193.17     20 2010-12-17  204.632119       3.140         7.484\n",
       "1332    2811646.85     10 2010-12-17  126.879484       3.125         9.003\n",
       "2759    2811634.04     20 2010-11-26  204.962100       3.039         7.484\n",
       "471     2789469.45      4 2010-11-26  126.669267       2.752         7.127\n",
       "1761    2771646.81     13 2010-12-17  126.879484       2.842         7.795\n",
       "526     2771397.17      4 2011-12-16  129.898065       3.149         5.143\n",
       "1758    2766400.05     13 2010-11-26  126.669267       2.830         7.795\n",
       "1904    2762861.41     14 2010-12-17  182.517732       3.140         8.724\n",
       "2814    2762816.65     20 2011-12-16  212.068504       3.413         7.082\n",
       "1813    2760346.71     13 2011-12-16  129.898065       3.282         6.392\n",
       "2761    2752122.08     20 2010-10-12  204.687738       3.109         7.484\n",
       "474     2740057.14      4 2010-12-17  126.879484       2.884         7.127\n",
       "3816    2739019.75     27 2011-12-23  140.528765       3.587         7.906\n",
       "3192    2734277.10     23 2010-12-24  132.747742       3.150         5.287\n",
       "761     2727575.18      6 2010-12-24  212.916508       2.886         7.007\n",
       "1953    2685351.81     14 2011-11-25  188.350400       3.492         8.523\n",
       "2620    2678206.42     19 2010-12-24  132.747742       3.309         8.067\n",
       "185     2658725.29      2 2010-11-26  211.406287       2.735         8.163\n",
       "813     2644633.02      6 2011-12-23  220.947725       3.112         6.551\n",
       "3760    2627910.75     27 2010-11-26  136.689571       3.186         8.021\n",
       "1859    2623469.95     14 2010-05-02  181.871190       2.784         8.992\n",
       "237     2614202.30      2 2011-11-25  218.113027       3.236         7.441\n",
       "188     2609166.75      2 2010-12-17  211.064546       2.869         8.163\n",
       "1903    2600519.26     14 2010-10-12  182.551954       3.109         8.724\n",
       "1956    2594363.09     14 2011-12-16  188.797935       3.413         8.523\n",
       "3244    2587953.32     23 2011-12-23  136.588387       3.413         4.420\n",
       "2830    2565259.92     20 2012-06-04  214.238705       3.996         7.139\n",
       "1384    2555031.18     10 2011-12-16  129.898065       3.489         7.874\n",
       "5532    2554482.84     39 2011-12-23  218.054185       3.112         7.716\n",
       "2813    2546123.78     20 2011-09-12  211.866786       3.415         7.082\n",
       "525     2508955.24      4 2011-09-12  129.855533       3.153         5.143"
      ]
     },
     "execution_count": 82,
     "metadata": {},
     "output_type": "execute_result"
    }
   ],
   "source": [
    "#Top 20 sales\n",
    "df_top_20_sales=walmart_data[['Weekly_Sales','Store','Date','CPI','Fuel_Price','Unemployment']].sort_values(by='Weekly_Sales',ascending=False).head(50)\n",
    "df_top_20_sales"
   ]
  },
  {
   "cell_type": "code",
   "execution_count": 47,
   "metadata": {},
   "outputs": [
    {
     "data": {
      "text/html": [
       "<div>\n",
       "<style scoped>\n",
       "    .dataframe tbody tr th:only-of-type {\n",
       "        vertical-align: middle;\n",
       "    }\n",
       "\n",
       "    .dataframe tbody tr th {\n",
       "        vertical-align: top;\n",
       "    }\n",
       "\n",
       "    .dataframe thead th {\n",
       "        text-align: right;\n",
       "    }\n",
       "</style>\n",
       "<table border=\"1\" class=\"dataframe\">\n",
       "  <thead>\n",
       "    <tr style=\"text-align: right;\">\n",
       "      <th></th>\n",
       "      <th>Weekly_Sales</th>\n",
       "    </tr>\n",
       "    <tr>\n",
       "      <th>Store</th>\n",
       "      <th></th>\n",
       "    </tr>\n",
       "  </thead>\n",
       "  <tbody>\n",
       "    <tr>\n",
       "      <th>14</th>\n",
       "      <td>317569.949476</td>\n",
       "    </tr>\n",
       "  </tbody>\n",
       "</table>\n",
       "</div>"
      ],
      "text/plain": [
       "        Weekly_Sales\n",
       "Store               \n",
       "14     317569.949476"
      ]
     },
     "execution_count": 47,
     "metadata": {},
     "output_type": "execute_result"
    }
   ],
   "source": [
    "std_max_sale=walmart_data.groupby('Store').std()[['Weekly_Sales']].sort_values(by='Weekly_Sales',ascending=False).head(1)\n",
    "std_max_sale"
   ]
  },
  {
   "cell_type": "code",
   "execution_count": 88,
   "metadata": {},
   "outputs": [
    {
     "data": {
      "text/html": [
       "<div>\n",
       "<style scoped>\n",
       "    .dataframe tbody tr th:only-of-type {\n",
       "        vertical-align: middle;\n",
       "    }\n",
       "\n",
       "    .dataframe tbody tr th {\n",
       "        vertical-align: top;\n",
       "    }\n",
       "\n",
       "    .dataframe thead tr th {\n",
       "        text-align: left;\n",
       "    }\n",
       "\n",
       "    .dataframe thead tr:last-of-type th {\n",
       "        text-align: right;\n",
       "    }\n",
       "</style>\n",
       "<table border=\"1\" class=\"dataframe\">\n",
       "  <thead>\n",
       "    <tr>\n",
       "      <th></th>\n",
       "      <th colspan=\"2\" halign=\"left\">Weekly_Sales</th>\n",
       "    </tr>\n",
       "    <tr>\n",
       "      <th></th>\n",
       "      <th>mean</th>\n",
       "      <th>std</th>\n",
       "    </tr>\n",
       "    <tr>\n",
       "      <th>Store</th>\n",
       "      <th></th>\n",
       "      <th></th>\n",
       "    </tr>\n",
       "  </thead>\n",
       "  <tbody>\n",
       "    <tr>\n",
       "      <th>1</th>\n",
       "      <td>1.555264e+06</td>\n",
       "      <td>155980.767761</td>\n",
       "    </tr>\n",
       "    <tr>\n",
       "      <th>2</th>\n",
       "      <td>1.925751e+06</td>\n",
       "      <td>237683.694682</td>\n",
       "    </tr>\n",
       "    <tr>\n",
       "      <th>3</th>\n",
       "      <td>4.027044e+05</td>\n",
       "      <td>46319.631557</td>\n",
       "    </tr>\n",
       "    <tr>\n",
       "      <th>4</th>\n",
       "      <td>2.094713e+06</td>\n",
       "      <td>266201.442297</td>\n",
       "    </tr>\n",
       "    <tr>\n",
       "      <th>5</th>\n",
       "      <td>3.180118e+05</td>\n",
       "      <td>37737.965745</td>\n",
       "    </tr>\n",
       "    <tr>\n",
       "      <th>6</th>\n",
       "      <td>1.564728e+06</td>\n",
       "      <td>212525.855862</td>\n",
       "    </tr>\n",
       "    <tr>\n",
       "      <th>7</th>\n",
       "      <td>5.706173e+05</td>\n",
       "      <td>112585.469220</td>\n",
       "    </tr>\n",
       "    <tr>\n",
       "      <th>8</th>\n",
       "      <td>9.087495e+05</td>\n",
       "      <td>106280.829881</td>\n",
       "    </tr>\n",
       "    <tr>\n",
       "      <th>9</th>\n",
       "      <td>5.439806e+05</td>\n",
       "      <td>69028.666585</td>\n",
       "    </tr>\n",
       "    <tr>\n",
       "      <th>10</th>\n",
       "      <td>1.899425e+06</td>\n",
       "      <td>302262.062504</td>\n",
       "    </tr>\n",
       "    <tr>\n",
       "      <th>11</th>\n",
       "      <td>1.356383e+06</td>\n",
       "      <td>165833.887863</td>\n",
       "    </tr>\n",
       "    <tr>\n",
       "      <th>12</th>\n",
       "      <td>1.009002e+06</td>\n",
       "      <td>139166.871880</td>\n",
       "    </tr>\n",
       "    <tr>\n",
       "      <th>13</th>\n",
       "      <td>2.003620e+06</td>\n",
       "      <td>265506.995776</td>\n",
       "    </tr>\n",
       "    <tr>\n",
       "      <th>14</th>\n",
       "      <td>2.020978e+06</td>\n",
       "      <td>317569.949476</td>\n",
       "    </tr>\n",
       "    <tr>\n",
       "      <th>15</th>\n",
       "      <td>6.233125e+05</td>\n",
       "      <td>120538.652043</td>\n",
       "    </tr>\n",
       "    <tr>\n",
       "      <th>16</th>\n",
       "      <td>5.192477e+05</td>\n",
       "      <td>85769.680133</td>\n",
       "    </tr>\n",
       "    <tr>\n",
       "      <th>17</th>\n",
       "      <td>8.935814e+05</td>\n",
       "      <td>112162.936087</td>\n",
       "    </tr>\n",
       "    <tr>\n",
       "      <th>18</th>\n",
       "      <td>1.084718e+06</td>\n",
       "      <td>176641.510839</td>\n",
       "    </tr>\n",
       "    <tr>\n",
       "      <th>19</th>\n",
       "      <td>1.444999e+06</td>\n",
       "      <td>191722.638730</td>\n",
       "    </tr>\n",
       "    <tr>\n",
       "      <th>20</th>\n",
       "      <td>2.107677e+06</td>\n",
       "      <td>275900.562742</td>\n",
       "    </tr>\n",
       "    <tr>\n",
       "      <th>21</th>\n",
       "      <td>7.560691e+05</td>\n",
       "      <td>128752.812853</td>\n",
       "    </tr>\n",
       "    <tr>\n",
       "      <th>22</th>\n",
       "      <td>1.028501e+06</td>\n",
       "      <td>161251.350631</td>\n",
       "    </tr>\n",
       "    <tr>\n",
       "      <th>23</th>\n",
       "      <td>1.389864e+06</td>\n",
       "      <td>249788.038068</td>\n",
       "    </tr>\n",
       "    <tr>\n",
       "      <th>24</th>\n",
       "      <td>1.356755e+06</td>\n",
       "      <td>167745.677567</td>\n",
       "    </tr>\n",
       "    <tr>\n",
       "      <th>25</th>\n",
       "      <td>7.067215e+05</td>\n",
       "      <td>112976.788600</td>\n",
       "    </tr>\n",
       "    <tr>\n",
       "      <th>26</th>\n",
       "      <td>1.002912e+06</td>\n",
       "      <td>110431.288141</td>\n",
       "    </tr>\n",
       "    <tr>\n",
       "      <th>27</th>\n",
       "      <td>1.775216e+06</td>\n",
       "      <td>239930.135688</td>\n",
       "    </tr>\n",
       "    <tr>\n",
       "      <th>28</th>\n",
       "      <td>1.323522e+06</td>\n",
       "      <td>181758.967539</td>\n",
       "    </tr>\n",
       "    <tr>\n",
       "      <th>29</th>\n",
       "      <td>5.394514e+05</td>\n",
       "      <td>99120.136596</td>\n",
       "    </tr>\n",
       "    <tr>\n",
       "      <th>30</th>\n",
       "      <td>4.385796e+05</td>\n",
       "      <td>22809.665590</td>\n",
       "    </tr>\n",
       "    <tr>\n",
       "      <th>31</th>\n",
       "      <td>1.395901e+06</td>\n",
       "      <td>125855.942933</td>\n",
       "    </tr>\n",
       "    <tr>\n",
       "      <th>32</th>\n",
       "      <td>1.166568e+06</td>\n",
       "      <td>138017.252087</td>\n",
       "    </tr>\n",
       "    <tr>\n",
       "      <th>33</th>\n",
       "      <td>2.598617e+05</td>\n",
       "      <td>24132.927322</td>\n",
       "    </tr>\n",
       "    <tr>\n",
       "      <th>34</th>\n",
       "      <td>9.667816e+05</td>\n",
       "      <td>104630.164676</td>\n",
       "    </tr>\n",
       "    <tr>\n",
       "      <th>35</th>\n",
       "      <td>9.197250e+05</td>\n",
       "      <td>211243.457791</td>\n",
       "    </tr>\n",
       "    <tr>\n",
       "      <th>36</th>\n",
       "      <td>3.735120e+05</td>\n",
       "      <td>60725.173579</td>\n",
       "    </tr>\n",
       "    <tr>\n",
       "      <th>37</th>\n",
       "      <td>5.189003e+05</td>\n",
       "      <td>21837.461190</td>\n",
       "    </tr>\n",
       "    <tr>\n",
       "      <th>38</th>\n",
       "      <td>3.857317e+05</td>\n",
       "      <td>42768.169450</td>\n",
       "    </tr>\n",
       "    <tr>\n",
       "      <th>39</th>\n",
       "      <td>1.450668e+06</td>\n",
       "      <td>217466.454833</td>\n",
       "    </tr>\n",
       "    <tr>\n",
       "      <th>40</th>\n",
       "      <td>9.641280e+05</td>\n",
       "      <td>119002.112858</td>\n",
       "    </tr>\n",
       "    <tr>\n",
       "      <th>41</th>\n",
       "      <td>1.268125e+06</td>\n",
       "      <td>187907.162766</td>\n",
       "    </tr>\n",
       "    <tr>\n",
       "      <th>42</th>\n",
       "      <td>5.564039e+05</td>\n",
       "      <td>50262.925530</td>\n",
       "    </tr>\n",
       "    <tr>\n",
       "      <th>43</th>\n",
       "      <td>6.333247e+05</td>\n",
       "      <td>40598.413260</td>\n",
       "    </tr>\n",
       "    <tr>\n",
       "      <th>44</th>\n",
       "      <td>3.027489e+05</td>\n",
       "      <td>24762.832015</td>\n",
       "    </tr>\n",
       "    <tr>\n",
       "      <th>45</th>\n",
       "      <td>7.859814e+05</td>\n",
       "      <td>130168.526635</td>\n",
       "    </tr>\n",
       "  </tbody>\n",
       "</table>\n",
       "</div>"
      ],
      "text/plain": [
       "       Weekly_Sales               \n",
       "               mean            std\n",
       "Store                             \n",
       "1      1.555264e+06  155980.767761\n",
       "2      1.925751e+06  237683.694682\n",
       "3      4.027044e+05   46319.631557\n",
       "4      2.094713e+06  266201.442297\n",
       "5      3.180118e+05   37737.965745\n",
       "6      1.564728e+06  212525.855862\n",
       "7      5.706173e+05  112585.469220\n",
       "8      9.087495e+05  106280.829881\n",
       "9      5.439806e+05   69028.666585\n",
       "10     1.899425e+06  302262.062504\n",
       "11     1.356383e+06  165833.887863\n",
       "12     1.009002e+06  139166.871880\n",
       "13     2.003620e+06  265506.995776\n",
       "14     2.020978e+06  317569.949476\n",
       "15     6.233125e+05  120538.652043\n",
       "16     5.192477e+05   85769.680133\n",
       "17     8.935814e+05  112162.936087\n",
       "18     1.084718e+06  176641.510839\n",
       "19     1.444999e+06  191722.638730\n",
       "20     2.107677e+06  275900.562742\n",
       "21     7.560691e+05  128752.812853\n",
       "22     1.028501e+06  161251.350631\n",
       "23     1.389864e+06  249788.038068\n",
       "24     1.356755e+06  167745.677567\n",
       "25     7.067215e+05  112976.788600\n",
       "26     1.002912e+06  110431.288141\n",
       "27     1.775216e+06  239930.135688\n",
       "28     1.323522e+06  181758.967539\n",
       "29     5.394514e+05   99120.136596\n",
       "30     4.385796e+05   22809.665590\n",
       "31     1.395901e+06  125855.942933\n",
       "32     1.166568e+06  138017.252087\n",
       "33     2.598617e+05   24132.927322\n",
       "34     9.667816e+05  104630.164676\n",
       "35     9.197250e+05  211243.457791\n",
       "36     3.735120e+05   60725.173579\n",
       "37     5.189003e+05   21837.461190\n",
       "38     3.857317e+05   42768.169450\n",
       "39     1.450668e+06  217466.454833\n",
       "40     9.641280e+05  119002.112858\n",
       "41     1.268125e+06  187907.162766\n",
       "42     5.564039e+05   50262.925530\n",
       "43     6.333247e+05   40598.413260\n",
       "44     3.027489e+05   24762.832015\n",
       "45     7.859814e+05  130168.526635"
      ]
     },
     "execution_count": 88,
     "metadata": {},
     "output_type": "execute_result"
    }
   ],
   "source": [
    "#Walmart location wise sales mean and standard deviation in sales.\n",
    "\n",
    "result = walmart_data.groupby('Store').agg({'Weekly_Sales':['mean','std']})\n",
    "result"
   ]
  },
  {
   "cell_type": "code",
   "execution_count": 49,
   "metadata": {},
   "outputs": [
    {
     "name": "stdout",
     "output_type": "stream",
     "text": [
      "2012-12-10 00:00:00\n",
      "2010-01-10 00:00:00\n"
     ]
    }
   ],
   "source": [
    "# total Date duration of the dataset\n",
    "print(walmart_data.Date.max())\n",
    "print(walmart_data.Date.min())"
   ]
  },
  {
   "cell_type": "code",
   "execution_count": 50,
   "metadata": {},
   "outputs": [],
   "source": [
    "#2012 Quarter 3 sales\n",
    "\n",
    "start2012='2012-07-1'\n",
    "end2012='2012-9-30'\n",
    "df_quarterly_after=walmart_data[walmart_data.Date.between(start2012,end2012)]"
   ]
  },
  {
   "cell_type": "code",
   "execution_count": 51,
   "metadata": {},
   "outputs": [
    {
     "data": {
      "text/html": [
       "<div>\n",
       "<style scoped>\n",
       "    .dataframe tbody tr th:only-of-type {\n",
       "        vertical-align: middle;\n",
       "    }\n",
       "\n",
       "    .dataframe tbody tr th {\n",
       "        vertical-align: top;\n",
       "    }\n",
       "\n",
       "    .dataframe thead th {\n",
       "        text-align: right;\n",
       "    }\n",
       "</style>\n",
       "<table border=\"1\" class=\"dataframe\">\n",
       "  <thead>\n",
       "    <tr style=\"text-align: right;\">\n",
       "      <th></th>\n",
       "      <th>Weekly_Sales</th>\n",
       "    </tr>\n",
       "    <tr>\n",
       "      <th>Store</th>\n",
       "      <th></th>\n",
       "    </tr>\n",
       "  </thead>\n",
       "  <tbody>\n",
       "    <tr>\n",
       "      <th>1</th>\n",
       "      <td>18633209.98</td>\n",
       "    </tr>\n",
       "    <tr>\n",
       "      <th>2</th>\n",
       "      <td>22396867.61</td>\n",
       "    </tr>\n",
       "    <tr>\n",
       "      <th>3</th>\n",
       "      <td>4966495.93</td>\n",
       "    </tr>\n",
       "    <tr>\n",
       "      <th>4</th>\n",
       "      <td>25652119.35</td>\n",
       "    </tr>\n",
       "    <tr>\n",
       "      <th>5</th>\n",
       "      <td>3880621.88</td>\n",
       "    </tr>\n",
       "  </tbody>\n",
       "</table>\n",
       "</div>"
      ],
      "text/plain": [
       "       Weekly_Sales\n",
       "Store              \n",
       "1       18633209.98\n",
       "2       22396867.61\n",
       "3        4966495.93\n",
       "4       25652119.35\n",
       "5        3880621.88"
      ]
     },
     "execution_count": 51,
     "metadata": {},
     "output_type": "execute_result"
    }
   ],
   "source": [
    "quar3_2012_after=df_quarterly_after.groupby('Store').sum()[['Weekly_Sales']]\n",
    "quar3_2012_after.head()"
   ]
  },
  {
   "cell_type": "code",
   "execution_count": 52,
   "metadata": {},
   "outputs": [],
   "source": [
    "#2012 quarter 2 sales\n",
    "\n",
    "startq2='2012-04-1'\n",
    "endq2='2012-06-30'\n",
    "quar2_2012=walmart_data[walmart_data.Date.between(startq2,endq2)]"
   ]
  },
  {
   "cell_type": "code",
   "execution_count": 53,
   "metadata": {},
   "outputs": [
    {
     "data": {
      "text/html": [
       "<div>\n",
       "<style scoped>\n",
       "    .dataframe tbody tr th:only-of-type {\n",
       "        vertical-align: middle;\n",
       "    }\n",
       "\n",
       "    .dataframe tbody tr th {\n",
       "        vertical-align: top;\n",
       "    }\n",
       "\n",
       "    .dataframe thead th {\n",
       "        text-align: right;\n",
       "    }\n",
       "</style>\n",
       "<table border=\"1\" class=\"dataframe\">\n",
       "  <thead>\n",
       "    <tr style=\"text-align: right;\">\n",
       "      <th></th>\n",
       "      <th>Weekly_Sales</th>\n",
       "    </tr>\n",
       "    <tr>\n",
       "      <th>Store</th>\n",
       "      <th></th>\n",
       "    </tr>\n",
       "  </thead>\n",
       "  <tbody>\n",
       "    <tr>\n",
       "      <th>1</th>\n",
       "      <td>21036965.58</td>\n",
       "    </tr>\n",
       "    <tr>\n",
       "      <th>2</th>\n",
       "      <td>25085123.61</td>\n",
       "    </tr>\n",
       "    <tr>\n",
       "      <th>3</th>\n",
       "      <td>5562668.16</td>\n",
       "    </tr>\n",
       "    <tr>\n",
       "      <th>4</th>\n",
       "      <td>28384185.16</td>\n",
       "    </tr>\n",
       "    <tr>\n",
       "      <th>5</th>\n",
       "      <td>4427262.21</td>\n",
       "    </tr>\n",
       "  </tbody>\n",
       "</table>\n",
       "</div>"
      ],
      "text/plain": [
       "       Weekly_Sales\n",
       "Store              \n",
       "1       21036965.58\n",
       "2       25085123.61\n",
       "3        5562668.16\n",
       "4       28384185.16\n",
       "5        4427262.21"
      ]
     },
     "execution_count": 53,
     "metadata": {},
     "output_type": "execute_result"
    }
   ],
   "source": [
    "quar2_2012_before=quar2_2012.groupby('Store').sum()[['Weekly_Sales']]\n",
    "quar2_2012_before.head()"
   ]
  },
  {
   "cell_type": "code",
   "execution_count": 54,
   "metadata": {},
   "outputs": [
    {
     "data": {
      "text/html": [
       "<div>\n",
       "<style scoped>\n",
       "    .dataframe tbody tr th:only-of-type {\n",
       "        vertical-align: middle;\n",
       "    }\n",
       "\n",
       "    .dataframe tbody tr th {\n",
       "        vertical-align: top;\n",
       "    }\n",
       "\n",
       "    .dataframe thead th {\n",
       "        text-align: right;\n",
       "    }\n",
       "</style>\n",
       "<table border=\"1\" class=\"dataframe\">\n",
       "  <thead>\n",
       "    <tr style=\"text-align: right;\">\n",
       "      <th></th>\n",
       "      <th>Weekly_Sales</th>\n",
       "    </tr>\n",
       "    <tr>\n",
       "      <th>Store</th>\n",
       "      <th></th>\n",
       "    </tr>\n",
       "  </thead>\n",
       "  <tbody>\n",
       "    <tr>\n",
       "      <th>1</th>\n",
       "      <td>18951097.69</td>\n",
       "    </tr>\n",
       "    <tr>\n",
       "      <th>2</th>\n",
       "      <td>22543946.63</td>\n",
       "    </tr>\n",
       "    <tr>\n",
       "      <th>3</th>\n",
       "      <td>4957435.81</td>\n",
       "    </tr>\n",
       "    <tr>\n",
       "      <th>4</th>\n",
       "      <td>25659307.85</td>\n",
       "    </tr>\n",
       "    <tr>\n",
       "      <th>5</th>\n",
       "      <td>3912829.61</td>\n",
       "    </tr>\n",
       "  </tbody>\n",
       "</table>\n",
       "</div>"
      ],
      "text/plain": [
       "       Weekly_Sales\n",
       "Store              \n",
       "1       18951097.69\n",
       "2       22543946.63\n",
       "3        4957435.81\n",
       "4       25659307.85\n",
       "5        3912829.61"
      ]
     },
     "execution_count": 54,
     "metadata": {},
     "output_type": "execute_result"
    }
   ],
   "source": [
    "#2012 Quarter 1 sales\n",
    "\n",
    "startq1='2012-01-01'\n",
    "endq1='2012-03-30'\n",
    "quar1_2012=walmart_data[walmart_data.Date.between(startq1,endq1)]\n",
    "quar1_2012_before=quar1_2012.groupby('Store').sum()[['Weekly_Sales']]\n",
    "quar1_2012_before.head()"
   ]
  },
  {
   "cell_type": "code",
   "execution_count": 55,
   "metadata": {},
   "outputs": [
    {
     "data": {
      "text/html": [
       "<div>\n",
       "<style scoped>\n",
       "    .dataframe tbody tr th:only-of-type {\n",
       "        vertical-align: middle;\n",
       "    }\n",
       "\n",
       "    .dataframe tbody tr th {\n",
       "        vertical-align: top;\n",
       "    }\n",
       "\n",
       "    .dataframe thead th {\n",
       "        text-align: right;\n",
       "    }\n",
       "</style>\n",
       "<table border=\"1\" class=\"dataframe\">\n",
       "  <thead>\n",
       "    <tr style=\"text-align: right;\">\n",
       "      <th></th>\n",
       "      <th>Weekly_Sales</th>\n",
       "    </tr>\n",
       "    <tr>\n",
       "      <th>Store</th>\n",
       "      <th></th>\n",
       "    </tr>\n",
       "  </thead>\n",
       "  <tbody>\n",
       "    <tr>\n",
       "      <th>1</th>\n",
       "      <td>9580784.77</td>\n",
       "    </tr>\n",
       "    <tr>\n",
       "      <th>2</th>\n",
       "      <td>11470757.52</td>\n",
       "    </tr>\n",
       "    <tr>\n",
       "      <th>3</th>\n",
       "      <td>2537839.60</td>\n",
       "    </tr>\n",
       "    <tr>\n",
       "      <th>4</th>\n",
       "      <td>13075576.88</td>\n",
       "    </tr>\n",
       "    <tr>\n",
       "      <th>5</th>\n",
       "      <td>1948124.43</td>\n",
       "    </tr>\n",
       "  </tbody>\n",
       "</table>\n",
       "</div>"
      ],
      "text/plain": [
       "       Weekly_Sales\n",
       "Store              \n",
       "1        9580784.77\n",
       "2       11470757.52\n",
       "3        2537839.60\n",
       "4       13075576.88\n",
       "5        1948124.43"
      ]
     },
     "execution_count": 55,
     "metadata": {},
     "output_type": "execute_result"
    }
   ],
   "source": [
    "#2012 Quarter 4 sales\n",
    "\n",
    "startq4='2012-10-01'\n",
    "endq4='2012-12-30'\n",
    "quar4_2012=walmart_data[walmart_data.Date.between(startq4,endq4)]\n",
    "quar4_2012_before=quar4_2012.groupby('Store').sum()[['Weekly_Sales']]\n",
    "quar4_2012_before.head()"
   ]
  },
  {
   "cell_type": "code",
   "execution_count": 59,
   "metadata": {},
   "outputs": [
    {
     "data": {
      "image/png": "[encoded data removed]",
      "text/plain": [
       "<Figure size 864x648 with 1 Axes>"
      ]
     },
     "metadata": {},
     "output_type": "display_data"
    }
   ],
   "source": [
    "#Creating 2012 quarterly sales results for each Walmart locations\n",
    "'Locations that require more inventories and human resources'\n",
    "\n",
    "fig,ax=plt.subplots(figsize=(12,9))\n",
    "x=range(1,46)\n",
    "ax.plot(x,quar1_2012_before,linewidth=2.0,label='1st Quarter')\n",
    "ax.plot(x,quar2_2012_before,linewidth=2.0,label='2nd Quarter')\n",
    "ax.plot(x,quar3_2012_after,linewidth=3.0,label='3rd Quarter')\n",
    "ax.plot(x,quar4_2012_before,linewidth=2.0,label='4th Quarter')\n",
    "ax.set_xlabel('Store IDs')\n",
    "ax.set_ylabel('Weekly Sales')\n",
    "ax.legend()\n",
    "ax.grid(b=True, which='minor', linestyle='-')\n",
    "ax.set_title(\"Walmart Locations Quarterly Sales for Year 2012\")\n",
    "plt.show()"
   ]
  },
  {
   "cell_type": "code",
   "execution_count": 69,
   "metadata": {},
   "outputs": [
    {
     "data": {
      "text/html": [
       "<div>\n",
       "<style scoped>\n",
       "    .dataframe tbody tr th:only-of-type {\n",
       "        vertical-align: middle;\n",
       "    }\n",
       "\n",
       "    .dataframe tbody tr th {\n",
       "        vertical-align: top;\n",
       "    }\n",
       "\n",
       "    .dataframe thead th {\n",
       "        text-align: right;\n",
       "    }\n",
       "</style>\n",
       "<table border=\"1\" class=\"dataframe\">\n",
       "  <thead>\n",
       "    <tr style=\"text-align: right;\">\n",
       "      <th></th>\n",
       "      <th>Weekly_Sales</th>\n",
       "    </tr>\n",
       "    <tr>\n",
       "      <th>Date</th>\n",
       "      <th></th>\n",
       "    </tr>\n",
       "  </thead>\n",
       "  <tbody>\n",
       "    <tr>\n",
       "      <th>2011-11-25</th>\n",
       "      <td>66593605.26</td>\n",
       "    </tr>\n",
       "    <tr>\n",
       "      <th>2010-11-26</th>\n",
       "      <td>65821003.24</td>\n",
       "    </tr>\n",
       "    <tr>\n",
       "      <th>2012-10-02</th>\n",
       "      <td>50009407.92</td>\n",
       "    </tr>\n",
       "    <tr>\n",
       "      <th>2010-12-02</th>\n",
       "      <td>48336677.63</td>\n",
       "    </tr>\n",
       "    <tr>\n",
       "      <th>2012-07-09</th>\n",
       "      <td>48330059.31</td>\n",
       "    </tr>\n",
       "    <tr>\n",
       "      <th>2011-11-02</th>\n",
       "      <td>47336192.79</td>\n",
       "    </tr>\n",
       "    <tr>\n",
       "      <th>2011-09-09</th>\n",
       "      <td>46763227.53</td>\n",
       "    </tr>\n",
       "    <tr>\n",
       "      <th>2011-12-30</th>\n",
       "      <td>46042461.04</td>\n",
       "    </tr>\n",
       "    <tr>\n",
       "      <th>2010-10-09</th>\n",
       "      <td>45634397.84</td>\n",
       "    </tr>\n",
       "    <tr>\n",
       "      <th>2010-12-31</th>\n",
       "      <td>40432519.00</td>\n",
       "    </tr>\n",
       "  </tbody>\n",
       "</table>\n",
       "</div>"
      ],
      "text/plain": [
       "            Weekly_Sales\n",
       "Date                    \n",
       "2011-11-25   66593605.26\n",
       "2010-11-26   65821003.24\n",
       "2012-10-02   50009407.92\n",
       "2010-12-02   48336677.63\n",
       "2012-07-09   48330059.31\n",
       "2011-11-02   47336192.79\n",
       "2011-09-09   46763227.53\n",
       "2011-12-30   46042461.04\n",
       "2010-10-09   45634397.84\n",
       "2010-12-31   40432519.00"
      ]
     },
     "execution_count": 69,
     "metadata": {},
     "output_type": "execute_result"
    }
   ],
   "source": [
    "# Sales of walmart in holiday weeks [2011,2010 thanksgivings top]\n",
    "mask_holiday=(walmart_data['Holiday_Flag']==1)\n",
    "df_holiday_week_sales=walmart_data[mask_holiday]\n",
    "df_holiday=df_holiday_week_sales.groupby('Date').sum()[['Weekly_Sales']].sort_values(by='Weekly_Sales',ascending =False).head(10)\n",
    "df_holiday"
   ]
  },
  {
   "cell_type": "code",
   "execution_count": 89,
   "metadata": {},
   "outputs": [
    {
     "data": {
      "text/html": [
       "<div>\n",
       "<style scoped>\n",
       "    .dataframe tbody tr th:only-of-type {\n",
       "        vertical-align: middle;\n",
       "    }\n",
       "\n",
       "    .dataframe tbody tr th {\n",
       "        vertical-align: top;\n",
       "    }\n",
       "\n",
       "    .dataframe thead th {\n",
       "        text-align: right;\n",
       "    }\n",
       "</style>\n",
       "<table border=\"1\" class=\"dataframe\">\n",
       "  <thead>\n",
       "    <tr style=\"text-align: right;\">\n",
       "      <th></th>\n",
       "      <th>Weekly_Sales</th>\n",
       "    </tr>\n",
       "    <tr>\n",
       "      <th>Date</th>\n",
       "      <th></th>\n",
       "    </tr>\n",
       "  </thead>\n",
       "  <tbody>\n",
       "    <tr>\n",
       "      <th>2010-12-24</th>\n",
       "      <td>80931415.60</td>\n",
       "    </tr>\n",
       "    <tr>\n",
       "      <th>2011-12-23</th>\n",
       "      <td>76998241.31</td>\n",
       "    </tr>\n",
       "    <tr>\n",
       "      <th>2010-12-17</th>\n",
       "      <td>61820799.85</td>\n",
       "    </tr>\n",
       "    <tr>\n",
       "      <th>2011-12-16</th>\n",
       "      <td>60085695.94</td>\n",
       "    </tr>\n",
       "    <tr>\n",
       "      <th>2010-10-12</th>\n",
       "      <td>55666770.39</td>\n",
       "    </tr>\n",
       "    <tr>\n",
       "      <th>2011-09-12</th>\n",
       "      <td>55561147.70</td>\n",
       "    </tr>\n",
       "    <tr>\n",
       "      <th>2012-06-04</th>\n",
       "      <td>53502315.87</td>\n",
       "    </tr>\n",
       "    <tr>\n",
       "      <th>2012-06-07</th>\n",
       "      <td>51253021.88</td>\n",
       "    </tr>\n",
       "    <tr>\n",
       "      <th>2010-02-04</th>\n",
       "      <td>50423831.26</td>\n",
       "    </tr>\n",
       "    <tr>\n",
       "      <th>2012-02-17</th>\n",
       "      <td>50197056.96</td>\n",
       "    </tr>\n",
       "    <tr>\n",
       "      <th>2010-04-06</th>\n",
       "      <td>50188543.12</td>\n",
       "    </tr>\n",
       "    <tr>\n",
       "      <th>2010-03-12</th>\n",
       "      <td>49909027.88</td>\n",
       "    </tr>\n",
       "    <tr>\n",
       "      <th>2010-05-02</th>\n",
       "      <td>49750740.50</td>\n",
       "    </tr>\n",
       "    <tr>\n",
       "      <th>2012-08-06</th>\n",
       "      <td>49651171.78</td>\n",
       "    </tr>\n",
       "    <tr>\n",
       "      <th>2011-02-12</th>\n",
       "      <td>49390556.49</td>\n",
       "    </tr>\n",
       "    <tr>\n",
       "      <th>2010-02-07</th>\n",
       "      <td>48917484.50</td>\n",
       "    </tr>\n",
       "    <tr>\n",
       "      <th>2011-03-06</th>\n",
       "      <td>48771994.18</td>\n",
       "    </tr>\n",
       "    <tr>\n",
       "      <th>2011-02-18</th>\n",
       "      <td>48716164.12</td>\n",
       "    </tr>\n",
       "    <tr>\n",
       "      <th>2011-04-22</th>\n",
       "      <td>48676692.06</td>\n",
       "    </tr>\n",
       "    <tr>\n",
       "      <th>2011-04-11</th>\n",
       "      <td>48655544.30</td>\n",
       "    </tr>\n",
       "  </tbody>\n",
       "</table>\n",
       "</div>"
      ],
      "text/plain": [
       "            Weekly_Sales\n",
       "Date                    \n",
       "2010-12-24   80931415.60\n",
       "2011-12-23   76998241.31\n",
       "2010-12-17   61820799.85\n",
       "2011-12-16   60085695.94\n",
       "2010-10-12   55666770.39\n",
       "2011-09-12   55561147.70\n",
       "2012-06-04   53502315.87\n",
       "2012-06-07   51253021.88\n",
       "2010-02-04   50423831.26\n",
       "2012-02-17   50197056.96\n",
       "2010-04-06   50188543.12\n",
       "2010-03-12   49909027.88\n",
       "2010-05-02   49750740.50\n",
       "2012-08-06   49651171.78\n",
       "2011-02-12   49390556.49\n",
       "2010-02-07   48917484.50\n",
       "2011-03-06   48771994.18\n",
       "2011-02-18   48716164.12\n",
       "2011-04-22   48676692.06\n",
       "2011-04-11   48655544.30"
      ]
     },
     "execution_count": 89,
     "metadata": {},
     "output_type": "execute_result"
    }
   ],
   "source": [
    "# Max sales of walmart locations in non_holiday weeks per Week\n",
    "mask_non_holiday=(walmart_data['Holiday_Flag']==0)\n",
    "df_non_holiday_week_sales=walmart_data[mask_non_holiday]\n",
    "df_non_holiday=df_non_holiday_week_sales.groupby('Date').sum()[['Weekly_Sales']].sort_values(by='Weekly_Sales',ascending =False).head(20)\n",
    "df_non_holiday"
   ]
  },
  {
   "cell_type": "code",
   "execution_count": 71,
   "metadata": {},
   "outputs": [
    {
     "data": {
      "text/plain": [
       "59644029.676"
      ]
     },
     "execution_count": 71,
     "metadata": {},
     "output_type": "execute_result"
    }
   ],
   "source": [
    "#Weekly sale average for non_holiday weeks for all walmart locations\n",
    "mean_sale_non_holiday_week=df_non_holiday.mean()['Weekly_Sales']\n",
    "mean_sale_non_holiday_week"
   ]
  },
  {
   "cell_type": "code",
   "execution_count": 72,
   "metadata": {},
   "outputs": [
    {
     "data": {
      "text/html": [
       "<div>\n",
       "<style scoped>\n",
       "    .dataframe tbody tr th:only-of-type {\n",
       "        vertical-align: middle;\n",
       "    }\n",
       "\n",
       "    .dataframe tbody tr th {\n",
       "        vertical-align: top;\n",
       "    }\n",
       "\n",
       "    .dataframe thead th {\n",
       "        text-align: right;\n",
       "    }\n",
       "</style>\n",
       "<table border=\"1\" class=\"dataframe\">\n",
       "  <thead>\n",
       "    <tr style=\"text-align: right;\">\n",
       "      <th></th>\n",
       "      <th>Weekly_Sales</th>\n",
       "    </tr>\n",
       "    <tr>\n",
       "      <th>Date</th>\n",
       "      <th></th>\n",
       "    </tr>\n",
       "  </thead>\n",
       "  <tbody>\n",
       "    <tr>\n",
       "      <th>2011-11-25</th>\n",
       "      <td>66593605.26</td>\n",
       "    </tr>\n",
       "    <tr>\n",
       "      <th>2010-11-26</th>\n",
       "      <td>65821003.24</td>\n",
       "    </tr>\n",
       "  </tbody>\n",
       "</table>\n",
       "</div>"
      ],
      "text/plain": [
       "            Weekly_Sales\n",
       "Date                    \n",
       "2011-11-25   66593605.26\n",
       "2010-11-26   65821003.24"
      ]
     },
     "execution_count": 72,
     "metadata": {},
     "output_type": "execute_result"
    }
   ],
   "source": [
    "# 2011 and 2010 THANKSGIVING holiday week sale for all stores are more than average non_holiday week_sales of all three years for all stores\n",
    "mask_hol_better=df_holiday.Weekly_Sales> mean_sale_non_holiday_week\n",
    "better_holidays=df_holiday[mask_hol_better]\n",
    "better_holidays"
   ]
  },
  {
   "cell_type": "code",
   "execution_count": 73,
   "metadata": {},
   "outputs": [
    {
     "data": {
      "text/html": [
       "<div>\n",
       "<style scoped>\n",
       "    .dataframe tbody tr th:only-of-type {\n",
       "        vertical-align: middle;\n",
       "    }\n",
       "\n",
       "    .dataframe tbody tr th {\n",
       "        vertical-align: top;\n",
       "    }\n",
       "\n",
       "    .dataframe thead th {\n",
       "        text-align: right;\n",
       "    }\n",
       "</style>\n",
       "<table border=\"1\" class=\"dataframe\">\n",
       "  <thead>\n",
       "    <tr style=\"text-align: right;\">\n",
       "      <th></th>\n",
       "      <th>Store</th>\n",
       "      <th>Date</th>\n",
       "      <th>Weekly_Sales</th>\n",
       "      <th>Holiday_Flag</th>\n",
       "      <th>Temperature</th>\n",
       "      <th>Fuel_Price</th>\n",
       "      <th>CPI</th>\n",
       "      <th>Unemployment</th>\n",
       "    </tr>\n",
       "  </thead>\n",
       "  <tbody>\n",
       "    <tr>\n",
       "      <th>0</th>\n",
       "      <td>1</td>\n",
       "      <td>2010-05-02</td>\n",
       "      <td>1643690.90</td>\n",
       "      <td>0</td>\n",
       "      <td>42.31</td>\n",
       "      <td>2.572</td>\n",
       "      <td>211.096358</td>\n",
       "      <td>8.106</td>\n",
       "    </tr>\n",
       "    <tr>\n",
       "      <th>1</th>\n",
       "      <td>1</td>\n",
       "      <td>2010-12-02</td>\n",
       "      <td>1641957.44</td>\n",
       "      <td>1</td>\n",
       "      <td>38.51</td>\n",
       "      <td>2.548</td>\n",
       "      <td>211.242170</td>\n",
       "      <td>8.106</td>\n",
       "    </tr>\n",
       "    <tr>\n",
       "      <th>2</th>\n",
       "      <td>1</td>\n",
       "      <td>2010-02-19</td>\n",
       "      <td>1611968.17</td>\n",
       "      <td>0</td>\n",
       "      <td>39.93</td>\n",
       "      <td>2.514</td>\n",
       "      <td>211.289143</td>\n",
       "      <td>8.106</td>\n",
       "    </tr>\n",
       "    <tr>\n",
       "      <th>3</th>\n",
       "      <td>1</td>\n",
       "      <td>2010-02-26</td>\n",
       "      <td>1409727.59</td>\n",
       "      <td>0</td>\n",
       "      <td>46.63</td>\n",
       "      <td>2.561</td>\n",
       "      <td>211.319643</td>\n",
       "      <td>8.106</td>\n",
       "    </tr>\n",
       "    <tr>\n",
       "      <th>4</th>\n",
       "      <td>1</td>\n",
       "      <td>2010-05-03</td>\n",
       "      <td>1554806.68</td>\n",
       "      <td>0</td>\n",
       "      <td>46.50</td>\n",
       "      <td>2.625</td>\n",
       "      <td>211.350143</td>\n",
       "      <td>8.106</td>\n",
       "    </tr>\n",
       "  </tbody>\n",
       "</table>\n",
       "</div>"
      ],
      "text/plain": [
       "   Store       Date  Weekly_Sales  Holiday_Flag  Temperature  Fuel_Price  \\\n",
       "0      1 2010-05-02    1643690.90             0        42.31       2.572   \n",
       "1      1 2010-12-02    1641957.44             1        38.51       2.548   \n",
       "2      1 2010-02-19    1611968.17             0        39.93       2.514   \n",
       "3      1 2010-02-26    1409727.59             0        46.63       2.561   \n",
       "4      1 2010-05-03    1554806.68             0        46.50       2.625   \n",
       "\n",
       "          CPI  Unemployment  \n",
       "0  211.096358         8.106  \n",
       "1  211.242170         8.106  \n",
       "2  211.289143         8.106  \n",
       "3  211.319643         8.106  \n",
       "4  211.350143         8.106  "
      ]
     },
     "execution_count": 73,
     "metadata": {},
     "output_type": "execute_result"
    }
   ],
   "source": [
    "walmart_data.head()"
   ]
  },
  {
   "cell_type": "code",
   "execution_count": 76,
   "metadata": {},
   "outputs": [
    {
     "data": {
      "image/png": "[encoded data removed]",
      "text/plain": [
       "<Figure size 1008x720 with 1 Axes>"
      ]
     },
     "metadata": {},
     "output_type": "display_data"
    }
   ],
   "source": [
    "fig,ax=plt.subplots(figsize=(14,10))\n",
    "sales_monthly_Y=walmart_data.groupby('Date').sum()['Weekly_Sales']\n",
    "Date_months_x=walmart_data['Date'].unique()\n",
    "ax.bar(Date_months_x,sales_monthly_Y,label='Total sales per month')\n",
    "ax.set_xlabel('Months from 2010-2012')\n",
    "ax.set_ylabel('Total Weekly Sales')\n",
    "ax.legend()\n",
    "ax.grid(b=True, which='minor', linestyle='-')\n",
    "ax.set_title(\"Walmart Sales Per Month\")\n",
    "plt.show()"
   ]
  },
  {
   "cell_type": "code",
   "execution_count": 78,
   "metadata": {},
   "outputs": [
    {
     "data": {
      "text/plain": [
       "\"\\nx=pd.date_range(start='2009-12-30',end='2012-12-30', freq='6M')\\nsem_x=pd.to_datetime(x, utc=False)\\nsem_x\\n\""
      ]
     },
     "execution_count": 78,
     "metadata": {},
     "output_type": "execute_result"
    }
   ],
   "source": [
    "#working on semester sales\n",
    "start1='2010-01-01'\n",
    "end1='2010-06-30'\n",
    "start2='2010-07-01'\n",
    "end2='2010-12-30'\n",
    "start3='2011-01-01'\n",
    "end3='2011-06-30'\n",
    "start4='2011-07-01'\n",
    "end4='2011-12-30'\n",
    "start5='2012-01-01'\n",
    "end5='2012-06-30'\n",
    "start6='2012-07-01'\n",
    "end6='2012-12-30'\n",
    "\n",
    "\n",
    "\n",
    "'''\n",
    "x=pd.date_range(start='2009-12-30',end='2012-12-30', freq='6M')\n",
    "sem_x=pd.to_datetime(x, utc=False)\n",
    "sem_x\n",
    "'''"
   ]
  },
  {
   "cell_type": "code",
   "execution_count": 79,
   "metadata": {},
   "outputs": [
    {
     "data": {
      "text/plain": [
       "(45, 1)"
      ]
     },
     "execution_count": 79,
     "metadata": {},
     "output_type": "execute_result"
    }
   ],
   "source": [
    "sem1=walmart_data[walmart_data.Date.between(start1,end1)]\n",
    "sem1_data=sem1.groupby('Store').sum()[['Weekly_Sales']]\n",
    "sem1_data.shape\n",
    "sem2=walmart_data[walmart_data.Date.between(start2,end2)]\n",
    "sem2_data=sem2.groupby('Store').sum()[['Weekly_Sales']]\n",
    "sem2_data.shape\n",
    "sem3=walmart_data[walmart_data.Date.between(start3,end3)]\n",
    "sem3_data=sem3.groupby('Store').sum()[['Weekly_Sales']]\n",
    "sem3_data.shape\n",
    "sem4=walmart_data[walmart_data.Date.between(start4,end4)]\n",
    "sem4_data=sem4.groupby('Store').sum()[['Weekly_Sales']]\n",
    "sem4_data.shape\n",
    "sem5=walmart_data[walmart_data.Date.between(start5,end5)]\n",
    "sem5_data=sem5.groupby('Store').sum()[['Weekly_Sales']]\n",
    "sem5_data.shape\n",
    "sem6=walmart_data[walmart_data.Date.between(start6,end6)]\n",
    "sem6_data=sem6.groupby('Store').sum()[['Weekly_Sales']]\n",
    "sem6_data.shape"
   ]
  },
  {
   "cell_type": "code",
   "execution_count": 80,
   "metadata": {},
   "outputs": [
    {
     "data": {
      "image/png": "[encoded data removed]",
      "text/plain": [
       "<Figure size 864x720 with 1 Axes>"
      ]
     },
     "metadata": {},
     "output_type": "display_data"
    }
   ],
   "source": [
    "x=range(1,46)\n",
    "fig,ax=plt.subplots(figsize=(12,10))\n",
    "ax.plot(x,sem1_data,label='sem 1: 2010')\n",
    "ax.plot(x,sem2_data,label='sem 2: 2010')\n",
    "ax.plot(x,sem3_data,label='sem 1: 2011')\n",
    "ax.plot(x,sem4_data,label='sem 2: 2011')\n",
    "ax.plot(x,sem5_data,label='sem 1: 2012')\n",
    "ax.plot(x,sem6_data,label='sem 2: 2012')\n",
    "ax.set_xlabel('Months from 2010-2012')\n",
    "ax.set_ylabel('Total Weekly Sales')\n",
    "ax.legend()\n",
    "ax.grid(b=True, which='minor', linestyle='-')\n",
    "ax.set_title(\"Walmart Semester Sales 2010-2012\")\n",
    "plt.show()"
   ]
  },
  {
   "cell_type": "code",
   "execution_count": 81,
   "metadata": {},
   "outputs": [
    {
     "name": "stdout",
     "output_type": "stream",
     "text": [
      "1026912732.34\n",
      "1221540869.0700002\n",
      "1138060006.42\n",
      "1310140000.9299998\n",
      "1163004064.33\n",
      "837128795.02\n"
     ]
    }
   ],
   "source": [
    "sem1=walmart_data[walmart_data.Date.between(start1,end1)]\n",
    "sem1_mean=sem1.Weekly_Sales.sum()\n",
    "print(sem1_mean)\n",
    "sem2=walmart_data[walmart_data.Date.between(start2,end2)]\n",
    "sem2_mean=sem2.Weekly_Sales.sum()\n",
    "print(sem2_mean)\n",
    "sem3=walmart_data[walmart_data.Date.between(start3,end3)]\n",
    "sem3_mean=sem3.Weekly_Sales.sum()\n",
    "print(sem3_mean)\n",
    "sem4=walmart_data[walmart_data.Date.between(start4,end4)]\n",
    "sem4_mean=sem4.Weekly_Sales.sum()\n",
    "print(sem4_mean)\n",
    "sem5=walmart_data[walmart_data.Date.between(start5,end5)]\n",
    "sem5_mean=sem5.Weekly_Sales.sum()\n",
    "print(sem5_mean)\n",
    "sem6=walmart_data[walmart_data.Date.between(start6,end6)]\n",
    "sem6_mean=sem6.Weekly_Sales.sum()\n",
    "print(sem6_mean)\n",
    "list_sem_sales=[sem1_mean,sem2_mean,sem3_mean,sem4_mean,sem5_mean,sem6_mean]\n",
    "x=walmart_data.Date.between(start1,end6)\n",
    "ax.bar(x,sem1_mean)\n",
    "ax.bar(x,sem2_mean)\n",
    "ax.bar(x,sem3_mean)\n",
    "ax.bar(x,sem4_mean)\n",
    "ax.bar(x,sem5_mean)\n",
    "ax.bar(x,sem6_mean)\n",
    "plt.show()"
   ]
  },
  {
   "cell_type": "code",
   "execution_count": 91,
   "metadata": {},
   "outputs": [
    {
     "data": {
      "text/html": [
       "<div>\n",
       "<style scoped>\n",
       "    .dataframe tbody tr th:only-of-type {\n",
       "        vertical-align: middle;\n",
       "    }\n",
       "\n",
       "    .dataframe tbody tr th {\n",
       "        vertical-align: top;\n",
       "    }\n",
       "\n",
       "    .dataframe thead th {\n",
       "        text-align: right;\n",
       "    }\n",
       "</style>\n",
       "<table border=\"1\" class=\"dataframe\">\n",
       "  <thead>\n",
       "    <tr style=\"text-align: right;\">\n",
       "      <th></th>\n",
       "      <th>Store</th>\n",
       "      <th>Date</th>\n",
       "      <th>Weekly_Sales</th>\n",
       "      <th>Holiday_Flag</th>\n",
       "      <th>Temperature</th>\n",
       "      <th>Fuel_Price</th>\n",
       "      <th>CPI</th>\n",
       "      <th>Unemployment</th>\n",
       "    </tr>\n",
       "  </thead>\n",
       "  <tbody>\n",
       "    <tr>\n",
       "      <th>0</th>\n",
       "      <td>1</td>\n",
       "      <td>2010-05-02</td>\n",
       "      <td>1643690.90</td>\n",
       "      <td>0</td>\n",
       "      <td>42.31</td>\n",
       "      <td>2.572</td>\n",
       "      <td>211.096358</td>\n",
       "      <td>8.106</td>\n",
       "    </tr>\n",
       "    <tr>\n",
       "      <th>1</th>\n",
       "      <td>1</td>\n",
       "      <td>2010-12-02</td>\n",
       "      <td>1641957.44</td>\n",
       "      <td>1</td>\n",
       "      <td>38.51</td>\n",
       "      <td>2.548</td>\n",
       "      <td>211.242170</td>\n",
       "      <td>8.106</td>\n",
       "    </tr>\n",
       "    <tr>\n",
       "      <th>2</th>\n",
       "      <td>1</td>\n",
       "      <td>2010-02-19</td>\n",
       "      <td>1611968.17</td>\n",
       "      <td>0</td>\n",
       "      <td>39.93</td>\n",
       "      <td>2.514</td>\n",
       "      <td>211.289143</td>\n",
       "      <td>8.106</td>\n",
       "    </tr>\n",
       "    <tr>\n",
       "      <th>3</th>\n",
       "      <td>1</td>\n",
       "      <td>2010-02-26</td>\n",
       "      <td>1409727.59</td>\n",
       "      <td>0</td>\n",
       "      <td>46.63</td>\n",
       "      <td>2.561</td>\n",
       "      <td>211.319643</td>\n",
       "      <td>8.106</td>\n",
       "    </tr>\n",
       "    <tr>\n",
       "      <th>4</th>\n",
       "      <td>1</td>\n",
       "      <td>2010-05-03</td>\n",
       "      <td>1554806.68</td>\n",
       "      <td>0</td>\n",
       "      <td>46.50</td>\n",
       "      <td>2.625</td>\n",
       "      <td>211.350143</td>\n",
       "      <td>8.106</td>\n",
       "    </tr>\n",
       "  </tbody>\n",
       "</table>\n",
       "</div>"
      ],
      "text/plain": [
       "   Store       Date  Weekly_Sales  Holiday_Flag  Temperature  Fuel_Price  \\\n",
       "0      1 2010-05-02    1643690.90             0        42.31       2.572   \n",
       "1      1 2010-12-02    1641957.44             1        38.51       2.548   \n",
       "2      1 2010-02-19    1611968.17             0        39.93       2.514   \n",
       "3      1 2010-02-26    1409727.59             0        46.63       2.561   \n",
       "4      1 2010-05-03    1554806.68             0        46.50       2.625   \n",
       "\n",
       "          CPI  Unemployment  \n",
       "0  211.096358         8.106  \n",
       "1  211.242170         8.106  \n",
       "2  211.289143         8.106  \n",
       "3  211.319643         8.106  \n",
       "4  211.350143         8.106  "
      ]
     },
     "execution_count": 91,
     "metadata": {},
     "output_type": "execute_result"
    }
   ],
   "source": [
    "# working on HYPOTHESIS ANALYSIS\n",
    "walmart_data.head()"
   ]
  },
  {
   "cell_type": "code",
   "execution_count": 5,
   "metadata": {},
   "outputs": [
    {
     "data": {
      "text/plain": [
       "6173     292680.16\n",
       "6174     275020.96\n",
       "1741    1817887.23\n",
       "2312     893504.87\n",
       "2313     833517.19\n",
       "1740    1907351.20\n",
       "2454    1115514.61\n",
       "4027     512292.01\n",
       "3026     988392.99\n",
       "3031    1017045.44\n",
       "3174    1439901.05\n",
       "3603    1007385.36\n",
       "3169    1413124.11\n",
       "5600     959229.09\n",
       "4032     531640.19\n",
       "2459    1141860.67\n",
       "3598    1028151.72\n",
       "5605     932397.00\n",
       "4158     462454.39\n",
       "11      1391256.12\n",
       "4301    1280465.80\n",
       "154     1821990.93\n",
       "297      339976.65\n",
       "1012     850440.26\n",
       "726     1540435.99\n",
       "5445    1280231.85\n",
       "5159     527019.78\n",
       "583      288839.73\n",
       "1441    1283766.55\n",
       "1155     488683.57\n",
       "           ...    \n",
       "4148     497374.57\n",
       "2861     809321.44\n",
       "716     1606283.86\n",
       "5435    1266229.07\n",
       "1145     552677.48\n",
       "144     2137809.50\n",
       "1       1641957.44\n",
       "5005     467546.74\n",
       "5029     452021.20\n",
       "4721     983963.07\n",
       "431     2049860.26\n",
       "5006     469563.70\n",
       "5035     431294.45\n",
       "5008     447519.44\n",
       "6008     658997.55\n",
       "2862     867283.25\n",
       "2       1611968.17\n",
       "4292    1473386.75\n",
       "145     2124451.54\n",
       "4149     463513.26\n",
       "1146     511327.90\n",
       "5436    1230591.97\n",
       "1432    1503298.70\n",
       "717     1567138.07\n",
       "5150     510382.50\n",
       "288      421642.19\n",
       "574      303447.57\n",
       "1003     963960.37\n",
       "5036     434471.38\n",
       "5007     470281.03\n",
       "Name: Weekly_Sales, Length: 1092, dtype: float64"
      ]
     },
     "execution_count": 5,
     "metadata": {},
     "output_type": "execute_result"
    }
   ],
   "source": [
    "fuel_price_sort=walmart_data[['Fuel_Price','Weekly_Sales']].sort_values(by ='Fuel_Price',ascending=False)\n",
    "#mask_fuel=(fuel_price_sort['Fuel_Price'] > 3.0)\n",
    "#fuel_4above= fuel_price_sort(mask_fuel)\n",
    "mask1=fuel_price_sort.Fuel_Price>=2.8\n",
    "mask2=fuel_price_sort.Fuel_Price<2.8\n",
    "fuel_4above_sales=fuel_price_sort[mask1]\n",
    "fuel_4above_sales\n",
    "fuel_4below_sales=fuel_price_sort[mask2]\n",
    "fuel_4below_sales.Weekly_Sales"
   ]
  },
  {
   "cell_type": "code",
   "execution_count": 6,
   "metadata": {},
   "outputs": [
    {
     "name": "stdout",
     "output_type": "stream",
     "text": [
      "1058456.166818268\n",
      "572055.7497088856\n"
     ]
    }
   ],
   "source": [
    "mean_sale_fuel_4above=fuel_4above_sales.Weekly_Sales.mean()\n",
    "std_sale_fuel_4above=fuel_4above_sales.Weekly_Sales.std()\n",
    "print(mean_sale_fuel_4above)\n",
    "print(std_sale_fuel_4above)"
   ]
  },
  {
   "cell_type": "code",
   "execution_count": 7,
   "metadata": {},
   "outputs": [
    {
     "name": "stdout",
     "output_type": "stream",
     "text": [
      "990739.6408424919\n",
      "521732.9985632322\n"
     ]
    }
   ],
   "source": [
    "mean_sale_fuel_4below=fuel_4below_sales.Weekly_Sales.mean()\n",
    "std_sale_fuel_4below=fuel_4below_sales.Weekly_Sales.std()\n",
    "print(mean_sale_fuel_4below)\n",
    "print(std_sale_fuel_4below)"
   ]
  },
  {
   "cell_type": "code",
   "execution_count": 9,
   "metadata": {},
   "outputs": [
    {
     "data": {
      "text/plain": [
       "'\\nH0: Null Hypothesis : there is no impact of Fuel price on sales\\nH1: Alternate Hypothesis: there is an impact of Fuel price on sales\\nalpha: 0.05 '"
      ]
     },
     "execution_count": 9,
     "metadata": {},
     "output_type": "execute_result"
    }
   ],
   "source": [
    "'''\n",
    "H0: Null Hypothesis : there is no impact of Fuel price on sales\n",
    "H1: Alternate Hypothesis: there is an impact of Fuel price on sales\n",
    "alpha: 0.05 '''"
   ]
  },
  {
   "cell_type": "code",
   "execution_count": 8,
   "metadata": {},
   "outputs": [],
   "source": [
    "#applying t_test\n",
    "data1=np.array(fuel_4above_sales.Weekly_Sales)\n",
    "data2=np.array(fuel_4below_sales.Weekly_Sales)\n",
    "from scipy.stats import ttest_ind"
   ]
  },
  {
   "cell_type": "code",
   "execution_count": 9,
   "metadata": {},
   "outputs": [
    {
     "name": "stdout",
     "output_type": "stream",
     "text": [
      "t=3.843, p=0.000\n"
     ]
    }
   ],
   "source": [
    "# compare samples\n",
    "#2.8 is the critical point\n",
    "#reject null hypothesis for 2.6,2.7,2.8\n",
    "#fail to reject null hypothesis for 2.9,3.0,3.1\n",
    "stat, p = ttest_ind(data1, data2,equal_var=False)\n",
    "print('t=%.3f, p=%.3f' % (stat, p))"
   ]
  },
  {
   "cell_type": "code",
   "execution_count": 14,
   "metadata": {},
   "outputs": [
    {
     "name": "stdout",
     "output_type": "stream",
     "text": [
      "4.468 2.472\n",
      "892\n"
     ]
    }
   ],
   "source": [
    "fuel=walmart_data.Fuel_Price.max()\n",
    "fuel2=walmart_data.Fuel_Price.min()\n",
    "print(fuel,fuel2)\n",
    "fuel3=walmart_data.Fuel_Price.unique()\n",
    "print(len(fuel3))"
   ]
  },
  {
   "cell_type": "code",
   "execution_count": null,
   "metadata": {},
   "outputs": [],
   "source": [
    "#plot a graph showing sales for fuel price below 2.8 and above 2.8\n",
    "fig,ax=plt.subplots(figsize=(12,6))\n",
    "yaxis=fuel_4above_sales[['Weekly_Sales']]\n",
    "z=fuel_4below_sales[['Weekly_Sales']]\n",
    "x=range(int(yaxis.min()),int(yaxis.max()))\n",
    "ax.bar(x,yaxis)"
   ]
  },
  {
   "cell_type": "code",
   "execution_count": null,
   "metadata": {},
   "outputs": [],
   "source": []
  },
  {
   "cell_type": "code",
   "execution_count": null,
   "metadata": {},
   "outputs": [],
   "source": []
  },
  {
   "cell_type": "code",
   "execution_count": null,
   "metadata": {},
   "outputs": [],
   "source": []
  },
  {
   "cell_type": "code",
   "execution_count": null,
   "metadata": {},
   "outputs": [],
   "source": []
  },
  {
   "cell_type": "code",
   "execution_count": 47,
   "metadata": {},
   "outputs": [
    {
     "data": {
      "text/html": [
       "<div>\n",
       "<style scoped>\n",
       "    .dataframe tbody tr th:only-of-type {\n",
       "        vertical-align: middle;\n",
       "    }\n",
       "\n",
       "    .dataframe tbody tr th {\n",
       "        vertical-align: top;\n",
       "    }\n",
       "\n",
       "    .dataframe thead th {\n",
       "        text-align: right;\n",
       "    }\n",
       "</style>\n",
       "<table border=\"1\" class=\"dataframe\">\n",
       "  <thead>\n",
       "    <tr style=\"text-align: right;\">\n",
       "      <th></th>\n",
       "      <th>Unemployment</th>\n",
       "      <th>Weekly_Sales</th>\n",
       "    </tr>\n",
       "  </thead>\n",
       "  <tbody>\n",
       "    <tr>\n",
       "      <th>5664</th>\n",
       "      <td>4.420</td>\n",
       "      <td>1070389.98</td>\n",
       "    </tr>\n",
       "    <tr>\n",
       "      <th>5666</th>\n",
       "      <td>4.420</td>\n",
       "      <td>942319.65</td>\n",
       "    </tr>\n",
       "    <tr>\n",
       "      <th>5667</th>\n",
       "      <td>4.420</td>\n",
       "      <td>941675.95</td>\n",
       "    </tr>\n",
       "    <tr>\n",
       "      <th>5668</th>\n",
       "      <td>4.420</td>\n",
       "      <td>1011321.18</td>\n",
       "    </tr>\n",
       "    <tr>\n",
       "      <th>5669</th>\n",
       "      <td>4.420</td>\n",
       "      <td>1037687.07</td>\n",
       "    </tr>\n",
       "    <tr>\n",
       "      <th>5670</th>\n",
       "      <td>4.420</td>\n",
       "      <td>905399.99</td>\n",
       "    </tr>\n",
       "    <tr>\n",
       "      <th>5671</th>\n",
       "      <td>4.420</td>\n",
       "      <td>1230011.95</td>\n",
       "    </tr>\n",
       "    <tr>\n",
       "      <th>5673</th>\n",
       "      <td>4.420</td>\n",
       "      <td>1158708.98</td>\n",
       "    </tr>\n",
       "    <tr>\n",
       "      <th>5674</th>\n",
       "      <td>4.420</td>\n",
       "      <td>1198670.19</td>\n",
       "    </tr>\n",
       "    <tr>\n",
       "      <th>5675</th>\n",
       "      <td>4.420</td>\n",
       "      <td>1601585.70</td>\n",
       "    </tr>\n",
       "    <tr>\n",
       "      <th>5676</th>\n",
       "      <td>4.420</td>\n",
       "      <td>908853.15</td>\n",
       "    </tr>\n",
       "    <tr>\n",
       "      <th>5665</th>\n",
       "      <td>4.420</td>\n",
       "      <td>936751.68</td>\n",
       "    </tr>\n",
       "    <tr>\n",
       "      <th>5672</th>\n",
       "      <td>4.420</td>\n",
       "      <td>1059676.62</td>\n",
       "    </tr>\n",
       "    <tr>\n",
       "      <th>3242</th>\n",
       "      <td>4.420</td>\n",
       "      <td>1841173.60</td>\n",
       "    </tr>\n",
       "    <tr>\n",
       "      <th>3239</th>\n",
       "      <td>4.420</td>\n",
       "      <td>1345631.96</td>\n",
       "    </tr>\n",
       "    <tr>\n",
       "      <th>3241</th>\n",
       "      <td>4.420</td>\n",
       "      <td>1552886.59</td>\n",
       "    </tr>\n",
       "    <tr>\n",
       "      <th>3238</th>\n",
       "      <td>4.420</td>\n",
       "      <td>1436940.78</td>\n",
       "    </tr>\n",
       "    <tr>\n",
       "      <th>3243</th>\n",
       "      <td>4.420</td>\n",
       "      <td>2173621.20</td>\n",
       "    </tr>\n",
       "    <tr>\n",
       "      <th>3244</th>\n",
       "      <td>4.420</td>\n",
       "      <td>2587953.32</td>\n",
       "    </tr>\n",
       "    <tr>\n",
       "      <th>3245</th>\n",
       "      <td>4.420</td>\n",
       "      <td>1213486.95</td>\n",
       "    </tr>\n",
       "    <tr>\n",
       "      <th>3237</th>\n",
       "      <td>4.420</td>\n",
       "      <td>1428436.33</td>\n",
       "    </tr>\n",
       "    <tr>\n",
       "      <th>3240</th>\n",
       "      <td>4.420</td>\n",
       "      <td>2057059.53</td>\n",
       "    </tr>\n",
       "    <tr>\n",
       "      <th>3233</th>\n",
       "      <td>4.420</td>\n",
       "      <td>1463501.99</td>\n",
       "    </tr>\n",
       "    <tr>\n",
       "      <th>3234</th>\n",
       "      <td>4.420</td>\n",
       "      <td>1257778.34</td>\n",
       "    </tr>\n",
       "    <tr>\n",
       "      <th>3235</th>\n",
       "      <td>4.420</td>\n",
       "      <td>1441032.59</td>\n",
       "    </tr>\n",
       "    <tr>\n",
       "      <th>3236</th>\n",
       "      <td>4.420</td>\n",
       "      <td>1407191.96</td>\n",
       "    </tr>\n",
       "    <tr>\n",
       "      <th>551</th>\n",
       "      <td>4.308</td>\n",
       "      <td>2245257.18</td>\n",
       "    </tr>\n",
       "    <tr>\n",
       "      <th>550</th>\n",
       "      <td>4.308</td>\n",
       "      <td>2179360.94</td>\n",
       "    </tr>\n",
       "    <tr>\n",
       "      <th>554</th>\n",
       "      <td>4.308</td>\n",
       "      <td>2128362.92</td>\n",
       "    </tr>\n",
       "    <tr>\n",
       "      <th>553</th>\n",
       "      <td>4.308</td>\n",
       "      <td>2197299.65</td>\n",
       "    </tr>\n",
       "    <tr>\n",
       "      <th>...</th>\n",
       "      <td>...</td>\n",
       "      <td>...</td>\n",
       "    </tr>\n",
       "    <tr>\n",
       "      <th>3264</th>\n",
       "      <td>4.125</td>\n",
       "      <td>1321914.34</td>\n",
       "    </tr>\n",
       "    <tr>\n",
       "      <th>3265</th>\n",
       "      <td>4.125</td>\n",
       "      <td>1332952.47</td>\n",
       "    </tr>\n",
       "    <tr>\n",
       "      <th>3266</th>\n",
       "      <td>4.125</td>\n",
       "      <td>1552934.64</td>\n",
       "    </tr>\n",
       "    <tr>\n",
       "      <th>3267</th>\n",
       "      <td>4.125</td>\n",
       "      <td>1476144.34</td>\n",
       "    </tr>\n",
       "    <tr>\n",
       "      <th>3268</th>\n",
       "      <td>4.125</td>\n",
       "      <td>1568048.54</td>\n",
       "    </tr>\n",
       "    <tr>\n",
       "      <th>3269</th>\n",
       "      <td>4.125</td>\n",
       "      <td>1543667.68</td>\n",
       "    </tr>\n",
       "    <tr>\n",
       "      <th>3270</th>\n",
       "      <td>4.125</td>\n",
       "      <td>1522042.57</td>\n",
       "    </tr>\n",
       "    <tr>\n",
       "      <th>3271</th>\n",
       "      <td>4.125</td>\n",
       "      <td>1451782.16</td>\n",
       "    </tr>\n",
       "    <tr>\n",
       "      <th>5697</th>\n",
       "      <td>4.125</td>\n",
       "      <td>991054.49</td>\n",
       "    </tr>\n",
       "    <tr>\n",
       "      <th>5695</th>\n",
       "      <td>4.125</td>\n",
       "      <td>967729.35</td>\n",
       "    </tr>\n",
       "    <tr>\n",
       "      <th>5692</th>\n",
       "      <td>4.125</td>\n",
       "      <td>896979.93</td>\n",
       "    </tr>\n",
       "    <tr>\n",
       "      <th>5693</th>\n",
       "      <td>4.125</td>\n",
       "      <td>875372.91</td>\n",
       "    </tr>\n",
       "    <tr>\n",
       "      <th>5694</th>\n",
       "      <td>4.125</td>\n",
       "      <td>993311.59</td>\n",
       "    </tr>\n",
       "    <tr>\n",
       "      <th>561</th>\n",
       "      <td>4.077</td>\n",
       "      <td>2283540.30</td>\n",
       "    </tr>\n",
       "    <tr>\n",
       "      <th>567</th>\n",
       "      <td>4.077</td>\n",
       "      <td>2027620.23</td>\n",
       "    </tr>\n",
       "    <tr>\n",
       "      <th>566</th>\n",
       "      <td>4.077</td>\n",
       "      <td>2119438.53</td>\n",
       "    </tr>\n",
       "    <tr>\n",
       "      <th>565</th>\n",
       "      <td>4.077</td>\n",
       "      <td>2117854.60</td>\n",
       "    </tr>\n",
       "    <tr>\n",
       "      <th>564</th>\n",
       "      <td>4.077</td>\n",
       "      <td>2125104.72</td>\n",
       "    </tr>\n",
       "    <tr>\n",
       "      <th>563</th>\n",
       "      <td>4.077</td>\n",
       "      <td>2081181.35</td>\n",
       "    </tr>\n",
       "    <tr>\n",
       "      <th>560</th>\n",
       "      <td>4.077</td>\n",
       "      <td>2193367.69</td>\n",
       "    </tr>\n",
       "    <tr>\n",
       "      <th>559</th>\n",
       "      <td>4.077</td>\n",
       "      <td>2174514.13</td>\n",
       "    </tr>\n",
       "    <tr>\n",
       "      <th>558</th>\n",
       "      <td>4.077</td>\n",
       "      <td>2048613.65</td>\n",
       "    </tr>\n",
       "    <tr>\n",
       "      <th>557</th>\n",
       "      <td>4.077</td>\n",
       "      <td>2175563.69</td>\n",
       "    </tr>\n",
       "    <tr>\n",
       "      <th>556</th>\n",
       "      <td>4.077</td>\n",
       "      <td>2100252.61</td>\n",
       "    </tr>\n",
       "    <tr>\n",
       "      <th>555</th>\n",
       "      <td>4.077</td>\n",
       "      <td>2224499.28</td>\n",
       "    </tr>\n",
       "    <tr>\n",
       "      <th>562</th>\n",
       "      <td>4.077</td>\n",
       "      <td>2125241.68</td>\n",
       "    </tr>\n",
       "    <tr>\n",
       "      <th>568</th>\n",
       "      <td>3.879</td>\n",
       "      <td>2209835.43</td>\n",
       "    </tr>\n",
       "    <tr>\n",
       "      <th>569</th>\n",
       "      <td>3.879</td>\n",
       "      <td>2133026.07</td>\n",
       "    </tr>\n",
       "    <tr>\n",
       "      <th>570</th>\n",
       "      <td>3.879</td>\n",
       "      <td>2097266.85</td>\n",
       "    </tr>\n",
       "    <tr>\n",
       "      <th>571</th>\n",
       "      <td>3.879</td>\n",
       "      <td>2149594.46</td>\n",
       "    </tr>\n",
       "  </tbody>\n",
       "</table>\n",
       "<p>142 rows × 2 columns</p>\n",
       "</div>"
      ],
      "text/plain": [
       "      Unemployment  Weekly_Sales\n",
       "5664         4.420    1070389.98\n",
       "5666         4.420     942319.65\n",
       "5667         4.420     941675.95\n",
       "5668         4.420    1011321.18\n",
       "5669         4.420    1037687.07\n",
       "5670         4.420     905399.99\n",
       "5671         4.420    1230011.95\n",
       "5673         4.420    1158708.98\n",
       "5674         4.420    1198670.19\n",
       "5675         4.420    1601585.70\n",
       "5676         4.420     908853.15\n",
       "5665         4.420     936751.68\n",
       "5672         4.420    1059676.62\n",
       "3242         4.420    1841173.60\n",
       "3239         4.420    1345631.96\n",
       "3241         4.420    1552886.59\n",
       "3238         4.420    1436940.78\n",
       "3243         4.420    2173621.20\n",
       "3244         4.420    2587953.32\n",
       "3245         4.420    1213486.95\n",
       "3237         4.420    1428436.33\n",
       "3240         4.420    2057059.53\n",
       "3233         4.420    1463501.99\n",
       "3234         4.420    1257778.34\n",
       "3235         4.420    1441032.59\n",
       "3236         4.420    1407191.96\n",
       "551          4.308    2245257.18\n",
       "550          4.308    2179360.94\n",
       "554          4.308    2128362.92\n",
       "553          4.308    2197299.65\n",
       "...            ...           ...\n",
       "3264         4.125    1321914.34\n",
       "3265         4.125    1332952.47\n",
       "3266         4.125    1552934.64\n",
       "3267         4.125    1476144.34\n",
       "3268         4.125    1568048.54\n",
       "3269         4.125    1543667.68\n",
       "3270         4.125    1522042.57\n",
       "3271         4.125    1451782.16\n",
       "5697         4.125     991054.49\n",
       "5695         4.125     967729.35\n",
       "5692         4.125     896979.93\n",
       "5693         4.125     875372.91\n",
       "5694         4.125     993311.59\n",
       "561          4.077    2283540.30\n",
       "567          4.077    2027620.23\n",
       "566          4.077    2119438.53\n",
       "565          4.077    2117854.60\n",
       "564          4.077    2125104.72\n",
       "563          4.077    2081181.35\n",
       "560          4.077    2193367.69\n",
       "559          4.077    2174514.13\n",
       "558          4.077    2048613.65\n",
       "557          4.077    2175563.69\n",
       "556          4.077    2100252.61\n",
       "555          4.077    2224499.28\n",
       "562          4.077    2125241.68\n",
       "568          3.879    2209835.43\n",
       "569          3.879    2133026.07\n",
       "570          3.879    2097266.85\n",
       "571          3.879    2149594.46\n",
       "\n",
       "[142 rows x 2 columns]"
      ]
     },
     "execution_count": 47,
     "metadata": {},
     "output_type": "execute_result"
    }
   ],
   "source": [
    "unemploy_sort=walmart_data[['Unemployment','Weekly_Sales']].sort_values(by ='Unemployment',ascending=False)\n",
    "#mask_fuel=(fuel_price_sort['Fuel_Price'] > 3.0)\n",
    "#fuel_4above= fuel_price_sort(mask_fuel)\n",
    "mask1=unemploy_sort.Unemployment>=4.5\n",
    "mask2=unemploy_sort.Unemployment<4.5\n",
    "high_unemploy_sale=unemploy_sort[mask1]\n",
    "high_unemploy_sale\n",
    "low_unemploy_sale=unemploy_sort[mask2]\n",
    "low_unemploy_sale"
   ]
  },
  {
   "cell_type": "code",
   "execution_count": 48,
   "metadata": {},
   "outputs": [
    {
     "name": "stdout",
     "output_type": "stream",
     "text": [
      "14.312999999999999\n",
      "3.8789999999999996\n"
     ]
    }
   ],
   "source": [
    "print(walmart_data.Unemployment.max())\n",
    "print(walmart_data.Unemployment.min())"
   ]
  },
  {
   "cell_type": "code",
   "execution_count": 49,
   "metadata": {},
   "outputs": [
    {
     "name": "stdout",
     "output_type": "stream",
     "text": [
      "1038809.4668441107\n",
      "563594.0610654072\n"
     ]
    }
   ],
   "source": [
    "mean_sale_high_employ=high_unemploy_sale.Weekly_Sales.mean()\n",
    "std_sale_high_employ=high_unemploy_sale.Weekly_Sales.std()\n",
    "print(mean_sale_high_employ)\n",
    "print(std_sale_high_employ)"
   ]
  },
  {
   "cell_type": "code",
   "execution_count": 50,
   "metadata": {},
   "outputs": [
    {
     "name": "stdout",
     "output_type": "stream",
     "text": [
      "1408387.4102816903\n",
      "474482.6279616408\n"
     ]
    }
   ],
   "source": [
    "mean_sale_low_employ=low_unemploy_sale.Weekly_Sales.mean()\n",
    "std_sale_low_employ=low_unemploy_sale.Weekly_Sales.std()\n",
    "print(mean_sale_low_employ)\n",
    "print(std_sale_low_employ)"
   ]
  },
  {
   "cell_type": "code",
   "execution_count": 51,
   "metadata": {},
   "outputs": [],
   "source": [
    "#applying t_test\n",
    "data1=np.array(high_unemploy_sale.Weekly_Sales)\n",
    "data2=np.array(low_unemploy_sale.Weekly_Sales)\n",
    "from scipy.stats import ttest_ind"
   ]
  },
  {
   "cell_type": "code",
   "execution_count": 119,
   "metadata": {},
   "outputs": [
    {
     "name": "stdout",
     "output_type": "stream",
     "text": [
      "t=-5.909, p=0.000\n"
     ]
    }
   ],
   "source": [
    "\n",
    "unemploy_sort=walmart_data[['Unemployment','Weekly_Sales']].sort_values(by ='Unemployment',ascending=False)\n",
    "#mask_fuel=(fuel_price_sort['Fuel_Price'] > 3.0)\n",
    "#fuel_4above= fuel_price_sort(mask_fuel)\n",
    "#14.18 is the critical point\n",
    "mask1=unemploy_sort.Unemployment>=6\n",
    "mask2=unemploy_sort.Unemployment<6\n",
    "high_unemploy_sale=unemploy_sort[mask1]\n",
    "high_unemploy_sale\n",
    "low_unemploy_sale=unemploy_sort[mask2]\n",
    "low_unemploy_sale\n",
    "#applying t_test\n",
    "data1=np.array(high_unemploy_sale.Weekly_Sales)\n",
    "data2=np.array(low_unemploy_sale.Weekly_Sales)\n",
    "from scipy.stats import ttest_ind\n",
    "# compare samples\n",
    "#reject null hypothesis for 2.6,2.7,2.8\n",
    "#fail to reject null hypothesis for 2.9,3.0,3.1\n",
    "stat, p = ttest_ind(data1, data2,equal_var=False)\n",
    "print('t=%.3f, p=%.3f' % (stat, p))"
   ]
  },
  {
   "cell_type": "code",
   "execution_count": null,
   "metadata": {},
   "outputs": [],
   "source": [
    "fig,ax=plt.subplots(figsize=(12,6))\n",
    "yaxis=fuel_4above_sales[['Weekly_Sales']].sum()\n",
    "z=fuel_4below_sales[['Weekly_Sales']].mean()\n",
    "labels=['Fuel above 2.8','Fuel below 2.8']\n",
    "ax.set_xticklabels(labels, fontsize=10)\n",
    "ax.bar(labels,yaxis)\n"
   ]
  },
  {
   "cell_type": "code",
   "execution_count": 53,
   "metadata": {},
   "outputs": [
    {
     "name": "stdout",
     "output_type": "stream",
     "text": [
      "t=-3.533, p=0.002\n"
     ]
    }
   ],
   "source": [
    "cpi_sort=walmart_data[['CPI','Weekly_Sales']].sort_values(by ='CPI',ascending=False)\n",
    "#mask_fuel=(fuel_price_sort['Fuel_Price'] > 3.0)\n",
    "#fuel_4above= fuel_price_sort(mask_fuel)\n",
    "#226.55 is the critical point\n",
    "mask1=cpi_sort.CPI>=226.55\n",
    "mask2=cpi_sort.CPI<226.55\n",
    "high_cpi_sale=cpi_sort[mask1]\n",
    "high_cpi_sale\n",
    "low_cpi_sale=cpi_sort[mask2]\n",
    "low_cpi_sale\n",
    "#applying t_test\n",
    "data1=np.array(high_cpi_sale.Weekly_Sales)\n",
    "data2=np.array(low_cpi_sale.Weekly_Sales)\n",
    "from scipy.stats import ttest_ind\n",
    "# compare samples\n",
    "#reject null hypothesis for 2.6,2.7,2.8\n",
    "#fail to reject null hypothesis for 2.9,3.0,3.1\n",
    "stat, p = ttest_ind(data1, data2,equal_var=False)\n",
    "print('t=%.3f, p=%.3f' % (stat, p))"
   ]
  },
  {
   "cell_type": "code",
   "execution_count": 54,
   "metadata": {},
   "outputs": [
    {
     "data": {
      "text/plain": [
       "227.2328068"
      ]
     },
     "execution_count": 54,
     "metadata": {},
     "output_type": "execute_result"
    }
   ],
   "source": [
    "walmart_data.CPI.max()"
   ]
  },
  {
   "cell_type": "code",
   "execution_count": 55,
   "metadata": {},
   "outputs": [
    {
     "data": {
      "text/plain": [
       "126.064"
      ]
     },
     "execution_count": 55,
     "metadata": {},
     "output_type": "execute_result"
    }
   ],
   "source": [
    "walmart_data.CPI.min()"
   ]
  },
  {
   "cell_type": "code",
   "execution_count": 37,
   "metadata": {},
   "outputs": [
    {
     "data": {
      "image/png": "[encoded data removed]",
      "text/plain": [
       "<Figure size 864x432 with 1 Axes>"
      ]
     },
     "metadata": {
      "needs_background": "light"
     },
     "output_type": "display_data"
    }
   ],
   "source": [
    "from scipy.stats import ttest_ind\n",
    "fig,ax=plt.subplots(figsize=(12,6))\n",
    "walmart_data.Unemployment=np.round(walmart_data.Unemployment,2)\n",
    "x=walmart_data.Unemployment.unique()\n",
    "def p_value_unemployment (x):\n",
    "    unemploy_sort=walmart_data[['Unemployment','Weekly_Sales']].sort_values(by ='Unemployment',ascending=False) \n",
    "    p_list=[]\n",
    "    for i in x:\n",
    "        mask1=unemploy_sort.Unemployment>=i\n",
    "        mask2=unemploy_sort.Unemployment<i\n",
    "        high_unemploy_sale=unemploy_sort[mask1]\n",
    "        high_unemploy_sale\n",
    "        low_unemploy_sale=unemploy_sort[mask2]\n",
    "        low_unemploy_sale\n",
    "        data1=np.array(high_unemploy_sale.Weekly_Sales)\n",
    "        data2=np.array(low_unemploy_sale.Weekly_Sales)\n",
    "        stat, p = ttest_ind(data1, data2,equal_var=False)\n",
    "        p_list.append(p)\n",
    "    return p_list\n",
    "p_value_list=p_value_unemployment(x)\n",
    "ax.scatter(x,p_value_list,label='p-value',c='b')\n",
    "plt.hlines(0.05,2,17,colors='r',label='alpha=0.05')\n",
    "ax.set_xlabel('Unemployment index')\n",
    "ax.set_ylabel('p-value')\n",
    "ax.legend()\n",
    "ax.grid(b=True, which='minor', linestyle='-')\n",
    "ax.set_title(\"Changes in p-value VS Unemployment Index\")\n",
    "plt.show()"
   ]
  },
  {
   "cell_type": "code",
   "execution_count": 14,
   "metadata": {},
   "outputs": [
    {
     "name": "stdout",
     "output_type": "stream",
     "text": [
      "[ 3.879  4.077  4.125  4.145  4.156  4.261  4.308  4.42   4.584  4.607\n",
      "  4.781  4.954  5.114  5.124  5.143  5.217  5.277  5.287  5.326  5.329\n",
      "  5.401  5.407  5.422  5.435  5.527  5.539  5.603  5.621  5.644  5.667\n",
      "  5.668  5.679  5.765  5.774  5.801  5.825  5.847  5.892  5.936  5.943\n",
      "  5.946  5.964  5.965  6.034  6.054  6.061  6.078  6.104  6.123  6.132\n",
      "  6.162  6.169  6.17   6.195  6.228  6.232  6.235  6.262  6.29   6.297\n",
      "  6.299  6.3    6.315  6.334  6.338  6.339  6.38   6.384  6.392  6.403\n",
      "  6.404  6.415  6.416  6.425  6.432  6.433  6.442  6.465  6.489  6.496\n",
      "  6.51   6.529  6.547  6.548  6.551  6.56   6.565  6.566  6.573  6.589\n",
      "  6.614  6.617  6.623  6.634  6.635  6.664  6.697  6.745  6.759  6.768\n",
      "  6.774  6.833  6.842  6.855  6.858  6.866  6.868  6.877  6.885  6.891\n",
      "  6.895  6.901  6.906  6.908  6.925  6.934  6.943  6.961  6.973  6.986\n",
      "  6.989  7.007  7.039  7.057  7.082  7.092  7.127  7.138  7.139  7.143\n",
      "  7.147  7.17   7.193  7.197  7.224  7.241  7.244  7.259  7.274  7.28\n",
      "  7.287  7.293  7.335  7.343  7.346  7.348  7.363  7.368  7.372  7.382\n",
      "  7.396  7.405  7.441  7.467  7.47   7.484  7.489  7.503  7.508  7.527\n",
      "  7.541  7.543  7.545  7.551  7.557  7.564  7.567  7.574  7.598  7.603\n",
      "  7.61   7.658  7.671  7.682  7.706  7.716  7.725  7.742  7.753  7.767\n",
      "  7.771  7.787  7.795  7.804  7.806  7.808  7.818  7.827  7.838  7.85\n",
      "  7.852  7.856  7.866  7.872  7.874  7.896  7.906  7.907  7.931  7.943\n",
      "  7.951  7.962  7.972  7.982  7.992  8.     8.009  8.01   8.021  8.023\n",
      "  8.028  8.058  8.067  8.075  8.09   8.099  8.106  8.107  8.117  8.119\n",
      "  8.149  8.15   8.163  8.177  8.185  8.187  8.193  8.2    8.211  8.212\n",
      "  8.237  8.239  8.243  8.252  8.253  8.256  8.257  8.275  8.283  8.3\n",
      "  8.304  8.316  8.324  8.326  8.348  8.35   8.358  8.36   8.395  8.424\n",
      "  8.433  8.442  8.445  8.454  8.458  8.464  8.471  8.476  8.488  8.494\n",
      "  8.512  8.513  8.521  8.523  8.535  8.549  8.554  8.567  8.572  8.595\n",
      "  8.622  8.623  8.625  8.659  8.665  8.667  8.684  8.687  8.693  8.724\n",
      "  8.743  8.744  8.745  8.763  8.818  8.839  8.861  8.876  8.89   8.899\n",
      "  8.951  8.953  8.963  8.975  8.983  8.988  8.992  9.003  9.014  9.017\n",
      "  9.051  9.131  9.137  9.14   9.151  9.199  9.202  9.262  9.265  9.269\n",
      "  9.285  9.331  9.342  9.357  9.419  9.495  9.521  9.524  9.575  9.593\n",
      "  9.653  9.765  9.816  9.849  9.863  9.966 10.064 10.115 10.148 10.16\n",
      " 10.199 10.21  10.256 10.398 10.409 10.524 10.581 10.641 10.926 11.627\n",
      " 12.187 12.89  13.503 13.736 13.975 14.021 14.099 14.18  14.313]\n"
     ]
    }
   ],
   "source": [
    "x=walmart_data.Unemployment.unique()\n",
    "print(np.sort(x))"
   ]
  },
  {
   "cell_type": "code",
   "execution_count": 22,
   "metadata": {},
   "outputs": [
    {
     "name": "stderr",
     "output_type": "stream",
     "text": [
      "/Users/nivzz/anaconda3/lib/python3.7/site-packages/numpy/core/fromnumeric.py:3367: RuntimeWarning: Degrees of freedom <= 0 for slice\n",
      "  **kwargs)\n",
      "/Users/nivzz/anaconda3/lib/python3.7/site-packages/numpy/core/_methods.py:132: RuntimeWarning: invalid value encountered in double_scalars\n",
      "  ret = ret.dtype.type(ret / rcount)\n"
     ]
    },
    {
     "data": {
      "image/png": "[encoded data removed]",
      "text/plain": [
       "<Figure size 864x432 with 1 Axes>"
      ]
     },
     "metadata": {
      "needs_background": "light"
     },
     "output_type": "display_data"
    }
   ],
   "source": [
    "from scipy.stats import ttest_ind\n",
    "fig,ax=plt.subplots(figsize=(12,6))\n",
    "x=walmart_data.Fuel_Price.unique()\n",
    "def p_value_unemployment (x):\n",
    "    fuel_price_sort=walmart_data[['Fuel_Price','Weekly_Sales']].sort_values(by ='Fuel_Price',ascending=False) \n",
    "    p_list=[]\n",
    "    for i in x:\n",
    "        mask1=fuel_price_sort.Fuel_Price>=i\n",
    "        mask2=fuel_price_sort.Fuel_Price<i\n",
    "        fuel_4above_sales=fuel_price_sort[mask1]\n",
    "        fuel_4above_sales\n",
    "        fuel_4below_sales=fuel_price_sort[mask2]\n",
    "        fuel_4below_sales.Weekly_Sales\n",
    "        data1=np.array(fuel_4above_sales.Weekly_Sales)\n",
    "        data2=np.array(fuel_4below_sales.Weekly_Sales)\n",
    "        stat, p = ttest_ind(data1, data2,equal_var=False)\n",
    "        p_list.append(p)\n",
    "    return p_list\n",
    "p_value_list=p_value_unemployment(x)\n",
    "ax.scatter(x,p_value_list,c='b',label='p-value')\n",
    "ax.set_xlabel('Fuel Price ($/gal)')\n",
    "ax.set_ylabel('p-value')\n",
    "ax.set_xlim(2,6)\n",
    "plt.hlines(0.05,2,17,colors='r',label='alpha=0.05')\n",
    "ax.legend()\n",
    "ax.grid(b=True, which='minor', color='k', linestyle='-')\n",
    "ax.set_title(\"Changes in p-value VS Fuel Price\")\n",
    "plt.show()"
   ]
  },
  {
   "cell_type": "code",
   "execution_count": 17,
   "metadata": {},
   "outputs": [
    {
     "data": {
      "text/plain": [
       "array([2.472, 2.513, 2.514, 2.52 , 2.533, 2.539, 2.54 , 2.542, 2.545,\n",
       "       2.548, 2.55 , 2.561, 2.562, 2.565, 2.567, 2.572, 2.573, 2.574,\n",
       "       2.577, 2.578, 2.58 , 2.582, 2.584, 2.586, 2.59 , 2.594, 2.595,\n",
       "       2.596, 2.598, 2.601, 2.602, 2.603, 2.604, 2.606, 2.608, 2.612,\n",
       "       2.615, 2.619, 2.62 , 2.621, 2.623, 2.624, 2.625, 2.627, 2.633,\n",
       "       2.635, 2.637, 2.64 , 2.642, 2.644, 2.645, 2.65 , 2.653, 2.654,\n",
       "       2.655, 2.664, 2.666, 2.667, 2.668, 2.669, 2.671, 2.674, 2.68 ,\n",
       "       2.681, 2.684, 2.689, 2.69 , 2.691, 2.692, 2.694, 2.698, 2.699,\n",
       "       2.7  , 2.701, 2.704, 2.705, 2.706, 2.707, 2.708, 2.711, 2.712,\n",
       "       2.713, 2.715, 2.716, 2.717, 2.718, 2.719, 2.72 , 2.723, 2.725,\n",
       "       2.727, 2.728, 2.729, 2.731, 2.732, 2.733, 2.735, 2.736, 2.737,\n",
       "       2.74 , 2.741, 2.742, 2.743, 2.745, 2.747, 2.748, 2.75 , 2.752,\n",
       "       2.753, 2.754, 2.755, 2.756, 2.758, 2.759, 2.762, 2.764, 2.765,\n",
       "       2.766, 2.767, 2.769, 2.77 , 2.771, 2.773, 2.776, 2.777, 2.778,\n",
       "       2.779, 2.78 , 2.781, 2.782, 2.783, 2.784, 2.786, 2.787, 2.788,\n",
       "       2.791, 2.792, 2.793, 2.795, 2.796, 2.797, 2.8  , 2.802, 2.805,\n",
       "       2.806, 2.808, 2.809, 2.81 , 2.812, 2.813, 2.814, 2.815, 2.817,\n",
       "       2.818, 2.819, 2.82 , 2.825, 2.826, 2.828, 2.829, 2.83 , 2.831,\n",
       "       2.834, 2.835, 2.836, 2.837, 2.84 , 2.841, 2.842, 2.843, 2.844,\n",
       "       2.845, 2.846, 2.847, 2.849, 2.85 , 2.852, 2.853, 2.854, 2.857,\n",
       "       2.86 , 2.863, 2.868, 2.869, 2.87 , 2.871, 2.872, 2.875, 2.877,\n",
       "       2.878, 2.882, 2.884, 2.885, 2.886, 2.887, 2.891, 2.895, 2.899,\n",
       "       2.902, 2.903, 2.906, 2.908, 2.909, 2.91 , 2.911, 2.913, 2.915,\n",
       "       2.917, 2.919, 2.921, 2.923, 2.924, 2.925, 2.931, 2.932, 2.933,\n",
       "       2.934, 2.935, 2.936, 2.938, 2.939, 2.94 , 2.941, 2.942, 2.943,\n",
       "       2.946, 2.948, 2.949, 2.95 , 2.954, 2.955, 2.957, 2.958, 2.96 ,\n",
       "       2.961, 2.962, 2.963, 2.966, 2.971, 2.972, 2.973, 2.974, 2.976,\n",
       "       2.978, 2.98 , 2.981, 2.982, 2.983, 2.987, 2.989, 2.992, 2.995,\n",
       "       2.996, 2.999, 3.   , 3.001, 3.004, 3.006, 3.008, 3.009, 3.01 ,\n",
       "       3.011, 3.013, 3.014, 3.016, 3.017, 3.021, 3.022, 3.028, 3.03 ,\n",
       "       3.031, 3.033, 3.034, 3.037, 3.038, 3.039, 3.041, 3.042, 3.043,\n",
       "       3.044, 3.045, 3.046, 3.047, 3.049, 3.05 , 3.051, 3.053, 3.054,\n",
       "       3.055, 3.056, 3.057, 3.058, 3.062, 3.065, 3.07 , 3.077, 3.08 ,\n",
       "       3.083, 3.084, 3.086, 3.087, 3.09 , 3.091, 3.094, 3.095, 3.096,\n",
       "       3.098, 3.1  , 3.101, 3.103, 3.105, 3.109, 3.112, 3.113, 3.116,\n",
       "       3.119, 3.12 , 3.123, 3.125, 3.127, 3.129, 3.13 , 3.132, 3.133,\n",
       "       3.138, 3.139, 3.14 , 3.141, 3.145, 3.147, 3.148, 3.149, 3.15 ,\n",
       "       3.153, 3.157, 3.158, 3.159, 3.161, 3.162, 3.164, 3.172, 3.173,\n",
       "       3.176, 3.177, 3.179, 3.181, 3.186, 3.187, 3.191, 3.193, 3.2  ,\n",
       "       3.203, 3.205, 3.215, 3.223, 3.224, 3.225, 3.227, 3.229, 3.23 ,\n",
       "       3.231, 3.232, 3.234, 3.236, 3.237, 3.239, 3.24 , 3.242, 3.243,\n",
       "       3.245, 3.254, 3.255, 3.256, 3.257, 3.26 , 3.261, 3.262, 3.263,\n",
       "       3.266, 3.268, 3.273, 3.274, 3.275, 3.281, 3.282, 3.283, 3.285,\n",
       "       3.286, 3.287, 3.288, 3.29 , 3.294, 3.297, 3.299, 3.301, 3.305,\n",
       "       3.306, 3.308, 3.309, 3.311, 3.312, 3.313, 3.322, 3.328, 3.329,\n",
       "       3.331, 3.332, 3.336, 3.341, 3.342, 3.346, 3.348, 3.351, 3.353,\n",
       "       3.354, 3.355, 3.356, 3.358, 3.36 , 3.361, 3.362, 3.367, 3.371,\n",
       "       3.372, 3.374, 3.378, 3.38 , 3.381, 3.389, 3.391, 3.392, 3.393,\n",
       "       3.398, 3.4  , 3.402, 3.404, 3.406, 3.407, 3.409, 3.411, 3.413,\n",
       "       3.414, 3.415, 3.416, 3.417, 3.42 , 3.421, 3.422, 3.424, 3.428,\n",
       "       3.43 , 3.433, 3.435, 3.437, 3.439, 3.44 , 3.441, 3.443, 3.445,\n",
       "       3.448, 3.452, 3.459, 3.461, 3.462, 3.467, 3.469, 3.47 , 3.473,\n",
       "       3.475, 3.476, 3.477, 3.479, 3.48 , 3.481, 3.483, 3.485, 3.486,\n",
       "       3.487, 3.488, 3.489, 3.49 , 3.491, 3.492, 3.493, 3.494, 3.495,\n",
       "       3.498, 3.499, 3.501, 3.502, 3.503, 3.504, 3.505, 3.506, 3.509,\n",
       "       3.51 , 3.511, 3.512, 3.513, 3.514, 3.521, 3.523, 3.524, 3.526,\n",
       "       3.527, 3.528, 3.529, 3.53 , 3.532, 3.533, 3.534, 3.536, 3.537,\n",
       "       3.538, 3.54 , 3.541, 3.542, 3.543, 3.545, 3.546, 3.547, 3.548,\n",
       "       3.55 , 3.551, 3.552, 3.553, 3.554, 3.555, 3.556, 3.558, 3.561,\n",
       "       3.563, 3.564, 3.566, 3.567, 3.568, 3.569, 3.57 , 3.571, 3.574,\n",
       "       3.575, 3.576, 3.577, 3.578, 3.579, 3.58 , 3.581, 3.582, 3.583,\n",
       "       3.585, 3.586, 3.587, 3.589, 3.592, 3.594, 3.595, 3.596, 3.597,\n",
       "       3.599, 3.6  , 3.601, 3.603, 3.604, 3.605, 3.606, 3.608, 3.61 ,\n",
       "       3.611, 3.613, 3.616, 3.617, 3.618, 3.619, 3.62 , 3.622, 3.623,\n",
       "       3.624, 3.625, 3.627, 3.629, 3.63 , 3.631, 3.633, 3.634, 3.636,\n",
       "       3.637, 3.638, 3.64 , 3.641, 3.644, 3.645, 3.646, 3.647, 3.648,\n",
       "       3.651, 3.652, 3.654, 3.655, 3.657, 3.659, 3.66 , 3.661, 3.662,\n",
       "       3.663, 3.664, 3.666, 3.667, 3.668, 3.669, 3.671, 3.674, 3.675,\n",
       "       3.677, 3.681, 3.682, 3.683, 3.684, 3.685, 3.686, 3.688, 3.689,\n",
       "       3.69 , 3.692, 3.693, 3.694, 3.695, 3.697, 3.698, 3.699, 3.701,\n",
       "       3.702, 3.703, 3.704, 3.705, 3.706, 3.707, 3.709, 3.711, 3.713,\n",
       "       3.716, 3.717, 3.719, 3.72 , 3.721, 3.722, 3.723, 3.724, 3.726,\n",
       "       3.727, 3.73 , 3.732, 3.734, 3.735, 3.737, 3.738, 3.739, 3.74 ,\n",
       "       3.741, 3.742, 3.743, 3.744, 3.746, 3.747, 3.748, 3.749, 3.75 ,\n",
       "       3.751, 3.752, 3.755, 3.756, 3.757, 3.758, 3.759, 3.76 , 3.763,\n",
       "       3.764, 3.765, 3.767, 3.769, 3.77 , 3.771, 3.772, 3.775, 3.776,\n",
       "       3.778, 3.779, 3.781, 3.784, 3.786, 3.787, 3.788, 3.789, 3.793,\n",
       "       3.794, 3.795, 3.796, 3.797, 3.798, 3.801, 3.802, 3.803, 3.804,\n",
       "       3.805, 3.807, 3.808, 3.809, 3.81 , 3.811, 3.812, 3.813, 3.814,\n",
       "       3.815, 3.816, 3.818, 3.819, 3.82 , 3.821, 3.823, 3.824, 3.826,\n",
       "       3.827, 3.828, 3.829, 3.831, 3.833, 3.834, 3.835, 3.837, 3.84 ,\n",
       "       3.842, 3.843, 3.845, 3.848, 3.85 , 3.851, 3.854, 3.858, 3.862,\n",
       "       3.863, 3.864, 3.866, 3.867, 3.868, 3.87 , 3.871, 3.872, 3.873,\n",
       "       3.874, 3.875, 3.876, 3.877, 3.879, 3.88 , 3.881, 3.882, 3.884,\n",
       "       3.886, 3.888, 3.889, 3.891, 3.892, 3.893, 3.895, 3.898, 3.899,\n",
       "       3.9  , 3.901, 3.903, 3.906, 3.907, 3.909, 3.911, 3.913, 3.915,\n",
       "       3.916, 3.917, 3.918, 3.919, 3.92 , 3.921, 3.922, 3.924, 3.925,\n",
       "       3.927, 3.93 , 3.933, 3.934, 3.935, 3.936, 3.937, 3.942, 3.947,\n",
       "       3.948, 3.95 , 3.951, 3.953, 3.957, 3.962, 3.963, 3.964, 3.966,\n",
       "       3.969, 3.972, 3.973, 3.979, 3.981, 3.983, 3.985, 3.988, 3.989,\n",
       "       3.99 , 3.991, 3.995, 3.996, 3.997, 4.   , 4.002, 4.003, 4.004,\n",
       "       4.014, 4.018, 4.02 , 4.021, 4.023, 4.025, 4.026, 4.027, 4.029,\n",
       "       4.031, 4.034, 4.038, 4.044, 4.046, 4.054, 4.055, 4.056, 4.058,\n",
       "       4.061, 4.062, 4.066, 4.069, 4.071, 4.076, 4.078, 4.087, 4.088,\n",
       "       4.089, 4.093, 4.095, 4.098, 4.101, 4.103, 4.11 , 4.111, 4.117,\n",
       "       4.121, 4.124, 4.125, 4.127, 4.132, 4.133, 4.134, 4.143, 4.144,\n",
       "       4.151, 4.153, 4.158, 4.163, 4.169, 4.17 , 4.171, 4.178, 4.186,\n",
       "       4.187, 4.192, 4.193, 4.202, 4.203, 4.211, 4.222, 4.25 , 4.254,\n",
       "       4.273, 4.277, 4.282, 4.288, 4.293, 4.294, 4.301, 4.308, 4.449,\n",
       "       4.468])"
      ]
     },
     "execution_count": 17,
     "metadata": {},
     "output_type": "execute_result"
    }
   ],
   "source": [
    "np.sort(x)"
   ]
  },
  {
   "cell_type": "code",
   "execution_count": 36,
   "metadata": {},
   "outputs": [
    {
     "data": {
      "image/png": "[encoded data removed]",
      "text/plain": [
       "<Figure size 864x432 with 1 Axes>"
      ]
     },
     "metadata": {
      "needs_background": "light"
     },
     "output_type": "display_data"
    },
    {
     "data": {
      "text/plain": [
       "<Figure size 432x288 with 0 Axes>"
      ]
     },
     "metadata": {},
     "output_type": "display_data"
    }
   ],
   "source": [
    "from scipy.stats import ttest_ind\n",
    "fig,ax=plt.subplots(figsize=(12,6))\n",
    "walmart_data.CPI=np.round(walmart_data.CPI,1)\n",
    "x=walmart_data.CPI.unique()\n",
    "def p_value_unemployment (x):\n",
    "    cpi_sort=walmart_data[['CPI','Weekly_Sales']].sort_values(by ='CPI',ascending=False) \n",
    "    p_list=[]\n",
    "    for i in x:\n",
    "        mask1=cpi_sort.CPI>=i\n",
    "        mask2=cpi_sort.CPI<i\n",
    "        high_cpi_sale=cpi_sort[mask1]\n",
    "        high_cpi_sale\n",
    "        low_cpi_sale=cpi_sort[mask2]\n",
    "        low_cpi_sale\n",
    "        #applying t_test\n",
    "        data1=np.array(high_cpi_sale.Weekly_Sales)\n",
    "        data2=np.array(low_cpi_sale.Weekly_Sales)\n",
    "        stat, p = ttest_ind(data1, data2,equal_var=False)\n",
    "        p_list.append(p)\n",
    "    return p_list\n",
    "\n",
    "alpha=0.05\n",
    "p_value_list=p_value_unemployment(x)\n",
    "#p_list_impact=[i for i in p_value_list if i<0.05]\n",
    "#p_list_noimpact=[i for i in p_value_list if i>=0.05]\n",
    "ax.scatter(x,p_value_list,c='k',marker='^',label='p-value')\n",
    "plt.hlines(alpha,120,240,colors='r',label='alpha')\n",
    "ax.set_xlabel('Consumer Price Index (CPI)')\n",
    "ax.set_ylabel('p-value')\n",
    "ax.set_ylim(0.0,1)\n",
    "ax.set_title(\"Changes in p-value VS Consumer Price Index\")\n",
    "ax.legend()\n",
    "plt.show()\n",
    "plt.tight_layout()"
   ]
  },
  {
   "cell_type": "code",
   "execution_count": 34,
   "metadata": {},
   "outputs": [
    {
     "data": {
      "image/png": "[encoded data removed]",
      "text/plain": [
       "<Figure size 864x432 with 1 Axes>"
      ]
     },
     "metadata": {
      "needs_background": "light"
     },
     "output_type": "display_data"
    }
   ],
   "source": [
    "from scipy.stats import ttest_ind\n",
    "fig,ax=plt.subplots(figsize=(12,6))\n",
    "walmart_data.Fuel_Price=np.round(walmart_data.Fuel_Price,2)\n",
    "x=walmart_data.Fuel_Price.unique()\n",
    "def p_value_unemployment (x):\n",
    "    fuel_price_sort=walmart_data[['Weekly_Sales','Fuel_Price']].sort_values(by ='Fuel_Price',ascending=False) \n",
    "    p_list=[]\n",
    "    for i in x:\n",
    "        mask1=fuel_price_sort.Fuel_Price>=i\n",
    "        mask2=fuel_price_sort.Fuel_Price<i\n",
    "        fuel_4above_sales=fuel_price_sort[mask1]\n",
    "        fuel_4above_sales\n",
    "        fuel_4below_sales=fuel_price_sort[mask2]\n",
    "        fuel_4below_sales.Weekly_Sales\n",
    "        data1=np.array(fuel_4above_sales.Weekly_Sales)\n",
    "        data2=np.array(fuel_4below_sales.Weekly_Sales)\n",
    "        stat, p = ttest_ind(data1, data2,equal_var=False)\n",
    "        p_list.append(p)\n",
    "    return p_list\n",
    "p_value_list=p_value_unemployment(x)\n",
    "ax.scatter(x,p_value_list,c='b',label='p-value')\n",
    "ax.set_xlabel('Fuel Price ($/gal)')\n",
    "ax.set_ylabel('p-value')\n",
    "ax.set_xlim(2,6)\n",
    "plt.hlines(0.05,2,17,colors='r',label='alpha=0.05')\n",
    "ax.legend()\n",
    "ax.grid(b=True, which='minor', color='k', linestyle='-')\n",
    "ax.set_title(\"Changes in p-value VS Fuel Price\")\n",
    "plt.show()"
   ]
  },
  {
   "cell_type": "code",
   "execution_count": 39,
   "metadata": {},
   "outputs": [
    {
     "name": "stderr",
     "output_type": "stream",
     "text": [
      "/Users/nivzz/anaconda3/lib/python3.7/site-packages/scipy/stats/stats.py:5001: RuntimeWarning: divide by zero encountered in double_scalars\n",
      "  z = (bigu - meanrank) / sd\n"
     ]
    },
    {
     "data": {
      "image/png": "[encoded data removed]",
      "text/plain": [
       "<Figure size 864x432 with 1 Axes>"
      ]
     },
     "metadata": {
      "needs_background": "light"
     },
     "output_type": "display_data"
    }
   ],
   "source": [
    "from scipy.stats import mannwhitneyu\n",
    "fig,ax=plt.subplots(figsize=(12,6))\n",
    "walmart_data.Fuel_Price=np.round(walmart_data.Fuel_Price,2)\n",
    "x=walmart_data.Fuel_Price.unique()\n",
    "def p_value_unemployment (x):\n",
    "    fuel_price_sort=walmart_data[['Weekly_Sales','Fuel_Price']].sort_values(by ='Fuel_Price',ascending=False) \n",
    "    p_list=[]\n",
    "    for i in x:\n",
    "        mask1=fuel_price_sort.Fuel_Price>=i\n",
    "        mask2=fuel_price_sort.Fuel_Price<i\n",
    "        fuel_4above_sales=fuel_price_sort[mask1]\n",
    "        fuel_4above_sales\n",
    "        fuel_4below_sales=fuel_price_sort[mask2]\n",
    "        fuel_4below_sales.Weekly_Sales\n",
    "        data1=np.array(fuel_4above_sales.Weekly_Sales)\n",
    "        data2=np.array(fuel_4below_sales.Weekly_Sales)\n",
    "        stat, p = mannwhitneyu(data1, data2,alternative='greater')\n",
    "        p_list.append(p)\n",
    "    return p_list\n",
    "p_value_list=p_value_unemployment(x)\n",
    "ax.scatter(x,p_value_list,c='b',label='p-value')\n",
    "ax.set_xlabel('Fuel Price ($/gal)')\n",
    "ax.set_ylabel('p-value')\n",
    "ax.set_xlim(2,6)\n",
    "plt.hlines(0.05,2,17,colors='r',label='alpha=0.05')\n",
    "ax.legend()\n",
    "ax.grid(b=True, which='minor', color='k', linestyle='-')\n",
    "ax.set_title(\"Mann Whitney U Test : Changes in p-value VS Fuel Price\")\n",
    "plt.show()"
   ]
  },
  {
   "cell_type": "code",
   "execution_count": 26,
   "metadata": {},
   "outputs": [
    {
     "data": {
      "text/html": [
       "<div>\n",
       "<style scoped>\n",
       "    .dataframe tbody tr th:only-of-type {\n",
       "        vertical-align: middle;\n",
       "    }\n",
       "\n",
       "    .dataframe tbody tr th {\n",
       "        vertical-align: top;\n",
       "    }\n",
       "\n",
       "    .dataframe thead th {\n",
       "        text-align: right;\n",
       "    }\n",
       "</style>\n",
       "<table border=\"1\" class=\"dataframe\">\n",
       "  <thead>\n",
       "    <tr style=\"text-align: right;\">\n",
       "      <th></th>\n",
       "      <th>Store</th>\n",
       "      <th>Date</th>\n",
       "      <th>Weekly_Sales</th>\n",
       "      <th>Holiday_Flag</th>\n",
       "      <th>Temperature</th>\n",
       "      <th>Fuel_Price</th>\n",
       "      <th>CPI</th>\n",
       "      <th>Unemployment</th>\n",
       "    </tr>\n",
       "  </thead>\n",
       "  <tbody>\n",
       "    <tr>\n",
       "      <th>0</th>\n",
       "      <td>1</td>\n",
       "      <td>5/2/10</td>\n",
       "      <td>1643690.90</td>\n",
       "      <td>0</td>\n",
       "      <td>42.31</td>\n",
       "      <td>2.57</td>\n",
       "      <td>211.096358</td>\n",
       "      <td>8.106</td>\n",
       "    </tr>\n",
       "    <tr>\n",
       "      <th>1</th>\n",
       "      <td>1</td>\n",
       "      <td>12/2/10</td>\n",
       "      <td>1641957.44</td>\n",
       "      <td>1</td>\n",
       "      <td>38.51</td>\n",
       "      <td>2.55</td>\n",
       "      <td>211.242170</td>\n",
       "      <td>8.106</td>\n",
       "    </tr>\n",
       "    <tr>\n",
       "      <th>2</th>\n",
       "      <td>1</td>\n",
       "      <td>19-02-2010</td>\n",
       "      <td>1611968.17</td>\n",
       "      <td>0</td>\n",
       "      <td>39.93</td>\n",
       "      <td>2.51</td>\n",
       "      <td>211.289143</td>\n",
       "      <td>8.106</td>\n",
       "    </tr>\n",
       "    <tr>\n",
       "      <th>3</th>\n",
       "      <td>1</td>\n",
       "      <td>26-02-2010</td>\n",
       "      <td>1409727.59</td>\n",
       "      <td>0</td>\n",
       "      <td>46.63</td>\n",
       "      <td>2.56</td>\n",
       "      <td>211.319643</td>\n",
       "      <td>8.106</td>\n",
       "    </tr>\n",
       "    <tr>\n",
       "      <th>4</th>\n",
       "      <td>1</td>\n",
       "      <td>5/3/10</td>\n",
       "      <td>1554806.68</td>\n",
       "      <td>0</td>\n",
       "      <td>46.50</td>\n",
       "      <td>2.62</td>\n",
       "      <td>211.350143</td>\n",
       "      <td>8.106</td>\n",
       "    </tr>\n",
       "  </tbody>\n",
       "</table>\n",
       "</div>"
      ],
      "text/plain": [
       "   Store        Date  Weekly_Sales  Holiday_Flag  Temperature  Fuel_Price  \\\n",
       "0      1      5/2/10    1643690.90             0        42.31        2.57   \n",
       "1      1     12/2/10    1641957.44             1        38.51        2.55   \n",
       "2      1  19-02-2010    1611968.17             0        39.93        2.51   \n",
       "3      1  26-02-2010    1409727.59             0        46.63        2.56   \n",
       "4      1      5/3/10    1554806.68             0        46.50        2.62   \n",
       "\n",
       "          CPI  Unemployment  \n",
       "0  211.096358         8.106  \n",
       "1  211.242170         8.106  \n",
       "2  211.289143         8.106  \n",
       "3  211.319643         8.106  \n",
       "4  211.350143         8.106  "
      ]
     },
     "execution_count": 26,
     "metadata": {},
     "output_type": "execute_result"
    }
   ],
   "source": [
    "walmart_data.Fuel_Price=np.round(walmart_data.Fuel_Price,2)\n",
    "walmart_data.head()"
   ]
  },
  {
   "cell_type": "code",
   "execution_count": 13,
   "metadata": {},
   "outputs": [],
   "source": [
    "# A/B testing\n",
    "mask_fuel1=walmart_data.Weekly_Sales<=np.mean(walmart_data.Weekly_Sales)"
   ]
  },
  {
   "cell_type": "code",
   "execution_count": 14,
   "metadata": {},
   "outputs": [
    {
     "name": "stdout",
     "output_type": "stream",
     "text": [
      "3559\n"
     ]
    }
   ],
   "source": [
    "sample1=walmart_data[mask_fuel1].Weekly_Sales\n",
    "print(len(np.array(sample1)))"
   ]
  },
  {
   "cell_type": "code",
   "execution_count": 8,
   "metadata": {},
   "outputs": [],
   "source": [
    "mask_fuel2=walmart_data.Weekly_Sales>np.mean(walmart_data.Weekly_Sales)"
   ]
  },
  {
   "cell_type": "code",
   "execution_count": 9,
   "metadata": {},
   "outputs": [],
   "source": [
    "sample2=walmart_data[mask_fuel2].Weekly_Sales"
   ]
  },
  {
   "cell_type": "code",
   "execution_count": 10,
   "metadata": {},
   "outputs": [
    {
     "name": "stdout",
     "output_type": "stream",
     "text": [
      "2876\n"
     ]
    }
   ],
   "source": [
    "print(len(np.array(sample2)))"
   ]
  },
  {
   "cell_type": "code",
   "execution_count": 38,
   "metadata": {},
   "outputs": [
    {
     "name": "stdout",
     "output_type": "stream",
     "text": [
      "1046964.8775617732\n"
     ]
    }
   ],
   "source": [
    "avg=walmart_data.Weekly_Sales.mean()\n",
    "print(avg)"
   ]
  },
  {
   "cell_type": "code",
   "execution_count": 15,
   "metadata": {
    "scrolled": true
   },
   "outputs": [
    {
     "name": "stdout",
     "output_type": "stream",
     "text": [
      "-2759 400 3159\n"
     ]
    }
   ],
   "source": [
    "n1=400\n",
    "k1=len(sample1)-n1\n",
    "failure1=n1-k1\n",
    "print(failure1,n1,k1)"
   ]
  },
  {
   "cell_type": "code",
   "execution_count": 40,
   "metadata": {},
   "outputs": [
    {
     "name": "stdout",
     "output_type": "stream",
     "text": [
      "1373 2514 1141\n"
     ]
    }
   ],
   "source": [
    "\n",
    "n2=len(sample2)\n",
    "k2=len(success2)\n",
    "failure2=n2-k2\n",
    "print(failure2,n2,k2)"
   ]
  },
  {
   "cell_type": "code",
   "execution_count": 41,
   "metadata": {},
   "outputs": [
    {
     "name": "stdout",
     "output_type": "stream",
     "text": [
      "2186 1373\n"
     ]
    },
    {
     "data": {
      "image/png": "[encoded data removed]",
      "text/plain": [
       "<Figure size 864x360 with 1 Axes>"
      ]
     },
     "metadata": {
      "needs_background": "light"
     },
     "output_type": "display_data"
    }
   ],
   "source": [
    "import scipy.stats as stats\n",
    "fig, ax = plt.subplots(figsize=(12,5))\n",
    "x =np.round(walmart_data.Fuel_Price,2).unique()\n",
    "for (a,b,s, label) in [(1 + k1, 1 + failure1,\"r\", \"P(sample1)\"),(1 + k2, 1 + failure2,\"b\", \"P(sample2)\")]:\n",
    "    ax.plot(x,stats.norm(a,b).pdf(x),s,label=label)\n",
    "ax.legend(loc=\"upper right\")\n",
    "ax.set_xlabel(\"Fuel prices\")\n",
    "ax.set_ylabel(\"pdf\")\n",
    "ax.set_xlim(2.2,5)\n",
    "ax.set_title(\"Posterior Probabilities of Weekly Sales for Prices of Fuel above and below $3.2/gal \");\n",
    "print(failure1,failure2)"
   ]
  },
  {
   "cell_type": "code",
   "execution_count": 36,
   "metadata": {},
   "outputs": [
    {
     "name": "stdout",
     "output_type": "stream",
     "text": [
      "525 1132 607\n",
      "2764 5303 2539\n",
      "525 2764\n"
     ]
    },
    {
     "data": {
      "image/png": "[encoded data removed]",
      "text/plain": [
       "<Figure size 864x360 with 1 Axes>"
      ]
     },
     "metadata": {},
     "output_type": "display_data"
    }
   ],
   "source": [
    "mask_fuel1=walmart_data.Unemployment>9.0\n",
    "sample1=walmart_data[mask_fuel1].Weekly_Sales\n",
    "mask_fuel2=walmart_data.Unemployment<=9.0\n",
    "sample2=walmart_data[mask_fuel2].Weekly_Sales\n",
    "avg=walmart_data.Weekly_Sales.mean()\n",
    "\n",
    "success1=sample1[sample1>699999]\n",
    "n1=len(sample1)\n",
    "k1=len(success1)\n",
    "failure1=n1-k1\n",
    "print(failure1,n1,k1)\n",
    "\n",
    "success2=sample2[sample2>avg]\n",
    "n2=len(sample2)\n",
    "k2=len(success2)\n",
    "failure2=n2-k2\n",
    "print(failure2,n2,k2)\n",
    "\n",
    "import scipy.stats as stats\n",
    "fig, ax = plt.subplots(figsize=(12,5))\n",
    "x =walmart_data.Unemployment.unique()\n",
    "for (a,b,s, label) in [(1 + k1, 1 + failure1,\"r\", \"P(sample1)\"),(1 + k2, 1 + failure2,\"b\", \"P(sample2)\")]:\n",
    "    ax.plot(x,stats.norm(a,b).pdf(x),s,label=label)\n",
    "ax.legend(loc=\"upper right\")\n",
    "ax.set_xlabel(\"Unemployment index\")\n",
    "ax.set_ylabel(\"pdf\")\n",
    "ax.set_xlim(2,15)\n",
    "ax.set_title(\"Posterior Probabilities of Weekly Sales for Prices of Fuel above and below $3.2/gal \");\n",
    "print(failure1,failure2)"
   ]
  },
  {
   "cell_type": "code",
   "execution_count": null,
   "metadata": {},
   "outputs": [],
   "source": []
  },
  {
   "cell_type": "code",
   "execution_count": null,
   "metadata": {},
   "outputs": [],
   "source": []
  },
  {
   "cell_type": "code",
   "execution_count": null,
   "metadata": {},
   "outputs": [],
   "source": []
  },
  {
   "cell_type": "code",
   "execution_count": null,
   "metadata": {},
   "outputs": [],
   "source": []
  },
  {
   "cell_type": "code",
   "execution_count": null,
   "metadata": {},
   "outputs": [],
   "source": []
  },
  {
   "cell_type": "code",
   "execution_count": null,
   "metadata": {},
   "outputs": [],
   "source": []
  },
  {
   "cell_type": "code",
   "execution_count": null,
   "metadata": {},
   "outputs": [],
   "source": []
  },
  {
   "cell_type": "code",
   "execution_count": null,
   "metadata": {},
   "outputs": [],
   "source": []
  },
  {
   "cell_type": "code",
   "execution_count": 45,
   "metadata": {},
   "outputs": [
    {
     "data": {
      "text/plain": [
       "6435"
      ]
     },
     "execution_count": 45,
     "metadata": {},
     "output_type": "execute_result"
    }
   ],
   "source": [
    "len(walmart_data.Fuel_Price)"
   ]
  },
  {
   "cell_type": "code",
   "execution_count": 9,
   "metadata": {},
   "outputs": [
    {
     "name": "stdout",
     "output_type": "stream",
     "text": [
      "450 5985\n"
     ]
    }
   ],
   "source": [
    "x=walmart_data.Holiday_Flag\n",
    "y=np.array(x)\n",
    "holiday=sum(y)\n",
    "holiday\n",
    "non_holiday=len(x)-holiday\n",
    "print(holiday, non_holiday)"
   ]
  },
  {
   "cell_type": "code",
   "execution_count": 19,
   "metadata": {},
   "outputs": [
    {
     "data": {
      "text/plain": [
       "505299551.56"
      ]
     },
     "execution_count": 19,
     "metadata": {},
     "output_type": "execute_result"
    }
   ],
   "source": [
    "mask_holiday=walmart_data.Holiday_Flag==1\n",
    "sales_total=walmart_data[mask_holiday].Weekly_Sales.sum()\n",
    "sales_total"
   ]
  },
  {
   "cell_type": "code",
   "execution_count": 16,
   "metadata": {},
   "outputs": [
    {
     "data": {
      "text/plain": [
       "6231919435.55"
      ]
     },
     "execution_count": 16,
     "metadata": {},
     "output_type": "execute_result"
    }
   ],
   "source": [
    "mask_nonholiday=walmart_data.Holiday_Flag==0\n",
    "sales_total_non=walmart_data[mask_nonholiday].Weekly_Sales.sum()\n",
    "sales_total_non"
   ]
  },
  {
   "cell_type": "code",
   "execution_count": 65,
   "metadata": {},
   "outputs": [
    {
     "data": {
      "text/plain": [
       "1122887.8923555557"
      ]
     },
     "execution_count": 65,
     "metadata": {},
     "output_type": "execute_result"
    }
   ],
   "source": [
    "x=sales_total/holiday\n",
    "x"
   ]
  },
  {
   "cell_type": "code",
   "execution_count": 64,
   "metadata": {},
   "outputs": [
    {
     "data": {
      "text/plain": [
       "1041256.3802088555"
      ]
     },
     "execution_count": 64,
     "metadata": {},
     "output_type": "execute_result"
    }
   ],
   "source": [
    "y=sales_total_non/non_holiday\n",
    "y"
   ]
  },
  {
   "cell_type": "code",
   "execution_count": 66,
   "metadata": {},
   "outputs": [
    {
     "data": {
      "text/plain": [
       "1.0783971303305018"
      ]
     },
     "execution_count": 66,
     "metadata": {},
     "output_type": "execute_result"
    }
   ],
   "source": []
  },
  {
   "cell_type": "code",
   "execution_count": 30,
   "metadata": {},
   "outputs": [
    {
     "data": {
      "text/plain": [
       "<matplotlib.axes._subplots.AxesSubplot at 0x1a3147dd30>"
      ]
     },
     "execution_count": 30,
     "metadata": {},
     "output_type": "execute_result"
    },
    {
     "data": {
      "image/png": "[encoded data removed]",
      "text/plain": [
       "<Figure size 432x288 with 1 Axes>"
      ]
     },
     "metadata": {},
     "output_type": "display_data"
    }
   ],
   "source": [
    "import seaborn as sns\n",
    "sns.boxplot(x=walmart_data.Holiday_Flag,y=walmart_data.Weekly_Sales,data=walmart_data)\n",
    "\n",
    "\n",
    "\n",
    "\n"
   ]
  },
  {
   "cell_type": "code",
   "execution_count": null,
   "metadata": {
    "scrolled": true
   },
   "outputs": [],
   "source": []
  },
  {
   "cell_type": "code",
   "execution_count": null,
   "metadata": {},
   "outputs": [],
   "source": []
  },
  {
   "cell_type": "code",
   "execution_count": null,
   "metadata": {},
   "outputs": [],
   "source": []
  },
  {
   "cell_type": "code",
   "execution_count": null,
   "metadata": {},
   "outputs": [],
   "source": []
  },
  {
   "cell_type": "code",
   "execution_count": null,
   "metadata": {},
   "outputs": [],
   "source": []
  },
  {
   "cell_type": "code",
   "execution_count": null,
   "metadata": {},
   "outputs": [],
   "source": []
  },
  {
   "cell_type": "code",
   "execution_count": null,
   "metadata": {},
   "outputs": [],
   "source": []
  },
  {
   "cell_type": "code",
   "execution_count": null,
   "metadata": {},
   "outputs": [],
   "source": []
  },
  {
   "cell_type": "code",
   "execution_count": null,
   "metadata": {},
   "outputs": [],
   "source": []
  },
  {
   "cell_type": "code",
   "execution_count": null,
   "metadata": {},
   "outputs": [],
   "source": []
  },
  {
   "cell_type": "code",
   "execution_count": null,
   "metadata": {},
   "outputs": [],
   "source": []
  },
  {
   "cell_type": "code",
   "execution_count": null,
   "metadata": {},
   "outputs": [],
   "source": []
  },
  {
   "cell_type": "code",
   "execution_count": null,
   "metadata": {},
   "outputs": [],
   "source": []
  },
  {
   "cell_type": "code",
   "execution_count": null,
   "metadata": {},
   "outputs": [],
   "source": []
  },
  {
   "cell_type": "code",
   "execution_count": null,
   "metadata": {},
   "outputs": [],
   "source": []
  },
  {
   "cell_type": "code",
   "execution_count": null,
   "metadata": {},
   "outputs": [],
   "source": []
  },
  {
   "cell_type": "code",
   "execution_count": null,
   "metadata": {},
   "outputs": [],
   "source": []
  },
  {
   "cell_type": "code",
   "execution_count": null,
   "metadata": {},
   "outputs": [],
   "source": []
  },
  {
   "cell_type": "code",
   "execution_count": null,
   "metadata": {},
   "outputs": [],
   "source": []
  },
  {
   "cell_type": "code",
   "execution_count": 226,
   "metadata": {},
   "outputs": [
    {
     "data": {
      "text/plain": [
       "pandas.core.frame.DataFrame"
      ]
     },
     "execution_count": 226,
     "metadata": {},
     "output_type": "execute_result"
    }
   ],
   "source": [
    "import datetime as dt\n",
    "walmart_data['Date'] = pd.to_datetime(walmart_data['Date'])\n",
    "walmart_data['Date']=walmart_data['Date'].map(dt.datetime.toordinal)\n",
    "x_features=walmart_data[['Date']]\n",
    "type(x_features)"
   ]
  },
  {
   "cell_type": "code",
   "execution_count": 227,
   "metadata": {},
   "outputs": [
    {
     "data": {
      "text/html": [
       "<div>\n",
       "<style scoped>\n",
       "    .dataframe tbody tr th:only-of-type {\n",
       "        vertical-align: middle;\n",
       "    }\n",
       "\n",
       "    .dataframe tbody tr th {\n",
       "        vertical-align: top;\n",
       "    }\n",
       "\n",
       "    .dataframe thead th {\n",
       "        text-align: right;\n",
       "    }\n",
       "</style>\n",
       "<table border=\"1\" class=\"dataframe\">\n",
       "  <thead>\n",
       "    <tr style=\"text-align: right;\">\n",
       "      <th></th>\n",
       "      <th>Weekly_Sales</th>\n",
       "    </tr>\n",
       "  </thead>\n",
       "  <tbody>\n",
       "    <tr>\n",
       "      <th>0</th>\n",
       "      <td>1643690.90</td>\n",
       "    </tr>\n",
       "    <tr>\n",
       "      <th>1</th>\n",
       "      <td>1641957.44</td>\n",
       "    </tr>\n",
       "    <tr>\n",
       "      <th>2</th>\n",
       "      <td>1611968.17</td>\n",
       "    </tr>\n",
       "    <tr>\n",
       "      <th>3</th>\n",
       "      <td>1409727.59</td>\n",
       "    </tr>\n",
       "    <tr>\n",
       "      <th>4</th>\n",
       "      <td>1554806.68</td>\n",
       "    </tr>\n",
       "  </tbody>\n",
       "</table>\n",
       "</div>"
      ],
      "text/plain": [
       "   Weekly_Sales\n",
       "0    1643690.90\n",
       "1    1641957.44\n",
       "2    1611968.17\n",
       "3    1409727.59\n",
       "4    1554806.68"
      ]
     },
     "execution_count": 227,
     "metadata": {},
     "output_type": "execute_result"
    }
   ],
   "source": [
    "y_target=walmart_data[['Weekly_Sales']]\n",
    "y_target.head()"
   ]
  },
  {
   "cell_type": "code",
   "execution_count": 218,
   "metadata": {},
   "outputs": [
    {
     "data": {
      "text/plain": [
       "(6435, 1)"
      ]
     },
     "execution_count": 218,
     "metadata": {},
     "output_type": "execute_result"
    }
   ],
   "source": [
    "x_features.shape"
   ]
  },
  {
   "cell_type": "code",
   "execution_count": 219,
   "metadata": {},
   "outputs": [
    {
     "data": {
      "text/plain": [
       "(6435, 1)"
      ]
     },
     "execution_count": 219,
     "metadata": {},
     "output_type": "execute_result"
    }
   ],
   "source": [
    "y_target.shape"
   ]
  },
  {
   "cell_type": "code",
   "execution_count": 220,
   "metadata": {},
   "outputs": [],
   "source": [
    "from sklearn.model_selection import train_test_split\n",
    "x_train,x_test,y_train,y_test=train_test_split(x_features,y_target,random_state=30)"
   ]
  },
  {
   "cell_type": "code",
   "execution_count": 221,
   "metadata": {},
   "outputs": [
    {
     "name": "stdout",
     "output_type": "stream",
     "text": [
      "(4826, 1) (1609, 1) (4826, 1) (1609, 1)\n"
     ]
    }
   ],
   "source": [
    "print(x_train.shape, x_test.shape, y_train.shape, y_test.shape)"
   ]
  },
  {
   "cell_type": "code",
   "execution_count": 222,
   "metadata": {},
   "outputs": [
    {
     "data": {
      "text/plain": [
       "LinearRegression(copy_X=True, fit_intercept=True, n_jobs=None,\n",
       "         normalize=False)"
      ]
     },
     "execution_count": 222,
     "metadata": {},
     "output_type": "execute_result"
    }
   ],
   "source": [
    "from sklearn.linear_model import LinearRegression\n",
    "linreg=LinearRegression()\n",
    "linreg.fit(x_train,y_train)"
   ]
  },
  {
   "cell_type": "code",
   "execution_count": 223,
   "metadata": {},
   "outputs": [
    {
     "name": "stdout",
     "output_type": "stream",
     "text": [
      "[1046844.25660174]\n",
      "[[0.]]\n"
     ]
    }
   ],
   "source": [
    "print(linreg.intercept_)\n",
    "print(linreg.coef_)"
   ]
  },
  {
   "cell_type": "code",
   "execution_count": 228,
   "metadata": {},
   "outputs": [
    {
     "data": {
      "text/plain": [
       "array([[1046844.25660174],\n",
       "       [1046844.25660174],\n",
       "       [1046844.25660174],\n",
       "       ...,\n",
       "       [1046844.25660174],\n",
       "       [1046844.25660174],\n",
       "       [1046844.25660174]])"
      ]
     },
     "execution_count": 228,
     "metadata": {},
     "output_type": "execute_result"
    }
   ],
   "source": [
    "y_pred=linreg.predict(x_test)\n",
    "y_pred"
   ]
  },
  {
   "cell_type": "code",
   "execution_count": 229,
   "metadata": {},
   "outputs": [],
   "source": [
    "from sklearn import metrics\n",
    "import numpy as np"
   ]
  },
  {
   "cell_type": "code",
   "execution_count": 230,
   "metadata": {},
   "outputs": [
    {
     "name": "stdout",
     "output_type": "stream",
     "text": [
      "552576.5425448267\n"
     ]
    }
   ],
   "source": [
    "print(np.sqrt(metrics.mean_squared_error(y_test,y_pred)))"
   ]
  },
  {
   "cell_type": "code",
   "execution_count": null,
   "metadata": {},
   "outputs": [],
   "source": []
  }
 ],
 "metadata": {
  "kernelspec": {
   "display_name": "Python 3",
   "language": "python",
   "name": "python3"
  },
  "language_info": {
   "codemirror_mode": {
    "name": "ipython",
    "version": 3
   },
   "file_extension": ".py",
   "mimetype": "text/x-python",
   "name": "python",
   "nbconvert_exporter": "python",
   "pygments_lexer": "ipython3",
   "version": "3.7.3"
  }
 },
 "nbformat": 4,
 "nbformat_minor": 2
}
